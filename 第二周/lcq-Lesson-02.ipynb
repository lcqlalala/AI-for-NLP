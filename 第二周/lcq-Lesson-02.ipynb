{
 "cells": [
  {
   "cell_type": "code",
   "execution_count": 1,
   "metadata": {
    "collapsed": false
   },
   "outputs": [],
   "source": [
    "import random"
   ]
  },
  {
   "cell_type": "code",
   "execution_count": 2,
   "metadata": {
    "collapsed": false
   },
   "outputs": [],
   "source": [
    "\"\"\"adj* => adj* adj | adj null\"\"\"\n",
    "\n",
    "def adj(): \n",
    "    return random.choice('蓝色的 | 好看的 | 小小的'.split('|')).split()[0]"
   ]
  },
  {
   "cell_type": "code",
   "execution_count": 3,
   "metadata": {
    "collapsed": false
   },
   "outputs": [],
   "source": [
    "def adj_star(): \n",
    "    return random.choice([lambda:'',lambda: adj() + adj_star()])()"
   ]
  },
  {
   "cell_type": "code",
   "execution_count": 4,
   "metadata": {
    "collapsed": false
   },
   "outputs": [
    {
     "data": {
      "text/plain": [
       "'好看的'"
      ]
     },
     "execution_count": 4,
     "metadata": {},
     "output_type": "execute_result"
    }
   ],
   "source": [
    "adj_star()"
   ]
  },
  {
   "cell_type": "code",
   "execution_count": 5,
   "metadata": {
    "collapsed": true
   },
   "outputs": [],
   "source": [
    "def adj_star_2():         #无限循环，报错RecursionError\n",
    "    return random.choice(['',adj() + adj_star_2()])"
   ]
  },
  {
   "cell_type": "code",
   "execution_count": 6,
   "metadata": {
    "collapsed": false
   },
   "outputs": [],
   "source": [
    "coordination_source = \"\"\"\n",
    "{name:'兰州', geoCoord:[103.73, 36.03]},\n",
    "{name:'嘉峪关', geoCoord:[98.17, 39.47]},\n",
    "{name:'西宁', geoCoord:[101.74, 36.56]},\n",
    "{name:'成都', geoCoord:[104.06, 30.67]},\n",
    "{name:'石家庄', geoCoord:[114.48, 38.03]},\n",
    "{name:'拉萨', geoCoord:[102.73, 25.04]},\n",
    "{name:'贵阳', geoCoord:[106.71, 26.57]},\n",
    "{name:'武汉', geoCoord:[114.31, 30.52]},\n",
    "{name:'郑州', geoCoord:[113.65, 34.76]},\n",
    "{name:'济南', geoCoord:[117, 36.65]},\n",
    "{name:'南京', geoCoord:[118.78, 32.04]},\n",
    "{name:'合肥', geoCoord:[117.27, 31.86]},\n",
    "{name:'杭州', geoCoord:[120.19, 30.26]},\n",
    "{name:'南昌', geoCoord:[115.89, 28.68]},\n",
    "{name:'福州', geoCoord:[119.3, 26.08]},\n",
    "{name:'广州', geoCoord:[113.23, 23.16]},\n",
    "{name:'长沙', geoCoord:[113, 28.21]},\n",
    "//{name:'海口', geoCoord:[110.35, 20.02]},\n",
    "{name:'沈阳', geoCoord:[123.38, 41.8]},\n",
    "{name:'长春', geoCoord:[125.35, 43.88]},\n",
    "{name:'哈尔滨', geoCoord:[126.63, 45.75]},\n",
    "{name:'太原', geoCoord:[112.53, 37.87]},\n",
    "{name:'西安', geoCoord:[108.95, 34.27]},\n",
    "//{name:'台湾', geoCoord:[121.30, 25.03]},\n",
    "{name:'北京', geoCoord:[116.46, 39.92]},\n",
    "{name:'上海', geoCoord:[121.48, 31.22]},\n",
    "{name:'重庆', geoCoord:[106.54, 29.59]},\n",
    "{name:'天津', geoCoord:[117.2, 39.13]},\n",
    "{name:'呼和浩特', geoCoord:[111.65, 40.82]},\n",
    "{name:'南宁', geoCoord:[108.33, 22.84]},\n",
    "//{name:'西藏', geoCoord:[91.11, 29.97]},\n",
    "{name:'银川', geoCoord:[106.27, 38.47]},\n",
    "{name:'乌鲁木齐', geoCoord:[87.68, 43.77]},\n",
    "{name:'香港', geoCoord:[114.17, 22.28]},\n",
    "{name:'澳门', geoCoord:[113.54, 22.19]}\n",
    "\"\"\""
   ]
  },
  {
   "cell_type": "code",
   "execution_count": 7,
   "metadata": {
    "collapsed": true
   },
   "outputs": [],
   "source": [
    "city_location = {}"
   ]
  },
  {
   "cell_type": "code",
   "execution_count": 8,
   "metadata": {
    "collapsed": true
   },
   "outputs": [],
   "source": [
    "test_string = \"{name:'兰州', geoCoord:[103.73, 36.03]}\""
   ]
  },
  {
   "cell_type": "code",
   "execution_count": 9,
   "metadata": {
    "collapsed": false
   },
   "outputs": [
    {
     "data": {
      "text/plain": [
       "[('兰州', '103.73', '36.03')]"
      ]
     },
     "execution_count": 9,
     "metadata": {},
     "output_type": "execute_result"
    }
   ],
   "source": [
    "import re\n",
    "pattern = re.compile(r\"name:'(\\w+)',\\s+geoCoord:\\[(\\d+.\\d+),\\s(\\d+.\\d+)\\]\")\n",
    "re.findall(pattern,test_string)"
   ]
  },
  {
   "cell_type": "code",
   "execution_count": 10,
   "metadata": {
    "collapsed": false
   },
   "outputs": [],
   "source": [
    "for line in coordination_source.split('\\n'):\n",
    "    city_info = re.findall(pattern,line)\n",
    "    \n",
    "    if not city_info: continue\n",
    "        \n",
    "    city, long, lat = city_info[0]\n",
    "    \n",
    "    long, lat = float(long),float(lat)\n",
    "    \n",
    "    city_location[city] = (long,lat)"
   ]
  },
  {
   "cell_type": "code",
   "execution_count": 11,
   "metadata": {
    "collapsed": false
   },
   "outputs": [
    {
     "data": {
      "text/plain": [
       "{'上海': (121.48, 31.22),\n",
       " '乌鲁木齐': (87.68, 43.77),\n",
       " '兰州': (103.73, 36.03),\n",
       " '北京': (116.46, 39.92),\n",
       " '南京': (118.78, 32.04),\n",
       " '南宁': (108.33, 22.84),\n",
       " '南昌': (115.89, 28.68),\n",
       " '台湾': (121.3, 25.03),\n",
       " '合肥': (117.27, 31.86),\n",
       " '呼和浩特': (111.65, 40.82),\n",
       " '哈尔滨': (126.63, 45.75),\n",
       " '嘉峪关': (98.17, 39.47),\n",
       " '天津': (117.2, 39.13),\n",
       " '太原': (112.53, 37.87),\n",
       " '广州': (113.23, 23.16),\n",
       " '成都': (104.06, 30.67),\n",
       " '拉萨': (102.73, 25.04),\n",
       " '杭州': (120.19, 30.26),\n",
       " '武汉': (114.31, 30.52),\n",
       " '沈阳': (123.38, 41.8),\n",
       " '济南': (117.0, 36.65),\n",
       " '海口': (110.35, 20.02),\n",
       " '澳门': (113.54, 22.19),\n",
       " '石家庄': (114.48, 38.03),\n",
       " '福州': (119.3, 26.08),\n",
       " '西宁': (101.74, 36.56),\n",
       " '西安': (108.95, 34.27),\n",
       " '西藏': (91.11, 29.97),\n",
       " '贵阳': (106.71, 26.57),\n",
       " '郑州': (113.65, 34.76),\n",
       " '重庆': (106.54, 29.59),\n",
       " '银川': (106.27, 38.47),\n",
       " '长春': (125.35, 43.88),\n",
       " '长沙': (113.0, 28.21),\n",
       " '香港': (114.17, 22.28)}"
      ]
     },
     "execution_count": 11,
     "metadata": {},
     "output_type": "execute_result"
    }
   ],
   "source": [
    "city_location"
   ]
  },
  {
   "cell_type": "code",
   "execution_count": 12,
   "metadata": {
    "collapsed": true
   },
   "outputs": [],
   "source": [
    "import math\n",
    "\n",
    "def geo_distance(origin, destination):\n",
    "    \"\"\"\n",
    "    Calculate the Haversine distance.\n",
    "\n",
    "    Parameters\n",
    "    ----------\n",
    "    origin : tuple of float\n",
    "        (lat, long)\n",
    "    destination : tuple of float\n",
    "        (lat, long)\n",
    "\n",
    "    Returns\n",
    "    -------\n",
    "    distance_in_km : float\n",
    "\n",
    "    Examples\n",
    "    --------\n",
    "    >>> origin = (48.1372, 11.5756)  # Munich\n",
    "    >>> destination = (52.5186, 13.4083)  # Berlin\n",
    "    >>> round(distance(origin, destination), 1)\n",
    "    504.2\n",
    "    \"\"\"\n",
    "    lat1, lon1 = origin\n",
    "    lat2, lon2 = destination\n",
    "    radius = 6371  # km\n",
    "\n",
    "    dlat = math.radians(lat2 - lat1)\n",
    "    dlon = math.radians(lon2 - lon1)\n",
    "    a = (math.sin(dlat / 2) * math.sin(dlat / 2) +\n",
    "         math.cos(math.radians(lat1)) * math.cos(math.radians(lat2)) *\n",
    "         math.sin(dlon / 2) * math.sin(dlon / 2))\n",
    "    c = 2 * math.atan2(math.sqrt(a), math.sqrt(1 - a))\n",
    "    d = radius * c\n",
    "\n",
    "    return d"
   ]
  },
  {
   "cell_type": "code",
   "execution_count": 13,
   "metadata": {
    "collapsed": true
   },
   "outputs": [],
   "source": [
    "def get_geo_distance(city1,city2):\n",
    "    return geo_distance(city_location[city1],city_location[city2])"
   ]
  },
  {
   "cell_type": "code",
   "execution_count": 14,
   "metadata": {
    "collapsed": false
   },
   "outputs": [
    {
     "data": {
      "text/plain": [
       "665.2271362574077"
      ]
     },
     "execution_count": 14,
     "metadata": {},
     "output_type": "execute_result"
    }
   ],
   "source": [
    "get_geo_distance('北京','长沙')"
   ]
  },
  {
   "cell_type": "code",
   "execution_count": 15,
   "metadata": {
    "collapsed": true
   },
   "outputs": [],
   "source": [
    "import networkx as nx"
   ]
  },
  {
   "cell_type": "code",
   "execution_count": 16,
   "metadata": {
    "collapsed": true
   },
   "outputs": [],
   "source": [
    "city_graph = nx.Graph()\n",
    "city_graph.add_nodes_from(list(city_location.keys()))"
   ]
  },
  {
   "cell_type": "code",
   "execution_count": 17,
   "metadata": {
    "collapsed": true
   },
   "outputs": [],
   "source": [
    "%matplotlib inline"
   ]
  },
  {
   "cell_type": "code",
   "execution_count": 18,
   "metadata": {
    "collapsed": false
   },
   "outputs": [],
   "source": [
    "from pylab import *\n",
    "mpl.rcParams['font.sans-serif'] = ['SimHei']  "
   ]
  },
  {
   "cell_type": "code",
   "execution_count": 19,
   "metadata": {
    "collapsed": false
   },
   "outputs": [
    {
     "data": {
      "image/png": "[encoded data removed]",
      "text/plain": [
       "<matplotlib.figure.Figure at 0x2210d37ac8>"
      ]
     },
     "metadata": {},
     "output_type": "display_data"
    }
   ],
   "source": [
    "import matplotlib.pyplot as plt\n",
    "nx.draw(city_graph,city_location,with_labels=True,node_size=30)"
   ]
  },
  {
   "cell_type": "code",
   "execution_count": 20,
   "metadata": {
    "collapsed": false
   },
   "outputs": [
    {
     "name": "stdout",
     "output_type": "stream",
     "text": [
      "['C:\\\\Program Files\\\\Anaconda3\\\\lib\\\\site-packages\\\\matplotlib']\n"
     ]
    }
   ],
   "source": [
    "import matplotlib\n",
    "print(matplotlib.__path__)"
   ]
  },
  {
   "cell_type": "code",
   "execution_count": 21,
   "metadata": {
    "collapsed": false
   },
   "outputs": [],
   "source": [
    "from collections import defaultdict\n",
    "threshold = 300\n",
    "city_connection = defaultdict(list)"
   ]
  },
  {
   "cell_type": "code",
   "execution_count": 22,
   "metadata": {
    "collapsed": false
   },
   "outputs": [
    {
     "data": {
      "text/plain": [
       "defaultdict(list, {})"
      ]
     },
     "execution_count": 22,
     "metadata": {},
     "output_type": "execute_result"
    }
   ],
   "source": [
    "city_connection"
   ]
  },
  {
   "cell_type": "code",
   "execution_count": 23,
   "metadata": {
    "collapsed": true
   },
   "outputs": [],
   "source": [
    "for c1 in city_location:\n",
    "    for c2 in city_location:\n",
    "        if c1 == c2 : continue\n",
    "        \n",
    "        distance = get_geo_distance(c1,c2)\n",
    "        \n",
    "        if distance < threshold :\n",
    "            city_connection[c1].append(c2)\n",
    "            city_connection[c2].append(c1)"
   ]
  },
  {
   "cell_type": "code",
   "execution_count": 24,
   "metadata": {
    "collapsed": false
   },
   "outputs": [
    {
     "data": {
      "text/plain": [
       "defaultdict(list,\n",
       "            {'上海': ['杭州', '杭州'],\n",
       "             '兰州': ['银川', '成都', '银川', '成都', '西宁', '西宁'],\n",
       "             '北京': ['济南', '石家庄', '天津', '济南', '石家庄', '天津'],\n",
       "             '南京': ['杭州', '杭州', '合肥', '合肥'],\n",
       "             '南宁': ['海口', '贵阳', '海口', '贵阳'],\n",
       "             '南昌': ['武汉', '武汉', '合肥', '合肥'],\n",
       "             '台湾': ['福州', '福州'],\n",
       "             '合肥': ['南京', '南昌', '南京', '南昌', '济南', '济南'],\n",
       "             '呼和浩特': ['太原', '太原'],\n",
       "             '哈尔滨': ['长春', '长春'],\n",
       "             '天津': ['北京', '济南', '北京', '济南'],\n",
       "             '太原': ['呼和浩特', '郑州', '石家庄', '呼和浩特', '郑州', '石家庄'],\n",
       "             '广州': ['长沙', '长沙', '澳门', '香港', '澳门', '香港'],\n",
       "             '成都': ['拉萨', '重庆', '拉萨', '重庆', '兰州', '西宁', '兰州', '西宁'],\n",
       "             '拉萨': ['成都', '西宁', '成都', '西宁'],\n",
       "             '杭州': ['福州', '南京', '上海', '福州', '南京', '上海'],\n",
       "             '武汉': ['长沙', '长沙', '南昌', '郑州', '南昌', '郑州'],\n",
       "             '沈阳': ['长春', '长春'],\n",
       "             '济南': ['合肥', '北京', '合肥', '北京', '石家庄', '天津', '石家庄', '天津'],\n",
       "             '海口': ['南宁', '南宁'],\n",
       "             '澳门': ['长沙', '广州', '长沙', '广州', '香港', '香港'],\n",
       "             '石家庄': ['太原', '北京', '济南', '郑州', '太原', '北京', '济南', '郑州'],\n",
       "             '福州': ['台湾', '杭州', '台湾', '杭州'],\n",
       "             '西宁': ['拉萨', '成都', '兰州', '拉萨', '成都', '兰州'],\n",
       "             '贵阳': ['重庆', '南宁', '重庆', '南宁'],\n",
       "             '郑州': ['太原', '长沙', '武汉', '太原', '长沙', '武汉', '石家庄', '石家庄'],\n",
       "             '重庆': ['银川', '成都', '贵阳', '银川', '成都', '贵阳'],\n",
       "             '银川': ['重庆', '重庆', '兰州', '兰州'],\n",
       "             '长春': ['哈尔滨', '哈尔滨', '沈阳', '沈阳'],\n",
       "             '长沙': ['广州',\n",
       "              '武汉',\n",
       "              '澳门',\n",
       "              '郑州',\n",
       "              '香港',\n",
       "              '广州',\n",
       "              '武汉',\n",
       "              '澳门',\n",
       "              '郑州',\n",
       "              '香港'],\n",
       "             '香港': ['长沙', '广州', '澳门', '长沙', '广州', '澳门']})"
      ]
     },
     "execution_count": 24,
     "metadata": {},
     "output_type": "execute_result"
    }
   ],
   "source": [
    "city_connection"
   ]
  },
  {
   "cell_type": "code",
   "execution_count": 25,
   "metadata": {
    "collapsed": true
   },
   "outputs": [],
   "source": [
    "%matplotlib inline\n",
    "from pylab import *\n",
    "mpl.rcParams['font.sans-serif'] = ['SimHei'] "
   ]
  },
  {
   "cell_type": "code",
   "execution_count": 26,
   "metadata": {
    "collapsed": false
   },
   "outputs": [
    {
     "data": {
      "image/png": "[encoded data removed]",
      "text/plain": [
       "<matplotlib.figure.Figure at 0x2210834438>"
      ]
     },
     "metadata": {},
     "output_type": "display_data"
    }
   ],
   "source": [
    "city_with_road = nx.Graph(city_connection)\n",
    "nx.draw(city_with_road,city_location,with_labels=True,node_size=30)"
   ]
  },
  {
   "cell_type": "code",
   "execution_count": 27,
   "metadata": {
    "collapsed": true
   },
   "outputs": [],
   "source": [
    "from collections import defaultdict\n",
    "simple_connection_info_src = {\n",
    "    '北京': ['太原', '沈阳'],\n",
    "    '太原': ['北京', '西安', '郑州'],\n",
    "    '兰州': ['西安'],\n",
    "    '郑州': ['太原'],\n",
    "    '西安': ['兰州', '长沙'],\n",
    "    '长沙': ['福州', '南宁'],\n",
    "    '沈阳': ['北京']\n",
    "}"
   ]
  },
  {
   "cell_type": "code",
   "execution_count": 28,
   "metadata": {
    "collapsed": false
   },
   "outputs": [],
   "source": [
    "simple_connection_info = defaultdict(list)"
   ]
  },
  {
   "cell_type": "code",
   "execution_count": 29,
   "metadata": {
    "collapsed": true
   },
   "outputs": [],
   "source": [
    "simple_connection_info.update(simple_connection_info_src)"
   ]
  },
  {
   "cell_type": "code",
   "execution_count": 30,
   "metadata": {
    "collapsed": false
   },
   "outputs": [
    {
     "data": {
      "text/plain": [
       "defaultdict(list,\n",
       "            {'兰州': ['西安'],\n",
       "             '北京': ['太原', '沈阳'],\n",
       "             '太原': ['北京', '西安', '郑州'],\n",
       "             '沈阳': ['北京'],\n",
       "             '西安': ['兰州', '长沙'],\n",
       "             '郑州': ['太原'],\n",
       "             '长沙': ['福州', '南宁']})"
      ]
     },
     "execution_count": 30,
     "metadata": {},
     "output_type": "execute_result"
    }
   ],
   "source": [
    "simple_connection_info"
   ]
  },
  {
   "cell_type": "code",
   "execution_count": 56,
   "metadata": {
    "collapsed": false
   },
   "outputs": [],
   "source": [
    "def bfs(graph, start):\n",
    "    \n",
    "    visited=[start]\n",
    "    \n",
    "    seen = set()\n",
    "    \n",
    "    while visited:\n",
    "        froninter = visited.pop()\n",
    "        \n",
    "        if froninter in seen:continue\n",
    "        \n",
    "        for successor in graph[froninter]:\n",
    "            if successor in seen:continue\n",
    "            \n",
    "            print(successor)\n",
    "            visited = [successor] + visited\n",
    "#             visited = visited + [successor]\n",
    "        seen.add(froninter)\n",
    "    return seen"
   ]
  },
  {
   "cell_type": "code",
   "execution_count": 51,
   "metadata": {
    "collapsed": true
   },
   "outputs": [],
   "source": [
    "number_grpah = defaultdict(list)"
   ]
  },
  {
   "cell_type": "code",
   "execution_count": 52,
   "metadata": {
    "collapsed": true
   },
   "outputs": [],
   "source": [
    "number_grpah.update({\n",
    "        1:[2,3],\n",
    "        2:[1,4],\n",
    "        3:[1,5],\n",
    "        4:[2,6],\n",
    "        5:[3,7],\n",
    "        7:[5,8]\n",
    "    })"
   ]
  },
  {
   "cell_type": "code",
   "execution_count": 53,
   "metadata": {
    "collapsed": false
   },
   "outputs": [
    {
     "data": {
      "text/plain": [
       "defaultdict(list,\n",
       "            {1: [2, 3], 2: [1, 4], 3: [1, 5], 4: [2, 6], 5: [3, 7], 7: [5, 8]})"
      ]
     },
     "execution_count": 53,
     "metadata": {},
     "output_type": "execute_result"
    }
   ],
   "source": [
    "number_grpah"
   ]
  },
  {
   "cell_type": "code",
   "execution_count": 45,
   "metadata": {
    "collapsed": false
   },
   "outputs": [
    {
     "name": "stdout",
     "output_type": "stream",
     "text": [
      "2\n",
      "3\n",
      "4\n",
      "5\n",
      "6\n",
      "7\n",
      "8\n"
     ]
    },
    {
     "data": {
      "text/plain": [
       "{1, 2, 3, 4, 5, 6, 7, 8}"
      ]
     },
     "execution_count": 45,
     "metadata": {},
     "output_type": "execute_result"
    }
   ],
   "source": [
    "bfs(number_grpah,1)"
   ]
  },
  {
   "cell_type": "code",
   "execution_count": 54,
   "metadata": {
    "collapsed": false
   },
   "outputs": [
    {
     "name": "stdout",
     "output_type": "stream",
     "text": [
      "2\n",
      "3\n",
      "5\n",
      "7\n",
      "8\n",
      "4\n",
      "6\n"
     ]
    },
    {
     "data": {
      "text/plain": [
       "{1, 2, 3, 4, 5, 6, 7, 8}"
      ]
     },
     "execution_count": 54,
     "metadata": {},
     "output_type": "execute_result"
    }
   ],
   "source": [
    "bfs(number_grpah,1)"
   ]
  },
  {
   "cell_type": "code",
   "execution_count": 46,
   "metadata": {
    "collapsed": false
   },
   "outputs": [
    {
     "data": {
      "text/plain": [
       "['兰州', '长沙']"
      ]
     },
     "execution_count": 46,
     "metadata": {},
     "output_type": "execute_result"
    }
   ],
   "source": [
    "simple_connection_info['西安']"
   ]
  },
  {
   "cell_type": "code",
   "execution_count": 47,
   "metadata": {
    "collapsed": false
   },
   "outputs": [
    {
     "data": {
      "image/png": "[encoded data removed]",
      "text/plain": [
       "<matplotlib.figure.Figure at 0x2211c3ea90>"
      ]
     },
     "metadata": {},
     "output_type": "display_data"
    }
   ],
   "source": [
    "nx.draw(nx.Graph(simple_connection_info),city_location,with_labels=True,node_size=30)"
   ]
  },
  {
   "cell_type": "code",
   "execution_count": 57,
   "metadata": {
    "collapsed": false
   },
   "outputs": [
    {
     "name": "stdout",
     "output_type": "stream",
     "text": [
      "太原\n",
      "沈阳\n",
      "西安\n",
      "郑州\n",
      "兰州\n",
      "长沙\n",
      "福州\n",
      "南宁\n"
     ]
    },
    {
     "data": {
      "text/plain": [
       "{'兰州', '北京', '南宁', '太原', '沈阳', '福州', '西安', '郑州', '长沙'}"
      ]
     },
     "execution_count": 57,
     "metadata": {},
     "output_type": "execute_result"
    }
   ],
   "source": [
    "bfs(simple_connection_info,'北京')"
   ]
  },
  {
   "cell_type": "code",
   "execution_count": 55,
   "metadata": {
    "collapsed": false
   },
   "outputs": [
    {
     "name": "stdout",
     "output_type": "stream",
     "text": [
      "太原\n",
      "沈阳\n",
      "西安\n",
      "郑州\n",
      "兰州\n",
      "长沙\n",
      "福州\n",
      "南宁\n"
     ]
    },
    {
     "data": {
      "text/plain": [
       "{'兰州', '北京', '南宁', '太原', '沈阳', '福州', '西安', '郑州', '长沙'}"
      ]
     },
     "execution_count": 55,
     "metadata": {},
     "output_type": "execute_result"
    }
   ],
   "source": [
    "bfs(simple_connection_info,'北京')"
   ]
  },
  {
   "cell_type": "code",
   "execution_count": 71,
   "metadata": {
    "collapsed": true
   },
   "outputs": [],
   "source": [
    "def search(start, destination, connection_grpah, sort_candidate):\n",
    "    pathes = [[start]]\n",
    "    \n",
    "    visited = set()\n",
    "    \n",
    "    while pathes:\n",
    "        path = pathes.pop(0)\n",
    "        froninter = path[-1]\n",
    "        \n",
    "        if froninter in visited: continue\n",
    "        \n",
    "        successors = connection_grpah[froninter]\n",
    "        \n",
    "        for city in successors:\n",
    "            if city in visited: continue\n",
    "            \n",
    "            new_path = path + [city]\n",
    "            pathes.append(new_path)\n",
    "            \n",
    "            if city == destination: return new_path\n",
    "        visited.add(froninter)\n",
    "        pathes = sort_candidate(pathes)"
   ]
  },
  {
   "cell_type": "code",
   "execution_count": 72,
   "metadata": {
    "collapsed": true
   },
   "outputs": [],
   "source": [
    "def transfer_stations_first(pathes): \n",
    "    return sorted(pathes, key=len)"
   ]
  },
  {
   "cell_type": "code",
   "execution_count": 77,
   "metadata": {
    "collapsed": false
   },
   "outputs": [],
   "source": [
    "def transfer_as_much_possible(pathes):\n",
    "    return sorted(pathes,key=len,reverse=True)"
   ]
  },
  {
   "cell_type": "code",
   "execution_count": 83,
   "metadata": {
    "collapsed": true
   },
   "outputs": [],
   "source": [
    "def shortest_path_first(pathes):\n",
    "    if len(pathes) <= 1 : return pathes\n",
    "    \n",
    "    def get_path_distnace(path):\n",
    "        distance = 0\n",
    "        for station in path[:-1]:\n",
    "            distance += get_geo_distance(station,path[-1])\n",
    "        \n",
    "        return distance\n",
    "    return sorted(pathes,key=get_path_distnace)"
   ]
  },
  {
   "cell_type": "code",
   "execution_count": 78,
   "metadata": {
    "collapsed": false
   },
   "outputs": [
    {
     "data": {
      "text/plain": [
       "['沈阳', '北京', '太原', '西安', '长沙', '南宁']"
      ]
     },
     "execution_count": 78,
     "metadata": {},
     "output_type": "execute_result"
    }
   ],
   "source": [
    "search('沈阳','南宁',simple_connection_info,sort_candidate=transfer_stations_first)"
   ]
  },
  {
   "cell_type": "code",
   "execution_count": 79,
   "metadata": {
    "collapsed": false
   },
   "outputs": [
    {
     "data": {
      "text/plain": [
       "['沈阳', '北京', '太原', '西安', '长沙', '南宁']"
      ]
     },
     "execution_count": 79,
     "metadata": {},
     "output_type": "execute_result"
    }
   ],
   "source": [
    "search('沈阳','南宁',simple_connection_info,sort_candidate=transfer_as_much_possible)"
   ]
  },
  {
   "cell_type": "code",
   "execution_count": 80,
   "metadata": {
    "collapsed": false
   },
   "outputs": [
    {
     "data": {
      "text/plain": [
       "['北京', '济南', '合肥', '南京', '杭州', '福州', '台湾']"
      ]
     },
     "execution_count": 80,
     "metadata": {},
     "output_type": "execute_result"
    }
   ],
   "source": [
    "search('北京','台湾',city_connection,sort_candidate=transfer_as_much_possible)"
   ]
  },
  {
   "cell_type": "code",
   "execution_count": 82,
   "metadata": {
    "collapsed": false
   },
   "outputs": [
    {
     "data": {
      "text/plain": [
       "['北京', '济南', '合肥', '南京', '杭州', '福州', '台湾']"
      ]
     },
     "execution_count": 82,
     "metadata": {},
     "output_type": "execute_result"
    }
   ],
   "source": [
    "search('北京','台湾',city_connection,sort_candidate=transfer_stations_first)"
   ]
  },
  {
   "cell_type": "code",
   "execution_count": 84,
   "metadata": {
    "collapsed": false
   },
   "outputs": [
    {
     "data": {
      "text/plain": [
       "['北京', '济南', '合肥', '南京', '杭州', '福州', '台湾']"
      ]
     },
     "execution_count": 84,
     "metadata": {},
     "output_type": "execute_result"
    }
   ],
   "source": [
    "search('北京','台湾',city_connection,sort_candidate=shortest_path_first)"
   ]
  },
  {
   "cell_type": "code",
   "execution_count": 87,
   "metadata": {
    "collapsed": true
   },
   "outputs": [],
   "source": [
    "def pretty_print(cities):\n",
    "    print('🚗->'.join(cities))"
   ]
  },
  {
   "cell_type": "code",
   "execution_count": 88,
   "metadata": {
    "collapsed": false
   },
   "outputs": [
    {
     "name": "stdout",
     "output_type": "stream",
     "text": [
      "北京🚗->济南🚗->合肥🚗->南京🚗->杭州🚗->福州🚗->台湾\n"
     ]
    }
   ],
   "source": [
    "pretty_print(search('北京','台湾',city_connection,sort_candidate=shortest_path_first))"
   ]
  },
  {
   "cell_type": "code",
   "execution_count": 8,
   "metadata": {
    "collapsed": false
   },
   "outputs": [],
   "source": [
    "import requests\n",
    "import re"
   ]
  },
  {
   "cell_type": "code",
   "execution_count": 9,
   "metadata": {
    "collapsed": true
   },
   "outputs": [],
   "source": [
    "url = \"https://movie.douban.com/subject/26931786/?from=showing\""
   ]
  },
  {
   "cell_type": "code",
   "execution_count": 10,
   "metadata": {
    "collapsed": true
   },
   "outputs": [],
   "source": [
    "response = requests.get(url)"
   ]
  },
  {
   "cell_type": "code",
   "execution_count": 17,
   "metadata": {
    "collapsed": true
   },
   "outputs": [],
   "source": [
    "# what_we_want =  r'<a href=\"https://(movie\\.douban\\.com/subject/\\d+/\\?from=subject-page)\" class=\"\" '\n",
    "# <a href=\"https://movie.douban.com/subject/26100958/?from=subject-page\" class=\"\" >"
   ]
  },
  {
   "cell_type": "code",
   "execution_count": 19,
   "metadata": {
    "collapsed": false
   },
   "outputs": [],
   "source": [
    "pattern = re.compile(what_we_want)"
   ]
  },
  {
   "cell_type": "code",
   "execution_count": 20,
   "metadata": {
    "collapsed": false
   },
   "outputs": [],
   "source": [
    "likes = pattern.findall(response.text)"
   ]
  },
  {
   "cell_type": "code",
   "execution_count": 21,
   "metadata": {
    "collapsed": false
   },
   "outputs": [
    {
     "name": "stdout",
     "output_type": "stream",
     "text": [
      "movie.douban.com/subject/24753477/?from=subject-page\n",
      "movie.douban.com/subject/26100958/?from=subject-page\n",
      "movie.douban.com/subject/25820460/?from=subject-page\n",
      "movie.douban.com/subject/1432146/?from=subject-page\n",
      "movie.douban.com/subject/25937854/?from=subject-page\n",
      "movie.douban.com/subject/1866473/?from=subject-page\n",
      "movie.douban.com/subject/25821634/?from=subject-page\n",
      "movie.douban.com/subject/26213252/?from=subject-page\n",
      "movie.douban.com/subject/25828589/?from=subject-page\n",
      "movie.douban.com/subject/4920389/?from=subject-page\n"
     ]
    }
   ],
   "source": [
    "for like in likes:\n",
    "    print(like)"
   ]
  },
  {
   "cell_type": "code",
   "execution_count": 1,
   "metadata": {
    "collapsed": true
   },
   "outputs": [],
   "source": [
    "# <a href=\"https://movie.douban.com/subject/26100958/?from=subject-page\" class=\"\" >"
   ]
  },
  {
   "cell_type": "code",
   "execution_count": 2,
   "metadata": {
    "collapsed": true
   },
   "outputs": [],
   "source": [
    "from sklearn.datasets import load_boston"
   ]
  },
  {
   "cell_type": "code",
   "execution_count": 3,
   "metadata": {
    "collapsed": true
   },
   "outputs": [],
   "source": [
    "data = load_boston()"
   ]
  },
  {
   "cell_type": "code",
   "execution_count": 4,
   "metadata": {
    "collapsed": false
   },
   "outputs": [],
   "source": [
    "X, y = data['data'], data['target']"
   ]
  },
  {
   "cell_type": "code",
   "execution_count": 5,
   "metadata": {
    "collapsed": false
   },
   "outputs": [
    {
     "data": {
      "text/plain": [
       "array([  2.73100000e-02,   0.00000000e+00,   7.07000000e+00,\n",
       "         0.00000000e+00,   4.69000000e-01,   6.42100000e+00,\n",
       "         7.89000000e+01,   4.96710000e+00,   2.00000000e+00,\n",
       "         2.42000000e+02,   1.78000000e+01,   3.96900000e+02,\n",
       "         9.14000000e+00])"
      ]
     },
     "execution_count": 5,
     "metadata": {},
     "output_type": "execute_result"
    }
   ],
   "source": [
    "X[1]"
   ]
  },
  {
   "cell_type": "code",
   "execution_count": 6,
   "metadata": {
    "collapsed": false,
    "scrolled": true
   },
   "outputs": [
    {
     "data": {
      "text/plain": [
       "21.600000000000001"
      ]
     },
     "execution_count": 6,
     "metadata": {},
     "output_type": "execute_result"
    }
   ],
   "source": [
    "y[1]"
   ]
  },
  {
   "cell_type": "code",
   "execution_count": 7,
   "metadata": {
    "collapsed": false
   },
   "outputs": [
    {
     "data": {
      "text/plain": [
       "(506, 13)"
      ]
     },
     "execution_count": 7,
     "metadata": {},
     "output_type": "execute_result"
    }
   ],
   "source": [
    "X.shape"
   ]
  },
  {
   "cell_type": "code",
   "execution_count": 8,
   "metadata": {
    "collapsed": false
   },
   "outputs": [
    {
     "data": {
      "text/plain": [
       "506"
      ]
     },
     "execution_count": 8,
     "metadata": {},
     "output_type": "execute_result"
    }
   ],
   "source": [
    "len(X[:,5])"
   ]
  },
  {
   "cell_type": "code",
   "execution_count": 9,
   "metadata": {
    "collapsed": false
   },
   "outputs": [
    {
     "data": {
      "text/plain": [
       "506"
      ]
     },
     "execution_count": 9,
     "metadata": {},
     "output_type": "execute_result"
    }
   ],
   "source": [
    "len(y)"
   ]
  },
  {
   "cell_type": "code",
   "execution_count": 10,
   "metadata": {
    "collapsed": true
   },
   "outputs": [],
   "source": [
    "%matplotlib inline"
   ]
  },
  {
   "cell_type": "code",
   "execution_count": 11,
   "metadata": {
    "collapsed": true
   },
   "outputs": [],
   "source": [
    "import matplotlib.pyplot as plt"
   ]
  },
  {
   "cell_type": "code",
   "execution_count": 12,
   "metadata": {
    "collapsed": false
   },
   "outputs": [],
   "source": [
    "def draw_rm_and_price():\n",
    "    plt.scatter(X[:,5],y)"
   ]
  },
  {
   "cell_type": "code",
   "execution_count": 13,
   "metadata": {
    "collapsed": false
   },
   "outputs": [
    {
     "data": {
      "image/png": "[encoded data removed]",
      "text/plain": [
       "<matplotlib.figure.Figure at 0xaedac54e0>"
      ]
     },
     "metadata": {},
     "output_type": "display_data"
    }
   ],
   "source": [
    "draw_rm_and_price()"
   ]
  },
  {
   "cell_type": "code",
   "execution_count": 14,
   "metadata": {
    "collapsed": true
   },
   "outputs": [],
   "source": [
    "import random"
   ]
  },
  {
   "cell_type": "code",
   "execution_count": 15,
   "metadata": {
    "collapsed": true
   },
   "outputs": [],
   "source": [
    "def price(rm, k, b):\n",
    "    return k * rm  + b"
   ]
  },
  {
   "cell_type": "code",
   "execution_count": 16,
   "metadata": {
    "collapsed": false
   },
   "outputs": [
    {
     "data": {
      "text/plain": [
       "<matplotlib.collections.PathCollection at 0xaef3d1358>"
      ]
     },
     "execution_count": 16,
     "metadata": {},
     "output_type": "execute_result"
    },
    {
     "data": {
      "image/png": "[encoded data removed]",
      "text/plain": [
       "<matplotlib.figure.Figure at 0xaedc253c8>"
      ]
     },
     "metadata": {},
     "output_type": "display_data"
    }
   ],
   "source": [
    "X_rm = X[:,5]\n",
    "k = random.randint(-100,100)\n",
    "b = random.randint(-100,100)\n",
    "price_by_random_k_and_b = [price(rm,k,b) for rm in X_rm]\n",
    "draw_rm_and_price()\n",
    "plt.scatter(X_rm,price_by_random_k_and_b)"
   ]
  },
  {
   "cell_type": "markdown",
   "metadata": {},
   "source": [
    "## loss\n",
    "\n",
    "$$ loss = \\frac{1}{n} \\sum{(y_i - \\hat{y_i})}$$"
   ]
  },
  {
   "cell_type": "code",
   "execution_count": 17,
   "metadata": {
    "collapsed": true
   },
   "outputs": [],
   "source": [
    "X_rm = X[:,5]"
   ]
  },
  {
   "cell_type": "code",
   "execution_count": 18,
   "metadata": {
    "collapsed": false
   },
   "outputs": [],
   "source": [
    "def loss(y, y_hat):\n",
    "    return sum((y_i-y_hat_i)**2 for y_i,y_hat_i in zip(y,y_hat)) / len(y)"
   ]
  },
  {
   "cell_type": "code",
   "execution_count": 73,
   "metadata": {
    "collapsed": true
   },
   "outputs": [],
   "source": [
    "def loss_2(y,y_hat):\n",
    "    return sum(abs(y_i-y_hat_i) for y_i,y_hat_i in zip(y,y_hat))"
   ]
  },
  {
   "cell_type": "code",
   "execution_count": 75,
   "metadata": {
    "collapsed": false
   },
   "outputs": [
    {
     "name": "stdout",
     "output_type": "stream",
     "text": [
      "When time is : 0, get best_k: 54 best_b: 62, and the loss is: 144554.59969852166\n",
      "When time is : 3, get best_k: -28 best_b: -80, and the loss is: 78285.5093107667\n",
      "When time is : 4, get best_k: 35 best_b: -13, and the loss is: 34388.25417109683\n",
      "When time is : 9, get best_k: 14 best_b: -66, and the loss is: 55.720204766798396\n",
      "When time is : 989, get best_k: 8 best_b: -29, and the loss is: 45.77586207114628\n"
     ]
    }
   ],
   "source": [
    "trying_times = 2000\n",
    "\n",
    "min_loss = float('inf')\n",
    "best_k, best_b = None, None\n",
    "\n",
    "for i in range(trying_times):\n",
    "    k = random.randint(-100,100)\n",
    "    b = random.randint(-100,100)\n",
    "    \n",
    "    price_by_random_k_and_b = [price(rm,k,b) for rm in X_rm]\n",
    "    \n",
    "    current_loss = loss(y,price_by_random_k_and_b)\n",
    "    \n",
    "    if current_loss < min_loss:\n",
    "        best_k = k\n",
    "        best_b = b\n",
    "        min_loss = current_loss\n",
    "        \n",
    "        print('When time is : {}, get best_k: {} best_b: {}, and the loss is: {}'.format(i, best_k, best_b, min_loss))"
   ]
  },
  {
   "cell_type": "code",
   "execution_count": 20,
   "metadata": {
    "collapsed": false
   },
   "outputs": [
    {
     "data": {
      "text/plain": [
       "<matplotlib.collections.PathCollection at 0xaee3b6d30>"
      ]
     },
     "execution_count": 20,
     "metadata": {},
     "output_type": "execute_result"
    },
    {
     "data": {
      "image/png": "[encoded data removed]",
      "text/plain": [
       "<matplotlib.figure.Figure at 0xaee3b6630>"
      ]
     },
     "metadata": {},
     "output_type": "display_data"
    }
   ],
   "source": [
    "X_rm = X[:,5]\n",
    "k = 10\n",
    "b = -40\n",
    "price_by_random_k_and_b = [price(rm,k,b) for rm in X_rm]\n",
    "draw_rm_and_price()\n",
    "plt.scatter(X_rm,price_by_random_k_and_b)"
   ]
  },
  {
   "cell_type": "code",
   "execution_count": 85,
   "metadata": {
    "collapsed": false
   },
   "outputs": [
    {
     "name": "stdout",
     "output_type": "stream",
     "text": [
      "When time is : 0, get best_k: 67.41711098153864 best_b: 93.3503896469057, and the loss is: 247713.26572754091\n",
      "When time is : 1, get best_k: 67.21711098153864 best_b: 93.1503896469057, and the loss is: 246258.7024775354\n",
      "When time is : 2, get best_k: 67.01711098153864 best_b: 92.95038964690569, and the loss is: 244808.42391500005\n",
      "When time is : 3, get best_k: 66.81711098153863 best_b: 92.75038964690569, and the loss is: 243362.4300399343\n",
      "When time is : 4, get best_k: 66.61711098153863 best_b: 92.55038964690569, and the loss is: 241920.72085233842\n",
      "When time is : 5, get best_k: 66.41711098153863 best_b: 92.35038964690568, and the loss is: 240483.29635221255\n",
      "When time is : 6, get best_k: 66.21711098153862 best_b: 92.15038964690568, and the loss is: 239050.15653955648\n",
      "When time is : 7, get best_k: 66.01711098153862 best_b: 91.95038964690568, and the loss is: 237621.3014143705\n",
      "When time is : 8, get best_k: 65.81711098153862 best_b: 91.75038964690567, and the loss is: 236196.73097665413\n",
      "When time is : 9, get best_k: 65.61711098153862 best_b: 91.55038964690567, and the loss is: 234776.44522640776\n",
      "When time is : 10, get best_k: 65.41711098153861 best_b: 91.35038964690567, and the loss is: 233360.44416363133\n",
      "When time is : 11, get best_k: 65.21711098153861 best_b: 91.15038964690567, and the loss is: 231948.7277883248\n",
      "When time is : 12, get best_k: 65.01711098153861 best_b: 90.95038964690566, and the loss is: 230541.29610048776\n",
      "When time is : 13, get best_k: 64.8171109815386 best_b: 90.75038964690566, and the loss is: 229138.14910012082\n",
      "When time is : 14, get best_k: 64.6171109815386 best_b: 90.55038964690566, and the loss is: 227739.28678722412\n",
      "When time is : 15, get best_k: 64.4171109815386 best_b: 90.35038964690565, and the loss is: 226344.70916179736\n",
      "When time is : 16, get best_k: 64.2171109815386 best_b: 90.15038964690565, and the loss is: 224954.41622383994\n",
      "When time is : 17, get best_k: 64.0171109815386 best_b: 89.95038964690565, and the loss is: 223568.40797335267\n",
      "When time is : 18, get best_k: 63.81711098153859 best_b: 89.75038964690565, and the loss is: 222186.68441033497\n",
      "When time is : 19, get best_k: 63.61711098153859 best_b: 89.55038964690564, and the loss is: 220809.24553478748\n",
      "When time is : 20, get best_k: 63.417110981538585 best_b: 89.35038964690564, and the loss is: 219436.0913467098\n",
      "When time is : 21, get best_k: 63.21711098153858 best_b: 89.15038964690564, and the loss is: 218067.22184610186\n",
      "When time is : 22, get best_k: 63.01711098153858 best_b: 88.95038964690563, and the loss is: 216702.63703296374\n",
      "When time is : 23, get best_k: 62.817110981538576 best_b: 88.75038964690563, and the loss is: 215342.33690729606\n",
      "When time is : 24, get best_k: 62.61711098153857 best_b: 88.55038964690563, and the loss is: 213986.32146909775\n",
      "When time is : 25, get best_k: 62.41711098153857 best_b: 88.35038964690563, and the loss is: 212634.59071836967\n",
      "When time is : 26, get best_k: 62.21711098153857 best_b: 88.15038964690562, and the loss is: 211287.14465511136\n",
      "When time is : 27, get best_k: 62.017110981538565 best_b: 87.95038964690562, and the loss is: 209943.9832793226\n",
      "When time is : 28, get best_k: 61.81711098153856 best_b: 87.75038964690562, and the loss is: 208605.10659100418\n",
      "When time is : 29, get best_k: 61.61711098153856 best_b: 87.55038964690561, and the loss is: 207270.51459015504\n",
      "When time is : 30, get best_k: 61.417110981538556 best_b: 87.35038964690561, and the loss is: 205940.20727677655\n",
      "When time is : 31, get best_k: 61.21711098153855 best_b: 87.15038964690561, and the loss is: 204614.18465086736\n",
      "When time is : 32, get best_k: 61.01711098153855 best_b: 86.9503896469056, and the loss is: 203292.44671242833\n",
      "When time is : 33, get best_k: 60.81711098153855 best_b: 86.7503896469056, and the loss is: 201974.9934614588\n",
      "When time is : 34, get best_k: 60.617110981538545 best_b: 86.5503896469056, and the loss is: 200661.82489795986\n",
      "When time is : 35, get best_k: 60.41711098153854 best_b: 86.3503896469056, and the loss is: 199352.94102193028\n",
      "When time is : 36, get best_k: 60.21711098153854 best_b: 86.1503896469056, and the loss is: 198048.34183337077\n",
      "When time is : 37, get best_k: 60.017110981538536 best_b: 85.95038964690559, and the loss is: 196748.0273322809\n",
      "When time is : 38, get best_k: 59.817110981538534 best_b: 85.75038964690559, and the loss is: 195451.99751866105\n",
      "When time is : 39, get best_k: 59.61711098153853 best_b: 85.55038964690559, and the loss is: 194160.25239251112\n",
      "When time is : 40, get best_k: 59.41711098153853 best_b: 85.35038964690558, and the loss is: 192872.79195383127\n",
      "When time is : 41, get best_k: 59.217110981538525 best_b: 85.15038964690558, and the loss is: 191589.61620262073\n",
      "When time is : 42, get best_k: 59.01711098153852 best_b: 84.95038964690558, and the loss is: 190310.72513888087\n",
      "When time is : 43, get best_k: 58.81711098153852 best_b: 84.75038964690557, and the loss is: 189036.11876261042\n",
      "When time is : 44, get best_k: 58.61711098153852 best_b: 84.55038964690557, and the loss is: 187765.79707380984\n",
      "When time is : 45, get best_k: 58.417110981538514 best_b: 84.35038964690557, and the loss is: 186499.76007247894\n",
      "When time is : 46, get best_k: 58.21711098153851 best_b: 84.15038964690557, and the loss is: 185238.00775861825\n",
      "When time is : 47, get best_k: 58.01711098153851 best_b: 83.95038964690556, and the loss is: 183980.54013222767\n",
      "When time is : 48, get best_k: 57.817110981538505 best_b: 83.75038964690556, and the loss is: 182727.35719330635\n",
      "When time is : 49, get best_k: 57.6171109815385 best_b: 83.55038964690556, and the loss is: 181478.4589418554\n",
      "When time is : 50, get best_k: 57.4171109815385 best_b: 83.35038964690555, and the loss is: 180233.8453778742\n",
      "When time is : 51, get best_k: 57.2171109815385 best_b: 83.15038964690555, and the loss is: 178993.51650136278\n",
      "When time is : 52, get best_k: 57.017110981538494 best_b: 82.95038964690555, and the loss is: 177757.4723123214\n",
      "When time is : 53, get best_k: 56.81711098153849 best_b: 82.75038964690555, and the loss is: 176525.71281074968\n",
      "When time is : 54, get best_k: 56.61711098153849 best_b: 82.55038964690554, and the loss is: 175298.2379966479\n",
      "When time is : 55, get best_k: 56.417110981538485 best_b: 82.35038964690554, and the loss is: 174075.0478700162\n",
      "When time is : 56, get best_k: 56.21711098153848 best_b: 82.15038964690554, and the loss is: 172856.14243085423\n",
      "When time is : 57, get best_k: 56.01711098153848 best_b: 81.95038964690553, and the loss is: 171641.52167916196\n",
      "When time is : 58, get best_k: 55.81711098153848 best_b: 81.75038964690553, and the loss is: 170431.18561493984\n",
      "When time is : 59, get best_k: 55.617110981538474 best_b: 81.55038964690553, and the loss is: 169225.1342381877\n",
      "When time is : 60, get best_k: 55.41711098153847 best_b: 81.35038964690553, and the loss is: 168023.36754890514\n",
      "When time is : 61, get best_k: 55.21711098153847 best_b: 81.15038964690552, and the loss is: 166825.88554709285\n",
      "When time is : 62, get best_k: 55.017110981538465 best_b: 80.95038964690552, and the loss is: 165632.68823275005\n",
      "When time is : 63, get best_k: 54.81711098153846 best_b: 80.75038964690552, and the loss is: 164443.77560587737\n",
      "When time is : 64, get best_k: 54.61711098153846 best_b: 80.55038964690551, and the loss is: 163259.14766647434\n",
      "When time is : 65, get best_k: 54.41711098153846 best_b: 80.35038964690551, and the loss is: 162078.8044145412\n",
      "When time is : 66, get best_k: 54.217110981538454 best_b: 80.15038964690551, and the loss is: 160902.74585007815\n",
      "When time is : 67, get best_k: 54.01711098153845 best_b: 79.9503896469055, and the loss is: 159730.97197308496\n",
      "When time is : 68, get best_k: 53.81711098153845 best_b: 79.7503896469055, and the loss is: 158563.48278356143\n",
      "When time is : 69, get best_k: 53.617110981538445 best_b: 79.5503896469055, and the loss is: 157400.27828150798\n",
      "When time is : 70, get best_k: 53.41711098153844 best_b: 79.3503896469055, and the loss is: 156241.35846692443\n",
      "When time is : 71, get best_k: 53.21711098153844 best_b: 79.1503896469055, and the loss is: 155086.72333981068\n",
      "When time is : 72, get best_k: 53.01711098153844 best_b: 78.95038964690549, and the loss is: 153936.37290016672\n",
      "When time is : 73, get best_k: 52.817110981538434 best_b: 78.75038964690549, and the loss is: 152790.30714799277\n",
      "When time is : 74, get best_k: 52.61711098153843 best_b: 78.55038964690549, and the loss is: 151648.52608328898\n",
      "When time is : 75, get best_k: 52.41711098153843 best_b: 78.35038964690548, and the loss is: 150511.02970605457\n",
      "When time is : 76, get best_k: 52.217110981538426 best_b: 78.15038964690548, and the loss is: 149377.81801629034\n",
      "When time is : 77, get best_k: 52.01711098153842 best_b: 77.95038964690548, and the loss is: 148248.89101399586\n",
      "When time is : 78, get best_k: 51.81711098153842 best_b: 77.75038964690548, and the loss is: 147124.24869917124\n",
      "When time is : 79, get best_k: 51.61711098153842 best_b: 77.55038964690547, and the loss is: 146003.89107181662\n",
      "When time is : 80, get best_k: 51.417110981538414 best_b: 77.35038964690547, and the loss is: 144887.81813193177\n",
      "When time is : 81, get best_k: 51.21711098153841 best_b: 77.15038964690547, and the loss is: 143776.02987951707\n",
      "When time is : 82, get best_k: 51.01711098153841 best_b: 76.95038964690546, and the loss is: 142668.52631457182\n",
      "When time is : 83, get best_k: 50.817110981538406 best_b: 76.75038964690546, and the loss is: 141565.30743709687\n",
      "When time is : 84, get best_k: 50.6171109815384 best_b: 76.55038964690546, and the loss is: 140466.37324709143\n",
      "When time is : 85, get best_k: 50.4171109815384 best_b: 76.35038964690546, and the loss is: 139371.72374455607\n",
      "When time is : 86, get best_k: 50.2171109815384 best_b: 76.15038964690545, and the loss is: 138281.35892949067\n",
      "When time is : 87, get best_k: 50.017110981538394 best_b: 75.95038964690545, and the loss is: 137195.27880189492\n",
      "When time is : 88, get best_k: 49.81711098153839 best_b: 75.75038964690545, and the loss is: 136113.48336176923\n",
      "When time is : 89, get best_k: 49.61711098153839 best_b: 75.55038964690544, and the loss is: 135035.9726091134\n",
      "When time is : 90, get best_k: 49.417110981538386 best_b: 75.35038964690544, and the loss is: 133962.7465439274\n",
      "When time is : 91, get best_k: 49.21711098153838 best_b: 75.15038964690544, and the loss is: 132893.80516621133\n",
      "When time is : 92, get best_k: 49.01711098153838 best_b: 74.95038964690544, and the loss is: 131829.1484759651\n",
      "When time is : 93, get best_k: 48.81711098153838 best_b: 74.75038964690543, and the loss is: 130768.77647318874\n",
      "When time is : 94, get best_k: 48.617110981538374 best_b: 74.55038964690543, and the loss is: 129712.6891578824\n",
      "When time is : 95, get best_k: 48.41711098153837 best_b: 74.35038964690543, and the loss is: 128660.88653004573\n",
      "When time is : 96, get best_k: 48.21711098153837 best_b: 74.15038964690542, and the loss is: 127613.36858967913\n",
      "When time is : 97, get best_k: 48.017110981538366 best_b: 73.95038964690542, and the loss is: 126570.13533678222\n",
      "When time is : 98, get best_k: 47.81711098153836 best_b: 73.75038964690542, and the loss is: 125531.18677135534\n",
      "When time is : 99, get best_k: 47.61711098153836 best_b: 73.55038964690542, and the loss is: 124496.52289339827\n",
      "When time is : 100, get best_k: 47.41711098153836 best_b: 73.35038964690541, and the loss is: 123466.14370291105\n",
      "When time is : 101, get best_k: 47.217110981538355 best_b: 73.15038964690541, and the loss is: 122440.04919989381\n",
      "When time is : 102, get best_k: 47.01711098153835 best_b: 72.9503896469054, and the loss is: 121418.23938434642\n",
      "When time is : 103, get best_k: 46.81711098153835 best_b: 72.7503896469054, and the loss is: 120400.7142562689\n",
      "When time is : 104, get best_k: 46.617110981538346 best_b: 72.5503896469054, and the loss is: 119387.47381566116\n",
      "When time is : 105, get best_k: 46.41711098153834 best_b: 72.3503896469054, and the loss is: 118378.5180625234\n",
      "When time is : 106, get best_k: 46.21711098153834 best_b: 72.1503896469054, and the loss is: 117373.8469968556\n",
      "When time is : 107, get best_k: 46.01711098153834 best_b: 71.95038964690539, and the loss is: 116373.46061865758\n",
      "When time is : 108, get best_k: 45.817110981538335 best_b: 71.75038964690539, and the loss is: 115377.3589279296\n",
      "When time is : 109, get best_k: 45.61711098153833 best_b: 71.55038964690539, and the loss is: 114385.54192467118\n",
      "When time is : 110, get best_k: 45.41711098153833 best_b: 71.35038964690538, and the loss is: 113398.00960888299\n",
      "When time is : 111, get best_k: 45.217110981538326 best_b: 71.15038964690538, and the loss is: 112414.76198056451\n",
      "When time is : 112, get best_k: 45.01711098153832 best_b: 70.95038964690538, and the loss is: 111435.79903971589\n",
      "When time is : 113, get best_k: 44.81711098153832 best_b: 70.75038964690538, and the loss is: 110461.12078633724\n",
      "When time is : 114, get best_k: 44.61711098153832 best_b: 70.55038964690537, and the loss is: 109490.72722042841\n",
      "When time is : 115, get best_k: 44.417110981538315 best_b: 70.35038964690537, and the loss is: 108524.6183419895\n",
      "When time is : 116, get best_k: 44.21711098153831 best_b: 70.15038964690537, and the loss is: 107562.79415102044\n",
      "When time is : 117, get best_k: 44.01711098153831 best_b: 69.95038964690536, and the loss is: 106605.2546475211\n",
      "When time is : 118, get best_k: 43.817110981538306 best_b: 69.75038964690536, and the loss is: 105651.99983149195\n",
      "When time is : 119, get best_k: 43.6171109815383 best_b: 69.55038964690536, and the loss is: 104703.02970293257\n",
      "When time is : 120, get best_k: 43.4171109815383 best_b: 69.35038964690536, and the loss is: 103758.34426184304\n",
      "When time is : 121, get best_k: 43.2171109815383 best_b: 69.15038964690535, and the loss is: 102817.94350822335\n",
      "When time is : 122, get best_k: 43.017110981538295 best_b: 68.95038964690535, and the loss is: 101881.82744207358\n",
      "When time is : 123, get best_k: 42.81711098153829 best_b: 68.75038964690535, and the loss is: 100949.99606339372\n",
      "When time is : 124, get best_k: 42.61711098153829 best_b: 68.55038964690534, and the loss is: 100022.44937218368\n",
      "When time is : 125, get best_k: 42.417110981538286 best_b: 68.35038964690534, and the loss is: 99099.18736844347\n",
      "When time is : 126, get best_k: 42.21711098153828 best_b: 68.15038964690534, and the loss is: 98180.21005217342\n",
      "When time is : 127, get best_k: 42.01711098153828 best_b: 67.95038964690534, and the loss is: 97265.51742337302\n",
      "When time is : 128, get best_k: 41.81711098153828 best_b: 67.75038964690533, and the loss is: 96355.10948204254\n",
      "When time is : 129, get best_k: 41.617110981538275 best_b: 67.55038964690533, and the loss is: 95448.98622818192\n",
      "When time is : 130, get best_k: 41.41711098153827 best_b: 67.35038964690533, and the loss is: 94547.14766179117\n",
      "When time is : 131, get best_k: 41.21711098153827 best_b: 67.15038964690532, and the loss is: 93649.59378287035\n",
      "When time is : 132, get best_k: 41.017110981538266 best_b: 66.95038964690532, and the loss is: 92756.32459141937\n",
      "When time is : 133, get best_k: 40.817110981538264 best_b: 66.75038964690532, and the loss is: 91867.34008743828\n",
      "When time is : 134, get best_k: 40.61711098153826 best_b: 66.55038964690532, and the loss is: 90982.64027092715\n",
      "When time is : 135, get best_k: 40.41711098153826 best_b: 66.35038964690531, and the loss is: 90102.22514188587\n",
      "When time is : 136, get best_k: 40.217110981538255 best_b: 66.15038964690531, and the loss is: 89226.09470031445\n",
      "When time is : 137, get best_k: 40.01711098153825 best_b: 65.95038964690531, and the loss is: 88354.24894621274\n",
      "When time is : 138, get best_k: 39.81711098153825 best_b: 65.7503896469053, and the loss is: 87486.68787958109\n",
      "When time is : 139, get best_k: 39.61711098153825 best_b: 65.5503896469053, and the loss is: 86623.41150041946\n",
      "When time is : 140, get best_k: 39.417110981538244 best_b: 65.3503896469053, and the loss is: 85764.41980872749\n",
      "When time is : 141, get best_k: 39.21711098153824 best_b: 65.1503896469053, and the loss is: 84909.71280450546\n",
      "When time is : 142, get best_k: 39.01711098153824 best_b: 64.9503896469053, and the loss is: 84059.29048775334\n",
      "When time is : 143, get best_k: 38.817110981538235 best_b: 64.75038964690529, and the loss is: 83213.15285847092\n",
      "When time is : 144, get best_k: 38.61711098153823 best_b: 64.55038964690529, and the loss is: 82371.29991665881\n",
      "When time is : 145, get best_k: 38.41711098153823 best_b: 64.35038964690528, and the loss is: 81533.73166231616\n",
      "When time is : 146, get best_k: 38.21711098153823 best_b: 64.15038964690528, and the loss is: 80700.44809544356\n",
      "When time is : 147, get best_k: 38.017110981538224 best_b: 63.95038964690528, and the loss is: 79871.44921604083\n",
      "When time is : 148, get best_k: 37.81711098153822 best_b: 63.750389646905276, and the loss is: 79046.73502410804\n",
      "When time is : 149, get best_k: 37.61711098153822 best_b: 63.55038964690527, and the loss is: 78226.30551964507\n",
      "When time is : 150, get best_k: 37.417110981538215 best_b: 63.35038964690527, and the loss is: 77410.16070265199\n",
      "When time is : 151, get best_k: 37.21711098153821 best_b: 63.15038964690527, and the loss is: 76598.30057312883\n",
      "When time is : 152, get best_k: 37.01711098153821 best_b: 62.950389646905265, and the loss is: 75790.72513107547\n",
      "When time is : 153, get best_k: 36.81711098153821 best_b: 62.75038964690526, and the loss is: 74987.43437649199\n",
      "When time is : 154, get best_k: 36.617110981538204 best_b: 62.55038964690526, and the loss is: 74188.42830937846\n",
      "When time is : 155, get best_k: 36.4171109815382 best_b: 62.350389646905256, and the loss is: 73393.70692973473\n",
      "When time is : 156, get best_k: 36.2171109815382 best_b: 62.15038964690525, and the loss is: 72603.27023756097\n",
      "When time is : 157, get best_k: 36.017110981538195 best_b: 61.95038964690525, and the loss is: 71817.1182328571\n",
      "When time is : 158, get best_k: 35.81711098153819 best_b: 61.75038964690525, and the loss is: 71035.25091562304\n",
      "When time is : 159, get best_k: 35.61711098153819 best_b: 61.550389646905245, and the loss is: 70257.66828585879\n",
      "When time is : 160, get best_k: 35.41711098153819 best_b: 61.35038964690524, and the loss is: 69484.37034356457\n",
      "When time is : 161, get best_k: 35.217110981538184 best_b: 61.15038964690524, and the loss is: 68715.35708874016\n",
      "When time is : 162, get best_k: 35.01711098153818 best_b: 60.950389646905236, and the loss is: 67950.62852138576\n",
      "When time is : 163, get best_k: 34.81711098153818 best_b: 60.750389646905234, and the loss is: 67190.18464150107\n",
      "When time is : 164, get best_k: 34.617110981538175 best_b: 60.55038964690523, and the loss is: 66434.02544908632\n",
      "When time is : 165, get best_k: 34.41711098153817 best_b: 60.35038964690523, and the loss is: 65682.15094414153\n",
      "When time is : 166, get best_k: 34.21711098153817 best_b: 60.150389646905225, and the loss is: 64934.5611266665\n",
      "When time is : 167, get best_k: 34.01711098153817 best_b: 59.95038964690522, and the loss is: 64191.25599666131\n",
      "When time is : 168, get best_k: 33.817110981538164 best_b: 59.75038964690522, and the loss is: 63452.23555412612\n",
      "When time is : 169, get best_k: 33.61711098153816 best_b: 59.55038964690522, and the loss is: 62717.499799060846\n",
      "When time is : 170, get best_k: 33.41711098153816 best_b: 59.350389646905214, and the loss is: 61987.04873146537\n",
      "When time is : 171, get best_k: 33.217110981538156 best_b: 59.15038964690521, and the loss is: 61260.88235133976\n",
      "When time is : 172, get best_k: 33.01711098153815 best_b: 58.95038964690521, and the loss is: 60539.00065868413\n",
      "When time is : 173, get best_k: 32.81711098153815 best_b: 58.750389646905205, and the loss is: 59821.403653498266\n",
      "When time is : 174, get best_k: 32.61711098153815 best_b: 58.5503896469052, and the loss is: 59108.091335782345\n",
      "When time is : 175, get best_k: 32.417110981538144 best_b: 58.3503896469052, and the loss is: 58399.06370553635\n",
      "When time is : 176, get best_k: 32.21711098153814 best_b: 58.1503896469052, and the loss is: 57694.320762760166\n",
      "When time is : 177, get best_k: 32.01711098153814 best_b: 57.950389646905194, and the loss is: 56993.86250745389\n",
      "When time is : 178, get best_k: 31.81711098153814 best_b: 57.75038964690519, and the loss is: 56297.68893961751\n",
      "When time is : 179, get best_k: 31.61711098153814 best_b: 57.55038964690519, and the loss is: 55605.800059250985\n",
      "When time is : 180, get best_k: 31.41711098153814 best_b: 57.350389646905185, and the loss is: 54918.195866354334\n",
      "When time is : 181, get best_k: 31.21711098153814 best_b: 57.15038964690518, and the loss is: 54234.87636092758\n",
      "When time is : 182, get best_k: 31.017110981538142 best_b: 56.95038964690518, and the loss is: 53555.841542970775\n",
      "When time is : 183, get best_k: 30.817110981538143 best_b: 56.75038964690518, and the loss is: 52881.09141248373\n",
      "When time is : 184, get best_k: 30.617110981538143 best_b: 56.550389646905174, and the loss is: 52210.62596946662\n",
      "When time is : 185, get best_k: 30.417110981538144 best_b: 56.35038964690517, and the loss is: 51544.445213919505\n",
      "When time is : 186, get best_k: 30.217110981538145 best_b: 56.15038964690517, and the loss is: 50882.54914584208\n",
      "When time is : 187, get best_k: 30.017110981538146 best_b: 55.950389646905165, and the loss is: 50224.93776523462\n",
      "When time is : 188, get best_k: 29.817110981538146 best_b: 55.75038964690516, and the loss is: 49571.611072097054\n",
      "When time is : 189, get best_k: 29.617110981538147 best_b: 55.55038964690516, and the loss is: 48922.56906642935\n",
      "When time is : 190, get best_k: 29.417110981538148 best_b: 55.35038964690516, and the loss is: 48277.81174823154\n",
      "When time is : 191, get best_k: 29.21711098153815 best_b: 55.150389646905154, and the loss is: 47637.33911750362\n",
      "When time is : 192, get best_k: 29.01711098153815 best_b: 54.95038964690515, and the loss is: 47001.15117424557\n",
      "When time is : 193, get best_k: 28.81711098153815 best_b: 54.75038964690515, and the loss is: 46369.247918457375\n",
      "When time is : 194, get best_k: 28.61711098153815 best_b: 54.550389646905145, and the loss is: 45741.62935013909\n",
      "When time is : 195, get best_k: 28.41711098153815 best_b: 54.35038964690514, and the loss is: 45118.295469290686\n",
      "When time is : 196, get best_k: 28.217110981538152 best_b: 54.15038964690514, and the loss is: 44499.246275912185\n",
      "When time is : 197, get best_k: 28.017110981538153 best_b: 53.95038964690514, and the loss is: 43884.481770003506\n",
      "When time is : 198, get best_k: 27.817110981538153 best_b: 53.750389646905134, and the loss is: 43274.00195156472\n",
      "When time is : 199, get best_k: 27.617110981538154 best_b: 53.55038964690513, and the loss is: 42667.806820595884\n",
      "When time is : 200, get best_k: 27.417110981538155 best_b: 53.35038964690513, and the loss is: 42065.896377096906\n",
      "When time is : 201, get best_k: 27.217110981538156 best_b: 53.150389646905126, and the loss is: 41468.2706210678\n",
      "When time is : 202, get best_k: 27.017110981538156 best_b: 52.95038964690512, and the loss is: 40874.92955250855\n",
      "When time is : 203, get best_k: 26.817110981538157 best_b: 52.75038964690512, and the loss is: 40285.873171419174\n",
      "When time is : 204, get best_k: 26.617110981538158 best_b: 52.55038964690512, and the loss is: 39701.10147779971\n",
      "When time is : 205, get best_k: 26.41711098153816 best_b: 52.350389646905114, and the loss is: 39120.614471650115\n",
      "When time is : 206, get best_k: 26.21711098153816 best_b: 52.15038964690511, and the loss is: 38544.41215297038\n",
      "When time is : 207, get best_k: 26.01711098153816 best_b: 51.95038964690511, and the loss is: 37972.49452176054\n",
      "When time is : 208, get best_k: 25.81711098153816 best_b: 51.750389646905106, and the loss is: 37404.86157802064\n",
      "When time is : 209, get best_k: 25.61711098153816 best_b: 51.5503896469051, and the loss is: 36841.513321750535\n",
      "When time is : 210, get best_k: 25.417110981538162 best_b: 51.3503896469051, and the loss is: 36282.44975295041\n",
      "When time is : 211, get best_k: 25.217110981538163 best_b: 51.1503896469051, and the loss is: 35727.670871620096\n",
      "When time is : 212, get best_k: 25.017110981538163 best_b: 50.950389646905094, and the loss is: 35177.17667775963\n",
      "When time is : 213, get best_k: 24.817110981538164 best_b: 50.75038964690509, and the loss is: 34630.96717136907\n",
      "When time is : 214, get best_k: 24.617110981538165 best_b: 50.55038964690509, and the loss is: 34089.04235244844\n",
      "When time is : 215, get best_k: 24.417110981538166 best_b: 50.350389646905086, and the loss is: 33551.40222099767\n",
      "When time is : 216, get best_k: 24.217110981538166 best_b: 50.15038964690508, and the loss is: 33018.04677701678\n",
      "When time is : 217, get best_k: 24.017110981538167 best_b: 49.95038964690508, and the loss is: 32488.97602050573\n",
      "When time is : 218, get best_k: 23.817110981538168 best_b: 49.75038964690508, and the loss is: 31964.189951464603\n",
      "When time is : 219, get best_k: 23.61711098153817 best_b: 49.550389646905074, and the loss is: 31443.688569893366\n",
      "When time is : 220, get best_k: 23.41711098153817 best_b: 49.35038964690507, and the loss is: 30927.47187579197\n",
      "When time is : 221, get best_k: 23.21711098153817 best_b: 49.15038964690507, and the loss is: 30415.539869160497\n",
      "When time is : 222, get best_k: 23.01711098153817 best_b: 48.950389646905066, and the loss is: 29907.892549998876\n",
      "When time is : 223, get best_k: 22.81711098153817 best_b: 48.75038964690506, and the loss is: 29404.52991830716\n",
      "When time is : 224, get best_k: 22.617110981538172 best_b: 48.55038964690506, and the loss is: 28905.45197408534\n",
      "When time is : 225, get best_k: 22.417110981538173 best_b: 48.35038964690506, and the loss is: 28410.658717333365\n",
      "When time is : 226, get best_k: 22.217110981538173 best_b: 48.150389646905055, and the loss is: 27920.15014805128\n",
      "When time is : 227, get best_k: 22.017110981538174 best_b: 47.95038964690505, and the loss is: 27433.92626623905\n",
      "When time is : 228, get best_k: 21.817110981538175 best_b: 47.75038964690505, and the loss is: 26951.987071896725\n",
      "When time is : 229, get best_k: 21.617110981538175 best_b: 47.550389646905046, and the loss is: 26474.33256502432\n",
      "When time is : 230, get best_k: 21.417110981538176 best_b: 47.35038964690504, and the loss is: 26000.962745621728\n",
      "When time is : 231, get best_k: 21.217110981538177 best_b: 47.15038964690504, and the loss is: 25531.877613689085\n",
      "When time is : 232, get best_k: 21.017110981538178 best_b: 46.95038964690504, and the loss is: 25067.077169226286\n",
      "When time is : 233, get best_k: 20.81711098153818 best_b: 46.750389646905035, and the loss is: 24606.56141223335\n",
      "When time is : 234, get best_k: 20.61711098153818 best_b: 46.55038964690503, and the loss is: 24150.330342710327\n",
      "When time is : 235, get best_k: 20.41711098153818 best_b: 46.35038964690503, and the loss is: 23698.383960657175\n",
      "When time is : 236, get best_k: 20.21711098153818 best_b: 46.150389646905026, and the loss is: 23250.722266073903\n",
      "When time is : 237, get best_k: 20.01711098153818 best_b: 45.95038964690502, and the loss is: 22807.345258960515\n",
      "When time is : 238, get best_k: 19.817110981538182 best_b: 45.75038964690502, and the loss is: 22368.25293931699\n",
      "When time is : 239, get best_k: 19.617110981538183 best_b: 45.55038964690502, and the loss is: 21933.445307143425\n",
      "When time is : 240, get best_k: 19.417110981538183 best_b: 45.350389646905015, and the loss is: 21502.92236243963\n",
      "When time is : 241, get best_k: 19.217110981538184 best_b: 45.15038964690501, and the loss is: 21076.684105205768\n",
      "When time is : 242, get best_k: 19.017110981538185 best_b: 44.95038964690501, and the loss is: 20654.730535441802\n",
      "When time is : 243, get best_k: 18.817110981538185 best_b: 44.750389646905006, and the loss is: 20237.061653147706\n",
      "When time is : 244, get best_k: 18.617110981538186 best_b: 44.550389646905, and the loss is: 19823.6774583235\n",
      "When time is : 245, get best_k: 18.417110981538187 best_b: 44.350389646905, and the loss is: 19414.57795096914\n",
      "When time is : 246, get best_k: 18.217110981538188 best_b: 44.150389646905, and the loss is: 19009.763131084706\n",
      "When time is : 247, get best_k: 18.01711098153819 best_b: 43.950389646904995, and the loss is: 18609.23299867013\n",
      "When time is : 248, get best_k: 17.81711098153819 best_b: 43.75038964690499, and the loss is: 18212.987553725427\n",
      "When time is : 249, get best_k: 17.61711098153819 best_b: 43.55038964690499, and the loss is: 17821.02679625061\n",
      "When time is : 250, get best_k: 17.41711098153819 best_b: 43.350389646904986, and the loss is: 17433.350726245695\n",
      "When time is : 251, get best_k: 17.21711098153819 best_b: 43.15038964690498, and the loss is: 17049.95934371064\n",
      "When time is : 252, get best_k: 17.017110981538192 best_b: 42.95038964690498, and the loss is: 16670.852648645494\n",
      "When time is : 253, get best_k: 16.817110981538193 best_b: 42.75038964690498, and the loss is: 16296.030641050169\n",
      "When time is : 254, get best_k: 16.617110981538193 best_b: 42.550389646904975, and the loss is: 15925.4933209248\n",
      "When time is : 255, get best_k: 16.417110981538194 best_b: 42.35038964690497, and the loss is: 15559.240688269269\n",
      "When time is : 256, get best_k: 16.217110981538195 best_b: 42.15038964690497, and the loss is: 15197.272743083617\n",
      "When time is : 257, get best_k: 16.017110981538195 best_b: 41.950389646904966, and the loss is: 14839.589485367878\n",
      "When time is : 258, get best_k: 15.817110981538196 best_b: 41.750389646904964, and the loss is: 14486.190915121995\n",
      "When time is : 259, get best_k: 15.617110981538197 best_b: 41.55038964690496, and the loss is: 14137.077032345986\n",
      "When time is : 260, get best_k: 15.417110981538197 best_b: 41.35038964690496, and the loss is: 13792.247837039877\n",
      "When time is : 261, get best_k: 15.217110981538198 best_b: 41.150389646904955, and the loss is: 13451.703329203649\n",
      "When time is : 262, get best_k: 15.017110981538199 best_b: 40.95038964690495, and the loss is: 13115.443508837307\n",
      "When time is : 263, get best_k: 14.8171109815382 best_b: 40.75038964690495, and the loss is: 12783.468375940816\n",
      "When time is : 264, get best_k: 14.6171109815382 best_b: 40.55038964690495, and the loss is: 12455.777930514249\n",
      "When time is : 265, get best_k: 14.417110981538201 best_b: 40.350389646904944, and the loss is: 12132.372172557527\n",
      "When time is : 266, get best_k: 14.217110981538202 best_b: 40.15038964690494, and the loss is: 11813.251102070686\n",
      "When time is : 267, get best_k: 14.017110981538202 best_b: 39.95038964690494, and the loss is: 11498.41471905376\n",
      "When time is : 268, get best_k: 13.817110981538203 best_b: 39.750389646904935, and the loss is: 11187.863023506685\n",
      "When time is : 269, get best_k: 13.617110981538204 best_b: 39.55038964690493, and the loss is: 10881.596015429497\n",
      "When time is : 270, get best_k: 13.417110981538205 best_b: 39.35038964690493, and the loss is: 10579.613694822196\n",
      "When time is : 271, get best_k: 13.217110981538205 best_b: 39.15038964690493, and the loss is: 10281.916061684775\n",
      "When time is : 272, get best_k: 13.017110981538206 best_b: 38.950389646904924, and the loss is: 9988.503116017248\n",
      "When time is : 273, get best_k: 12.817110981538207 best_b: 38.75038964690492, and the loss is: 9699.374857819592\n",
      "When time is : 274, get best_k: 12.617110981538207 best_b: 38.55038964690492, and the loss is: 9414.531287091819\n",
      "When time is : 275, get best_k: 12.417110981538208 best_b: 38.350389646904915, and the loss is: 9133.972403833917\n",
      "When time is : 276, get best_k: 12.217110981538209 best_b: 38.15038964690491, and the loss is: 8857.698208045904\n",
      "When time is : 277, get best_k: 12.01711098153821 best_b: 37.95038964690491, and the loss is: 8585.708699727786\n",
      "When time is : 278, get best_k: 11.81711098153821 best_b: 37.75038964690491, and the loss is: 8318.003878879521\n",
      "When time is : 279, get best_k: 11.617110981538211 best_b: 37.550389646904904, and the loss is: 8054.583745501163\n",
      "When time is : 280, get best_k: 11.417110981538212 best_b: 37.3503896469049, and the loss is: 7795.44829959267\n",
      "When time is : 281, get best_k: 11.217110981538212 best_b: 37.1503896469049, and the loss is: 7540.597541154068\n",
      "When time is : 282, get best_k: 11.017110981538213 best_b: 36.950389646904895, and the loss is: 7290.031470185347\n",
      "When time is : 283, get best_k: 10.817110981538214 best_b: 36.75038964690489, and the loss is: 7043.750086686507\n",
      "When time is : 284, get best_k: 10.617110981538215 best_b: 36.55038964690489, and the loss is: 6801.75339065753\n",
      "When time is : 285, get best_k: 10.417110981538215 best_b: 36.35038964690489, and the loss is: 6564.041382098465\n",
      "When time is : 286, get best_k: 10.217110981538216 best_b: 36.150389646904884, and the loss is: 6330.614061009261\n",
      "When time is : 287, get best_k: 10.017110981538217 best_b: 35.95038964690488, and the loss is: 6101.471427389948\n",
      "When time is : 288, get best_k: 9.817110981538217 best_b: 35.75038964690488, and the loss is: 5876.613481240504\n",
      "When time is : 289, get best_k: 9.617110981538218 best_b: 35.550389646904875, and the loss is: 5656.040222560952\n",
      "When time is : 290, get best_k: 9.417110981538219 best_b: 35.35038964690487, and the loss is: 5439.751651351275\n",
      "When time is : 291, get best_k: 9.21711098153822 best_b: 35.15038964690487, and the loss is: 5227.747767611496\n",
      "When time is : 292, get best_k: 9.01711098153822 best_b: 34.95038964690487, and the loss is: 5020.028571341582\n",
      "When time is : 293, get best_k: 8.817110981538221 best_b: 34.750389646904864, and the loss is: 4816.594062541552\n",
      "When time is : 294, get best_k: 8.617110981538222 best_b: 34.55038964690486, and the loss is: 4617.444241211409\n",
      "When time is : 295, get best_k: 8.417110981538222 best_b: 34.35038964690486, and the loss is: 4422.579107351139\n",
      "When time is : 296, get best_k: 8.217110981538223 best_b: 34.150389646904856, and the loss is: 4231.998660960759\n",
      "When time is : 297, get best_k: 8.017110981538224 best_b: 33.95038964690485, and the loss is: 4045.7029020402533\n",
      "When time is : 298, get best_k: 7.817110981538224 best_b: 33.75038964690485, and the loss is: 3863.6918305896293\n",
      "When time is : 299, get best_k: 7.617110981538223 best_b: 33.55038964690485, and the loss is: 3685.9654466088855\n",
      "When time is : 300, get best_k: 7.417110981538223 best_b: 33.350389646904844, and the loss is: 3512.5237500980297\n",
      "When time is : 301, get best_k: 7.217110981538223 best_b: 33.15038964690484, and the loss is: 3343.3667410570542\n",
      "When time is : 302, get best_k: 7.017110981538223 best_b: 32.95038964690484, and the loss is: 3178.494419485958\n",
      "When time is : 303, get best_k: 6.817110981538223 best_b: 32.750389646904836, and the loss is: 3017.9067853847405\n",
      "When time is : 304, get best_k: 6.6171109815382225 best_b: 32.55038964690483, and the loss is: 2861.6038387534077\n",
      "When time is : 305, get best_k: 6.417110981538222 best_b: 32.35038964690483, and the loss is: 2709.5855795919574\n",
      "When time is : 306, get best_k: 6.217110981538222 best_b: 32.15038964690483, and the loss is: 2561.8520079003815\n",
      "When time is : 307, get best_k: 6.017110981538222 best_b: 31.950389646904828, and the loss is: 2418.4031236786973\n",
      "When time is : 308, get best_k: 5.817110981538222 best_b: 31.75038964690483, and the loss is: 2279.2389269268897\n",
      "When time is : 309, get best_k: 5.617110981538222 best_b: 31.55038964690483, and the loss is: 2144.359417644961\n",
      "When time is : 310, get best_k: 5.4171109815382215 best_b: 31.35038964690483, and the loss is: 2013.7645958329192\n",
      "When time is : 311, get best_k: 5.217110981538221 best_b: 31.15038964690483, and the loss is: 1887.4544614907559\n",
      "When time is : 312, get best_k: 5.017110981538221 best_b: 30.95038964690483, and the loss is: 1765.429014618472\n",
      "When time is : 313, get best_k: 4.817110981538221 best_b: 30.750389646904832, and the loss is: 1647.6882552160744\n",
      "When time is : 314, get best_k: 4.617110981538221 best_b: 30.550389646904833, and the loss is: 1534.2321832835541\n",
      "When time is : 315, get best_k: 4.417110981538221 best_b: 30.350389646904834, and the loss is: 1425.0607988209197\n",
      "When time is : 316, get best_k: 4.21711098153822 best_b: 30.150389646904834, and the loss is: 1320.1741018281634\n",
      "When time is : 317, get best_k: 4.01711098153822 best_b: 29.950389646904835, and the loss is: 1219.5720923052872\n",
      "When time is : 318, get best_k: 3.81711098153822 best_b: 29.750389646904836, and the loss is: 1123.254770252293\n",
      "When time is : 319, get best_k: 3.61711098153822 best_b: 29.550389646904836, and the loss is: 1031.222135669182\n",
      "When time is : 320, get best_k: 3.4171109815382197 best_b: 29.350389646904837, and the loss is: 943.4741885559525\n",
      "When time is : 321, get best_k: 3.2171109815382195 best_b: 29.150389646904838, and the loss is: 860.0109289126035\n",
      "When time is : 322, get best_k: 3.0171109815382193 best_b: 28.95038964690484, and the loss is: 780.8323567391373\n",
      "When time is : 323, get best_k: 2.817110981538219 best_b: 28.75038964690484, and the loss is: 705.9384720355508\n",
      "When time is : 324, get best_k: 2.617110981538219 best_b: 28.55038964690484, and the loss is: 635.3292748018457\n",
      "When time is : 325, get best_k: 2.417110981538219 best_b: 28.35038964690484, and the loss is: 569.0047650380234\n",
      "When time is : 326, get best_k: 2.2171109815382186 best_b: 28.15038964690484, and the loss is: 506.96494274408144\n",
      "When time is : 327, get best_k: 2.0171109815382184 best_b: 27.950389646904842, and the loss is: 449.2098079200213\n",
      "When time is : 328, get best_k: 1.8171109815382185 best_b: 27.750389646904843, and the loss is: 395.73936056584245\n",
      "When time is : 329, get best_k: 1.6171109815382185 best_b: 27.550389646904843, and the loss is: 346.55360068154505\n",
      "When time is : 330, get best_k: 1.4171109815382186 best_b: 27.350389646904844, and the loss is: 301.6525282671291\n",
      "When time is : 331, get best_k: 1.2171109815382186 best_b: 27.150389646904845, and the loss is: 261.03614332259457\n",
      "When time is : 332, get best_k: 1.0171109815382187 best_b: 26.950389646904846, and the loss is: 224.70444584794134\n",
      "When time is : 333, get best_k: 0.8171109815382187 best_b: 26.750389646904846, and the loss is: 192.65743584316988\n",
      "When time is : 334, get best_k: 0.6171109815382188 best_b: 26.550389646904847, and the loss is: 164.89511330827946\n",
      "When time is : 335, get best_k: 0.41711098153821874 best_b: 26.350389646904848, and the loss is: 141.4174782432707\n",
      "When time is : 336, get best_k: 0.21711098153821873 best_b: 26.15038964690485, and the loss is: 122.2245306481433\n",
      "When time is : 337, get best_k: 0.017110981538218717 best_b: 25.95038964690485, and the loss is: 107.31627052289734\n",
      "When time is : 338, get best_k: -0.1828890184617813 best_b: 25.75038964690485, and the loss is: 96.69269786753273\n",
      "When time is : 339, get best_k: -0.3828890184617813 best_b: 25.55038964690485, and the loss is: 90.35381268204948\n",
      "When time is : 340, get best_k: -0.5828890184617813 best_b: 25.35038964690485, and the loss is: 88.29961496644782\n"
     ]
    }
   ],
   "source": [
    "X_rm = X[:,5]\n",
    "trying_times = 2000\n",
    "\n",
    "min_loss = float('inf')\n",
    "\n",
    "best_k = random.random() * 200 - 100\n",
    "best_b = random.random() * 200 - 100\n",
    "\n",
    "direction = [\n",
    "    (+1,-1),\n",
    "    (+1,+1),\n",
    "    (-1,-1),\n",
    "    (-1,+1)\n",
    "]\n",
    "\n",
    "# scalar = 0.1\n",
    "scalar = 0.2\n",
    "next_direction = random.choice(direction)\n",
    "# print(type(next_direction))\n",
    "for i in range(trying_times):\n",
    "    \n",
    "    k_direction, b_direction = next_direction\n",
    "    \n",
    "    current_k = best_k + k_direction * scalar\n",
    "    current_b = best_b + b_direction * scalar\n",
    "    \n",
    "    price_by_random_k_and_b = [price(rm,best_k,best_b) for rm in X_rm]\n",
    "    current_loss = loss(y,price_by_random_k_and_b)\n",
    "    \n",
    "    if current_loss < min_loss:\n",
    "        min_loss = current_loss\n",
    "        best_k = current_k\n",
    "        best_b = current_b\n",
    "        print('When time is : {}, get best_k: {} best_b: {}, and the loss is: {}'.format(i, best_k, best_b, min_loss))\n",
    "    else: \n",
    "        next_direction = random.choice(direction)\n",
    "    \n"
   ]
  },
  {
   "cell_type": "code",
   "execution_count": 30,
   "metadata": {
    "collapsed": false
   },
   "outputs": [
    {
     "name": "stdout",
     "output_type": "stream",
     "text": [
      "<class 'list'>\n"
     ]
    }
   ],
   "source": [
    "direction = [\n",
    "    (+1,-1),\n",
    "    (+1,+1),\n",
    "    (-1,-1),\n",
    "    (-1,+1)\n",
    "]\n",
    "print(type(direction))"
   ]
  },
  {
   "cell_type": "code",
   "execution_count": 47,
   "metadata": {
    "collapsed": false
   },
   "outputs": [],
   "source": [
    "next_direction = random.choice(direction)\n",
    "direction.remove(next_direction)"
   ]
  },
  {
   "cell_type": "code",
   "execution_count": 48,
   "metadata": {
    "collapsed": false
   },
   "outputs": [
    {
     "data": {
      "text/plain": [
       "[]"
      ]
     },
     "execution_count": 48,
     "metadata": {},
     "output_type": "execute_result"
    }
   ],
   "source": [
    "direction"
   ]
  },
  {
   "cell_type": "code",
   "execution_count": null,
   "metadata": {
    "collapsed": true
   },
   "outputs": [],
   "source": []
  },
  {
   "cell_type": "code",
   "execution_count": null,
   "metadata": {
    "collapsed": true
   },
   "outputs": [],
   "source": []
  }
 ],
 "metadata": {
  "anaconda-cloud": {},
  "kernelspec": {
   "display_name": "Python [default]",
   "language": "python",
   "name": "python3"
  },
  "language_info": {
   "codemirror_mode": {
    "name": "ipython",
    "version": 3
   },
   "file_extension": ".py",
   "mimetype": "text/x-python",
   "name": "python",
   "nbconvert_exporter": "python",
   "pygments_lexer": "ipython3",
   "version": "3.5.2"
  }
 },
 "nbformat": 4,
 "nbformat_minor": 1
}
