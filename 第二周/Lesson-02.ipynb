{
 "cells": [
  {
   "cell_type": "markdown",
   "metadata": {},
   "source": [
    "##### 问题描述\n",
    "\n",
    "大家好，我们在用 networkx 显示中文的时候，会发现不能显示中文。 \n",
    "\n",
    "##### 解决办法\n",
    "\n",
    "1. 下载Github仓库中的字体SimHei.ttf； \n",
    "2. 在 jupyter notebook 中执行\n",
    "```python\n",
    "import matplotlib\n",
    "print(matplotlib.__path__)\n",
    "```\n",
    "找到 matplotlib 的路径，然后 cd 到这个路径。 cd 到这个路径之后，继续 cd，cd 到 mpl-data/fonts/ttf 这个路径。 然后把我们刚刚下载的文件名字改成  这个文件名`Vera.tff`。 \n",
    "\n",
    "```bash\n",
    "$ mv SimHei.ttf DejaVuSans.ttf\n",
    "```\n",
    "\n",
    "其中，用到的 ttf 字体。 我给大家传到附件上了。 \n"
   ]
  },
  {
   "cell_type": "markdown",
   "metadata": {},
   "source": [
    "Previous Course"
   ]
  },
  {
   "cell_type": "markdown",
   "metadata": {},
   "source": [
    "1. What's the language model? OOV problem? \n",
    "2. Syntax Tree. lambda "
   ]
  },
  {
   "cell_type": "markdown",
   "metadata": {},
   "source": [
    "$$ pr(w) $$"
   ]
  },
  {
   "cell_type": "markdown",
   "metadata": {},
   "source": [
    "## Out of Vocabulary(OOV)"
   ]
  },
  {
   "cell_type": "markdown",
   "metadata": {},
   "source": [
    "Pr(w_o) = constant < Pr(w_1)"
   ]
  },
  {
   "cell_type": "markdown",
   "metadata": {},
   "source": [
    "## Language Model: Smooth"
   ]
  },
  {
   "cell_type": "code",
   "execution_count": 1,
   "metadata": {
    "collapsed": true
   },
   "outputs": [],
   "source": [
    "import random"
   ]
  },
  {
   "cell_type": "code",
   "execution_count": 5,
   "metadata": {
    "collapsed": true
   },
   "outputs": [],
   "source": [
    "\"\"\"adj* => adj* adj | adj null\"\"\"\n",
    "\n",
    "def adj():  return random.choice('蓝色的 | 好看的 | 小小的'.split('|')).split()[0]\n",
    "\n",
    "def adj_star_2():\n",
    "     return random.choice([lambda : '', lambda : adj() + adj_star_2()])()\n",
    "\n",
    "def adj_star():\n",
    "    return random.choice(['', ajd() + adj_star()])"
   ]
  },
  {
   "cell_type": "code",
   "execution_count": null,
   "metadata": {
    "collapsed": true
   },
   "outputs": [],
   "source": [
    "lambda : adj() + adj_star_2()"
   ]
  },
  {
   "cell_type": "code",
   "execution_count": 31,
   "metadata": {
    "collapsed": true
   },
   "outputs": [],
   "source": [
    "numbers = [1, -2, -4, 1, 5, 6, 9, -11]"
   ]
  },
  {
   "cell_type": "code",
   "execution_count": 36,
   "metadata": {
    "collapsed": true
   },
   "outputs": [],
   "source": [
    "def absolute(number): \n",
    "    if number < 0: return -1 * number\n",
    "    else:\n",
    "        return number"
   ]
  },
  {
   "cell_type": "code",
   "execution_count": 34,
   "metadata": {
    "collapsed": false
   },
   "outputs": [
    {
     "data": {
      "text/plain": [
       "11"
      ]
     },
     "execution_count": 34,
     "metadata": {},
     "output_type": "execute_result"
    }
   ],
   "source": [
    "absolute(-11)"
   ]
  },
  {
   "cell_type": "code",
   "execution_count": 38,
   "metadata": {
    "collapsed": false
   },
   "outputs": [
    {
     "data": {
      "text/plain": [
       "1"
      ]
     },
     "execution_count": 38,
     "metadata": {},
     "output_type": "execute_result"
    }
   ],
   "source": [
    "mod_5(6)"
   ]
  },
  {
   "cell_type": "code",
   "execution_count": 39,
   "metadata": {
    "collapsed": false
   },
   "outputs": [
    {
     "data": {
      "text/plain": [
       "2"
      ]
     },
     "execution_count": 39,
     "metadata": {},
     "output_type": "execute_result"
    }
   ],
   "source": [
    "mod_5(7)"
   ]
  },
  {
   "cell_type": "code",
   "execution_count": 41,
   "metadata": {
    "collapsed": false
   },
   "outputs": [
    {
     "data": {
      "text/plain": [
       "[5, 1, -4, 1, 6, -2, 9, -11]"
      ]
     },
     "execution_count": 41,
     "metadata": {},
     "output_type": "execute_result"
    }
   ],
   "source": [
    "def mod_5(number): \n",
    "    return number % 5\n",
    "\n",
    "sorted(numbers, key=lambda x: x % 5)"
   ]
  },
  {
   "cell_type": "code",
   "execution_count": 42,
   "metadata": {
    "collapsed": true
   },
   "outputs": [],
   "source": [
    "mod_5_lambda = lambda x: x % 5"
   ]
  },
  {
   "cell_type": "code",
   "execution_count": 43,
   "metadata": {
    "collapsed": false
   },
   "outputs": [
    {
     "data": {
      "text/plain": [
       "<function __main__.mod_5(number)>"
      ]
     },
     "execution_count": 43,
     "metadata": {},
     "output_type": "execute_result"
    }
   ],
   "source": [
    "mod_5"
   ]
  },
  {
   "cell_type": "code",
   "execution_count": 45,
   "metadata": {
    "collapsed": false
   },
   "outputs": [
    {
     "data": {
      "text/plain": [
       "4"
      ]
     },
     "execution_count": 45,
     "metadata": {},
     "output_type": "execute_result"
    }
   ],
   "source": [
    "mod_5_lambda(19)"
   ]
  },
  {
   "cell_type": "code",
   "execution_count": 46,
   "metadata": {
    "collapsed": false
   },
   "outputs": [
    {
     "data": {
      "text/plain": [
       "4"
      ]
     },
     "execution_count": 46,
     "metadata": {},
     "output_type": "execute_result"
    }
   ],
   "source": [
    "mod_5(19)"
   ]
  },
  {
   "cell_type": "code",
   "execution_count": 30,
   "metadata": {
    "collapsed": false
   },
   "outputs": [
    {
     "data": {
      "text/plain": [
       "'蓝色的'"
      ]
     },
     "execution_count": 30,
     "metadata": {},
     "output_type": "execute_result"
    }
   ],
   "source": [
    "adj_star_2()"
   ]
  },
  {
   "cell_type": "markdown",
   "metadata": {},
   "source": [
    "## Search Policy"
   ]
  },
  {
   "cell_type": "code",
   "execution_count": 48,
   "metadata": {
    "collapsed": true
   },
   "outputs": [],
   "source": [
    "coordination_source = \"\"\"\n",
    "{name:'兰州', geoCoord:[103.73, 36.03]},\n",
    "{name:'嘉峪关', geoCoord:[98.17, 39.47]},\n",
    "{name:'西宁', geoCoord:[101.74, 36.56]},\n",
    "{name:'成都', geoCoord:[104.06, 30.67]},\n",
    "{name:'石家庄', geoCoord:[114.48, 38.03]},\n",
    "{name:'拉萨', geoCoord:[102.73, 25.04]},\n",
    "{name:'贵阳', geoCoord:[106.71, 26.57]},\n",
    "{name:'武汉', geoCoord:[114.31, 30.52]},\n",
    "{name:'郑州', geoCoord:[113.65, 34.76]},\n",
    "{name:'济南', geoCoord:[117, 36.65]},\n",
    "{name:'南京', geoCoord:[118.78, 32.04]},\n",
    "{name:'合肥', geoCoord:[117.27, 31.86]},\n",
    "{name:'杭州', geoCoord:[120.19, 30.26]},\n",
    "{name:'南昌', geoCoord:[115.89, 28.68]},\n",
    "{name:'福州', geoCoord:[119.3, 26.08]},\n",
    "{name:'广州', geoCoord:[113.23, 23.16]},\n",
    "{name:'长沙', geoCoord:[113, 28.21]},\n",
    "//{name:'海口', geoCoord:[110.35, 20.02]},\n",
    "{name:'沈阳', geoCoord:[123.38, 41.8]},\n",
    "{name:'长春', geoCoord:[125.35, 43.88]},\n",
    "{name:'哈尔滨', geoCoord:[126.63, 45.75]},\n",
    "{name:'太原', geoCoord:[112.53, 37.87]},\n",
    "{name:'西安', geoCoord:[108.95, 34.27]},\n",
    "//{name:'台湾', geoCoord:[121.30, 25.03]},\n",
    "{name:'北京', geoCoord:[116.46, 39.92]},\n",
    "{name:'上海', geoCoord:[121.48, 31.22]},\n",
    "{name:'重庆', geoCoord:[106.54, 29.59]},\n",
    "{name:'天津', geoCoord:[117.2, 39.13]},\n",
    "{name:'呼和浩特', geoCoord:[111.65, 40.82]},\n",
    "{name:'南宁', geoCoord:[108.33, 22.84]},\n",
    "//{name:'西藏', geoCoord:[91.11, 29.97]},\n",
    "{name:'银川', geoCoord:[106.27, 38.47]},\n",
    "{name:'乌鲁木齐', geoCoord:[87.68, 43.77]},\n",
    "{name:'香港', geoCoord:[114.17, 22.28]},\n",
    "{name:'澳门', geoCoord:[113.54, 22.19]}\n",
    "\"\"\""
   ]
  },
  {
   "cell_type": "code",
   "execution_count": 54,
   "metadata": {
    "collapsed": true
   },
   "outputs": [],
   "source": [
    "city_location = {\n",
    "    '香港': (114.17, 22.28)\n",
    "}"
   ]
  },
  {
   "cell_type": "markdown",
   "metadata": {},
   "source": [
    "Input: String -> dict"
   ]
  },
  {
   "cell_type": "code",
   "execution_count": 55,
   "metadata": {
    "collapsed": true
   },
   "outputs": [],
   "source": [
    "test_string = \"{name:'兰州', geoCoord:[103.73, 36.03]},\""
   ]
  },
  {
   "cell_type": "code",
   "execution_count": 56,
   "metadata": {
    "collapsed": true
   },
   "outputs": [],
   "source": [
    "import re"
   ]
  },
  {
   "cell_type": "code",
   "execution_count": 86,
   "metadata": {
    "collapsed": true
   },
   "outputs": [],
   "source": [
    "pattern = re.compile(r\"name:'(\\w+)',\\s+geoCoord:\\[(\\d+.\\d+),\\s(\\d+.\\d+)\\]\")"
   ]
  },
  {
   "cell_type": "code",
   "execution_count": 93,
   "metadata": {
    "collapsed": true
   },
   "outputs": [],
   "source": [
    "for line in coordination_source.split('\\n'):\n",
    "    city_info = pattern.findall(line)\n",
    "    if not city_info: continue\n",
    "    \n",
    "    # following: we find the city info\n",
    "    \n",
    "    city, long, lat = city_info[0]\n",
    "    \n",
    "    long, lat = float(long), float(lat)\n",
    "    \n",
    "    city_location[city] = (long, lat)"
   ]
  },
  {
   "cell_type": "code",
   "execution_count": 94,
   "metadata": {
    "collapsed": false
   },
   "outputs": [
    {
     "data": {
      "text/plain": [
       "{'香港': (114.17, 22.28),\n",
       " '兰州': (103.73, 36.03),\n",
       " '嘉峪关': (98.17, 39.47),\n",
       " '西宁': (101.74, 36.56),\n",
       " '成都': (104.06, 30.67),\n",
       " '石家庄': (114.48, 38.03),\n",
       " '拉萨': (102.73, 25.04),\n",
       " '贵阳': (106.71, 26.57),\n",
       " '武汉': (114.31, 30.52),\n",
       " '郑州': (113.65, 34.76),\n",
       " '济南': (117.0, 36.65),\n",
       " '南京': (118.78, 32.04),\n",
       " '合肥': (117.27, 31.86),\n",
       " '杭州': (120.19, 30.26),\n",
       " '南昌': (115.89, 28.68),\n",
       " '福州': (119.3, 26.08),\n",
       " '广州': (113.23, 23.16),\n",
       " '长沙': (113.0, 28.21),\n",
       " '海口': (110.35, 20.02),\n",
       " '沈阳': (123.38, 41.8),\n",
       " '长春': (125.35, 43.88),\n",
       " '哈尔滨': (126.63, 45.75),\n",
       " '太原': (112.53, 37.87),\n",
       " '西安': (108.95, 34.27),\n",
       " '台湾': (121.3, 25.03),\n",
       " '北京': (116.46, 39.92),\n",
       " '上海': (121.48, 31.22),\n",
       " '重庆': (106.54, 29.59),\n",
       " '天津': (117.2, 39.13),\n",
       " '呼和浩特': (111.65, 40.82),\n",
       " '南宁': (108.33, 22.84),\n",
       " '西藏': (91.11, 29.97),\n",
       " '银川': (106.27, 38.47),\n",
       " '乌鲁木齐': (87.68, 43.77),\n",
       " '澳门': (113.54, 22.19)}"
      ]
     },
     "execution_count": 94,
     "metadata": {},
     "output_type": "execute_result"
    }
   ],
   "source": [
    "city_location"
   ]
  },
  {
   "cell_type": "code",
   "execution_count": 89,
   "metadata": {
    "collapsed": true
   },
   "outputs": [],
   "source": [
    "import math"
   ]
  },
  {
   "cell_type": "code",
   "execution_count": 90,
   "metadata": {
    "collapsed": true
   },
   "outputs": [],
   "source": [
    "def geo_distance(origin, destination):\n",
    "    \"\"\"\n",
    "    Calculate the Haversine distance.\n",
    "\n",
    "    Parameters\n",
    "    ----------\n",
    "    origin : tuple of float\n",
    "        (lat, long)\n",
    "    destination : tuple of float\n",
    "        (lat, long)\n",
    "\n",
    "    Returns\n",
    "    -------\n",
    "    distance_in_km : float\n",
    "\n",
    "    Examples\n",
    "    --------\n",
    "    >>> origin = (48.1372, 11.5756)  # Munich\n",
    "    >>> destination = (52.5186, 13.4083)  # Berlin\n",
    "    >>> round(distance(origin, destination), 1)\n",
    "    504.2\n",
    "    \"\"\"\n",
    "    lat1, lon1 = origin\n",
    "    lat2, lon2 = destination\n",
    "    radius = 6371  # km\n",
    "\n",
    "    dlat = math.radians(lat2 - lat1)\n",
    "    dlon = math.radians(lon2 - lon1)\n",
    "    a = (math.sin(dlat / 2) * math.sin(dlat / 2) +\n",
    "         math.cos(math.radians(lat1)) * math.cos(math.radians(lat2)) *\n",
    "         math.sin(dlon / 2) * math.sin(dlon / 2))\n",
    "    c = 2 * math.atan2(math.sqrt(a), math.sqrt(1 - a))\n",
    "    d = radius * c\n",
    "\n",
    "    return d"
   ]
  },
  {
   "cell_type": "code",
   "execution_count": 91,
   "metadata": {
    "collapsed": true
   },
   "outputs": [],
   "source": [
    "def get_geo_distance(city1, city2):\n",
    "    return geo_distance(city_location[city1], city_location[city2])"
   ]
  },
  {
   "cell_type": "code",
   "execution_count": 95,
   "metadata": {
    "collapsed": false
   },
   "outputs": [
    {
     "data": {
      "text/plain": [
       "153.5185697155768"
      ]
     },
     "execution_count": 95,
     "metadata": {},
     "output_type": "execute_result"
    }
   ],
   "source": [
    "get_geo_distance('上海', '杭州')"
   ]
  },
  {
   "cell_type": "code",
   "execution_count": 96,
   "metadata": {
    "collapsed": true
   },
   "outputs": [],
   "source": [
    "import networkx as nx"
   ]
  },
  {
   "cell_type": "code",
   "execution_count": 114,
   "metadata": {
    "collapsed": true
   },
   "outputs": [],
   "source": [
    "city_graph = nx.Graph()"
   ]
  },
  {
   "cell_type": "code",
   "execution_count": 115,
   "metadata": {
    "collapsed": true
   },
   "outputs": [],
   "source": [
    "city_graph.add_nodes_from(list(city_location.keys()))"
   ]
  },
  {
   "cell_type": "code",
   "execution_count": 106,
   "metadata": {
    "collapsed": true
   },
   "outputs": [],
   "source": [
    "%matplotlib inline"
   ]
  },
  {
   "cell_type": "code",
   "execution_count": 109,
   "metadata": {
    "collapsed": true
   },
   "outputs": [],
   "source": [
    "import matplotlib.pyplot as plt"
   ]
  },
  {
   "cell_type": "code",
   "execution_count": 120,
   "metadata": {
    "collapsed": false
   },
   "outputs": [
    {
     "data": {
      "image/png": "[encoded data removed]",
      "text/plain": [
       "<Figure size 432x288 with 1 Axes>"
      ]
     },
     "metadata": {},
     "output_type": "display_data"
    }
   ],
   "source": [
    "nx.draw(city_graph, city_location, with_labels=True, node_size=30)"
   ]
  },
  {
   "cell_type": "code",
   "execution_count": 205,
   "metadata": {
    "collapsed": true
   },
   "outputs": [],
   "source": [
    "threshold = 300"
   ]
  },
  {
   "cell_type": "code",
   "execution_count": 208,
   "metadata": {
    "collapsed": true
   },
   "outputs": [],
   "source": [
    "city_connection = defaultdict(list)"
   ]
  },
  {
   "cell_type": "code",
   "execution_count": 211,
   "metadata": {
    "collapsed": true
   },
   "outputs": [],
   "source": [
    "for c1 in city_location:\n",
    "    for c2 in city_location:\n",
    "        if c1 == c2: continue\n",
    "        \n",
    "        distance = get_geo_distance(c1, c2)\n",
    "        \n",
    "        if distance < threshold:\n",
    "            city_connection[c1].append(c2)\n",
    "            city_connection[c2].append(c1)"
   ]
  },
  {
   "cell_type": "code",
   "execution_count": 212,
   "metadata": {
    "collapsed": false
   },
   "outputs": [
    {
     "data": {
      "text/plain": [
       "defaultdict(list,\n",
       "            {'香港': ['广州',\n",
       "              '长沙',\n",
       "              '澳门',\n",
       "              '广州',\n",
       "              '长沙',\n",
       "              '澳门',\n",
       "              '广州',\n",
       "              '长沙',\n",
       "              '澳门',\n",
       "              '广州',\n",
       "              '长沙',\n",
       "              '澳门'],\n",
       "             '广州': ['香港',\n",
       "              '香港',\n",
       "              '长沙',\n",
       "              '澳门',\n",
       "              '长沙',\n",
       "              '澳门',\n",
       "              '香港',\n",
       "              '香港',\n",
       "              '长沙',\n",
       "              '澳门',\n",
       "              '长沙',\n",
       "              '澳门'],\n",
       "             '长沙': ['香港',\n",
       "              '武汉',\n",
       "              '郑州',\n",
       "              '广州',\n",
       "              '香港',\n",
       "              '武汉',\n",
       "              '郑州',\n",
       "              '广州',\n",
       "              '澳门',\n",
       "              '澳门',\n",
       "              '香港',\n",
       "              '武汉',\n",
       "              '郑州',\n",
       "              '广州',\n",
       "              '香港',\n",
       "              '武汉',\n",
       "              '郑州',\n",
       "              '广州',\n",
       "              '澳门',\n",
       "              '澳门'],\n",
       "             '澳门': ['香港',\n",
       "              '广州',\n",
       "              '长沙',\n",
       "              '香港',\n",
       "              '广州',\n",
       "              '长沙',\n",
       "              '香港',\n",
       "              '广州',\n",
       "              '长沙',\n",
       "              '香港',\n",
       "              '广州',\n",
       "              '长沙'],\n",
       "             '兰州': ['西宁',\n",
       "              '成都',\n",
       "              '银川',\n",
       "              '西宁',\n",
       "              '成都',\n",
       "              '银川',\n",
       "              '西宁',\n",
       "              '成都',\n",
       "              '银川',\n",
       "              '西宁',\n",
       "              '成都',\n",
       "              '银川'],\n",
       "             '西宁': ['兰州',\n",
       "              '兰州',\n",
       "              '成都',\n",
       "              '拉萨',\n",
       "              '成都',\n",
       "              '拉萨',\n",
       "              '兰州',\n",
       "              '兰州',\n",
       "              '成都',\n",
       "              '拉萨',\n",
       "              '成都',\n",
       "              '拉萨'],\n",
       "             '成都': ['兰州',\n",
       "              '西宁',\n",
       "              '兰州',\n",
       "              '西宁',\n",
       "              '拉萨',\n",
       "              '重庆',\n",
       "              '拉萨',\n",
       "              '重庆',\n",
       "              '兰州',\n",
       "              '西宁',\n",
       "              '兰州',\n",
       "              '西宁',\n",
       "              '拉萨',\n",
       "              '重庆',\n",
       "              '拉萨',\n",
       "              '重庆'],\n",
       "             '银川': ['兰州', '重庆', '兰州', '重庆', '兰州', '重庆', '兰州', '重庆'],\n",
       "             '拉萨': ['西宁', '成都', '西宁', '成都', '西宁', '成都', '西宁', '成都'],\n",
       "             '重庆': ['成都',\n",
       "              '贵阳',\n",
       "              '成都',\n",
       "              '贵阳',\n",
       "              '银川',\n",
       "              '银川',\n",
       "              '成都',\n",
       "              '贵阳',\n",
       "              '成都',\n",
       "              '贵阳',\n",
       "              '银川',\n",
       "              '银川'],\n",
       "             '石家庄': ['郑州',\n",
       "              '济南',\n",
       "              '太原',\n",
       "              '北京',\n",
       "              '郑州',\n",
       "              '济南',\n",
       "              '太原',\n",
       "              '北京',\n",
       "              '郑州',\n",
       "              '济南',\n",
       "              '太原',\n",
       "              '北京',\n",
       "              '郑州',\n",
       "              '济南',\n",
       "              '太原',\n",
       "              '北京'],\n",
       "             '郑州': ['石家庄',\n",
       "              '武汉',\n",
       "              '石家庄',\n",
       "              '武汉',\n",
       "              '长沙',\n",
       "              '太原',\n",
       "              '长沙',\n",
       "              '太原',\n",
       "              '石家庄',\n",
       "              '武汉',\n",
       "              '石家庄',\n",
       "              '武汉',\n",
       "              '长沙',\n",
       "              '太原',\n",
       "              '长沙',\n",
       "              '太原'],\n",
       "             '济南': ['石家庄',\n",
       "              '石家庄',\n",
       "              '合肥',\n",
       "              '北京',\n",
       "              '天津',\n",
       "              '合肥',\n",
       "              '北京',\n",
       "              '天津',\n",
       "              '石家庄',\n",
       "              '石家庄',\n",
       "              '合肥',\n",
       "              '北京',\n",
       "              '天津',\n",
       "              '合肥',\n",
       "              '北京',\n",
       "              '天津'],\n",
       "             '太原': ['石家庄',\n",
       "              '郑州',\n",
       "              '石家庄',\n",
       "              '郑州',\n",
       "              '呼和浩特',\n",
       "              '呼和浩特',\n",
       "              '石家庄',\n",
       "              '郑州',\n",
       "              '石家庄',\n",
       "              '郑州',\n",
       "              '呼和浩特',\n",
       "              '呼和浩特'],\n",
       "             '北京': ['石家庄',\n",
       "              '济南',\n",
       "              '石家庄',\n",
       "              '济南',\n",
       "              '天津',\n",
       "              '天津',\n",
       "              '石家庄',\n",
       "              '济南',\n",
       "              '石家庄',\n",
       "              '济南',\n",
       "              '天津',\n",
       "              '天津'],\n",
       "             '贵阳': ['重庆', '南宁', '重庆', '南宁', '重庆', '南宁', '重庆', '南宁'],\n",
       "             '南宁': ['贵阳', '海口', '贵阳', '海口', '贵阳', '海口', '贵阳', '海口'],\n",
       "             '武汉': ['郑州',\n",
       "              '南昌',\n",
       "              '长沙',\n",
       "              '郑州',\n",
       "              '南昌',\n",
       "              '长沙',\n",
       "              '郑州',\n",
       "              '南昌',\n",
       "              '长沙',\n",
       "              '郑州',\n",
       "              '南昌',\n",
       "              '长沙'],\n",
       "             '南昌': ['武汉', '合肥', '武汉', '合肥', '武汉', '合肥', '武汉', '合肥'],\n",
       "             '合肥': ['济南',\n",
       "              '南京',\n",
       "              '济南',\n",
       "              '南京',\n",
       "              '南昌',\n",
       "              '南昌',\n",
       "              '济南',\n",
       "              '南京',\n",
       "              '济南',\n",
       "              '南京',\n",
       "              '南昌',\n",
       "              '南昌'],\n",
       "             '天津': ['济南', '北京', '济南', '北京', '济南', '北京', '济南', '北京'],\n",
       "             '南京': ['合肥', '杭州', '合肥', '杭州', '合肥', '杭州', '合肥', '杭州'],\n",
       "             '杭州': ['南京',\n",
       "              '南京',\n",
       "              '福州',\n",
       "              '上海',\n",
       "              '福州',\n",
       "              '上海',\n",
       "              '南京',\n",
       "              '南京',\n",
       "              '福州',\n",
       "              '上海',\n",
       "              '福州',\n",
       "              '上海'],\n",
       "             '福州': ['杭州', '杭州', '台湾', '台湾', '杭州', '杭州', '台湾', '台湾'],\n",
       "             '上海': ['杭州', '杭州', '杭州', '杭州'],\n",
       "             '台湾': ['福州', '福州', '福州', '福州'],\n",
       "             '海口': ['南宁', '南宁', '南宁', '南宁'],\n",
       "             '沈阳': ['长春', '长春', '长春', '长春'],\n",
       "             '长春': ['沈阳', '沈阳', '哈尔滨', '哈尔滨', '沈阳', '沈阳', '哈尔滨', '哈尔滨'],\n",
       "             '哈尔滨': ['长春', '长春', '长春', '长春'],\n",
       "             '呼和浩特': ['太原', '太原', '太原', '太原']})"
      ]
     },
     "execution_count": 212,
     "metadata": {},
     "output_type": "execute_result"
    }
   ],
   "source": [
    "city_connection"
   ]
  },
  {
   "cell_type": "code",
   "execution_count": 213,
   "metadata": {
    "collapsed": true
   },
   "outputs": [],
   "source": [
    "city_with_road = nx.Graph(city_connection)"
   ]
  },
  {
   "cell_type": "code",
   "execution_count": 214,
   "metadata": {
    "collapsed": false
   },
   "outputs": [
    {
     "name": "stderr",
     "output_type": "stream",
     "text": [
      "/Users/gaominquan/anaconda3/lib/python3.7/site-packages/networkx/drawing/nx_pylab.py:611: MatplotlibDeprecationWarning: isinstance(..., numbers.Number)\n",
      "  if cb.is_numlike(alpha):\n"
     ]
    },
    {
     "data": {
      "image/png": "[encoded data removed]",
      "text/plain": [
       "<Figure size 432x288 with 1 Axes>"
      ]
     },
     "metadata": {},
     "output_type": "display_data"
    }
   ],
   "source": [
    "nx.draw(city_with_road, city_location, with_labels=True, node_size=30)"
   ]
  },
  {
   "cell_type": "code",
   "execution_count": null,
   "metadata": {
    "collapsed": true
   },
   "outputs": [],
   "source": [
    "g"
   ]
  },
  {
   "cell_type": "code",
   "execution_count": 147,
   "metadata": {
    "collapsed": true
   },
   "outputs": [],
   "source": [
    "from collections import defaultdict"
   ]
  },
  {
   "cell_type": "code",
   "execution_count": 148,
   "metadata": {
    "collapsed": true
   },
   "outputs": [],
   "source": [
    "simple_connection_info_src = {\n",
    "    '北京': ['太原', '沈阳'],\n",
    "    '太原': ['北京', '西安', '郑州'],\n",
    "    '兰州': ['西安'],\n",
    "    '郑州': ['太原'],\n",
    "    '西安': ['兰州', '长沙'],\n",
    "    '长沙': ['福州', '南宁'],\n",
    "    '沈阳': ['北京']\n",
    "}"
   ]
  },
  {
   "cell_type": "code",
   "execution_count": 149,
   "metadata": {
    "collapsed": true
   },
   "outputs": [],
   "source": [
    "simple_connection_info = defaultdict(list)"
   ]
  },
  {
   "cell_type": "code",
   "execution_count": 150,
   "metadata": {
    "collapsed": true
   },
   "outputs": [],
   "source": [
    "simple_connection_info.update(simple_connection_info_src)"
   ]
  },
  {
   "cell_type": "code",
   "execution_count": 198,
   "metadata": {
    "collapsed": true
   },
   "outputs": [],
   "source": [
    "def bfs(graph, start):\n",
    "    \"\"\"\n",
    "    breath first search\n",
    "    \"\"\"\n",
    "    visited = [start]\n",
    "    \n",
    "    seen = set()\n",
    "    \n",
    "    while visited:\n",
    "        froninter = visited.pop() #\n",
    "        \n",
    "        if froninter in seen: continue\n",
    "        \n",
    "        for successor in graph[froninter]:\n",
    "            if successor in seen: continue\n",
    "            print(successor)\n",
    "            \n",
    "            #visited = visited + [successor] # 我们每次扩展都扩展最新发现的点 -> depth first\n",
    "            visited = [successor] + visited # 我们每次扩展都先考虑已经发现的 老的点 -> breath first\n",
    "            \n",
    "            # 所以说，这个扩展顺序其实是决定了我们的深度优先还是广度优先\n",
    "    \n",
    "        seen.add(froninter)\n",
    "    \n",
    "    return seen"
   ]
  },
  {
   "cell_type": "code",
   "execution_count": 202,
   "metadata": {
    "collapsed": true
   },
   "outputs": [],
   "source": [
    "number_grpah = defaultdict(list)\n",
    "\n",
    "number_grpah.update({\n",
    "    1: [2, 3],\n",
    "    2: [1, 4], \n",
    "    3: [1, 5],\n",
    "    4: [2, 6], \n",
    "    5: [3, 7],\n",
    "    7: [5, 8]\n",
    "})"
   ]
  },
  {
   "cell_type": "code",
   "execution_count": 203,
   "metadata": {
    "collapsed": false
   },
   "outputs": [
    {
     "name": "stdout",
     "output_type": "stream",
     "text": [
      "2\n",
      "3\n",
      "4\n",
      "5\n",
      "6\n",
      "7\n",
      "8\n"
     ]
    },
    {
     "data": {
      "text/plain": [
       "{1, 2, 3, 4, 5, 6, 7, 8}"
      ]
     },
     "execution_count": 203,
     "metadata": {},
     "output_type": "execute_result"
    }
   ],
   "source": [
    "bfs(number_grpah, 1)"
   ]
  },
  {
   "cell_type": "code",
   "execution_count": 201,
   "metadata": {
    "collapsed": false
   },
   "outputs": [
    {
     "data": {
      "text/plain": [
       "['兰州', '长沙']"
      ]
     },
     "execution_count": 201,
     "metadata": {},
     "output_type": "execute_result"
    }
   ],
   "source": [
    "simple_connection_info['西安']"
   ]
  },
  {
   "cell_type": "code",
   "execution_count": 128,
   "metadata": {
    "collapsed": false
   },
   "outputs": [
    {
     "name": "stderr",
     "output_type": "stream",
     "text": [
      "/Users/gaominquan/anaconda3/lib/python3.7/site-packages/networkx/drawing/nx_pylab.py:611: MatplotlibDeprecationWarning: isinstance(..., numbers.Number)\n",
      "  if cb.is_numlike(alpha):\n"
     ]
    },
    {
     "data": {
      "image/png": "[encoded data removed]",
      "text/plain": [
       "<Figure size 432x288 with 1 Axes>"
      ]
     },
     "metadata": {},
     "output_type": "display_data"
    }
   ],
   "source": [
    "nx.draw(nx.Graph(simple_connection_info), city_location, with_labels=True, node_size=10)"
   ]
  },
  {
   "cell_type": "code",
   "execution_count": 253,
   "metadata": {
    "collapsed": true
   },
   "outputs": [],
   "source": [
    "def search(start, destination, connection_grpah, sort_candidate):\n",
    "    pathes = [[start]]\n",
    "    \n",
    "    visitied = set()\n",
    "    \n",
    "    while pathes: # if we find existing pathes\n",
    "        path = pathes.pop(0)\n",
    "        froninter = path[-1]\n",
    "        \n",
    "        if froninter in visitied: continue\n",
    "            \n",
    "        successors = connection_grpah[froninter]\n",
    "        \n",
    "        for city in successors:\n",
    "            if city in path: continue  # eliminate loop\n",
    "                \n",
    "            new_path = path + [city]\n",
    "            \n",
    "            pathes.append(new_path)\n",
    "            \n",
    "            if city == destination: return new_path\n",
    "        \n",
    "        visitied.add(froninter)\n",
    "        \n",
    "        pathes = sort_candidate(pathes) # 我们可以加一个排序函数 对我们的搜索策略进行控制"
   ]
  },
  {
   "cell_type": "code",
   "execution_count": 243,
   "metadata": {
    "collapsed": true
   },
   "outputs": [],
   "source": [
    "def transfer_stations_first(pathes): \n",
    "    return sorted(pathes, key=len)"
   ]
  },
  {
   "cell_type": "code",
   "execution_count": 250,
   "metadata": {
    "collapsed": true
   },
   "outputs": [],
   "source": [
    "def transfer_as_much_possible(pathes):\n",
    "    return sorted(pathes, key=len, reverse=True)"
   ]
  },
  {
   "cell_type": "code",
   "execution_count": 246,
   "metadata": {
    "collapsed": true
   },
   "outputs": [],
   "source": [
    "def shortest_path_first(pathes):\n",
    "    \n",
    "    if len(pathes) <= 1: return pathes\n",
    "    \n",
    "    def get_path_distnace(path):\n",
    "        distance = 0\n",
    "        for station in path[:-1]:\n",
    "            distance += get_geo_distance(station, path[-1])\n",
    "            \n",
    "        return distance\n",
    "\n",
    "    return sorted(pathes, key=get_path_distnace)"
   ]
  },
  {
   "cell_type": "code",
   "execution_count": 237,
   "metadata": {
    "collapsed": false
   },
   "outputs": [
    {
     "data": {
      "text/plain": [
       "['兰州', '西安', '长沙', '福州']"
      ]
     },
     "execution_count": 237,
     "metadata": {},
     "output_type": "execute_result"
    }
   ],
   "source": [
    "search('兰州', '福州', simple_connection_info, sort_candidate=shortest_path_first)"
   ]
  },
  {
   "cell_type": "code",
   "execution_count": 142,
   "metadata": {
    "collapsed": true
   },
   "outputs": [],
   "source": [
    "def pretty_print(cities):\n",
    "    print('🚗->'.join(cities))"
   ]
  },
  {
   "cell_type": "code",
   "execution_count": 204,
   "metadata": {
    "collapsed": false
   },
   "outputs": [
    {
     "name": "stdout",
     "output_type": "stream",
     "text": [
      "北京🚗->太原🚗->西安🚗->长沙🚗->福州\n"
     ]
    }
   ],
   "source": [
    "pretty_print(search('北京', '福州', simple_connection_info))"
   ]
  },
  {
   "cell_type": "markdown",
   "metadata": {},
   "source": [
    "## Breath first search"
   ]
  },
  {
   "cell_type": "markdown",
   "metadata": {},
   "source": [
    "## Depth first search"
   ]
  },
  {
   "cell_type": "code",
   "execution_count": 216,
   "metadata": {
    "collapsed": false
   },
   "outputs": [
    {
     "name": "stdout",
     "output_type": "stream",
     "text": [
      "北京🚗->济南🚗->合肥🚗->南京\n"
     ]
    }
   ],
   "source": [
    "pretty_print(search('北京', '南京', city_connection))"
   ]
  },
  {
   "cell_type": "code",
   "execution_count": 217,
   "metadata": {
    "collapsed": false
   },
   "outputs": [
    {
     "name": "stdout",
     "output_type": "stream",
     "text": [
      "北京🚗->石家庄🚗->郑州🚗->长沙\n"
     ]
    }
   ],
   "source": [
    "pretty_print(search('北京', '长沙', city_connection))"
   ]
  },
  {
   "cell_type": "code",
   "execution_count": 249,
   "metadata": {
    "collapsed": false
   },
   "outputs": [
    {
     "name": "stdout",
     "output_type": "stream",
     "text": [
      "北京🚗->石家庄🚗->郑州🚗->长沙🚗->广州\n"
     ]
    }
   ],
   "source": [
    "pretty_print(search('北京', '广州', city_connection, sort_candidate=transfer_stations_first))"
   ]
  },
  {
   "cell_type": "code",
   "execution_count": 251,
   "metadata": {
    "collapsed": false
   },
   "outputs": [
    {
     "name": "stdout",
     "output_type": "stream",
     "text": [
      "北京🚗->石家庄🚗->郑州🚗->武汉🚗->长沙🚗->广州\n"
     ]
    }
   ],
   "source": [
    "pretty_print(search('北京', '广州', city_connection, sort_candidate=transfer_as_much_possible))"
   ]
  },
  {
   "cell_type": "markdown",
   "metadata": {},
   "source": [
    "## Assignment"
   ]
  },
  {
   "cell_type": "markdown",
   "metadata": {},
   "source": [
    "1. 网络爬虫 + 正则\n",
    "2. 数据处理\n",
    "3. 算法的应用能力"
   ]
  },
  {
   "cell_type": "code",
   "execution_count": 254,
   "metadata": {
    "collapsed": true
   },
   "outputs": [],
   "source": [
    "import requests"
   ]
  },
  {
   "cell_type": "code",
   "execution_count": 255,
   "metadata": {
    "collapsed": true
   },
   "outputs": [],
   "source": [
    "url = 'https://movie.douban.com/subject/26931786/?from=showing'"
   ]
  },
  {
   "cell_type": "code",
   "execution_count": 257,
   "metadata": {
    "collapsed": true
   },
   "outputs": [],
   "source": [
    "response = requests.get(url)"
   ]
  },
  {
   "cell_type": "code",
   "execution_count": 270,
   "metadata": {
    "collapsed": true
   },
   "outputs": [],
   "source": [
    "what_we_want = r'<a href=\"https://(movie\\.douban\\.com/subject/\\d+/\\?from=subject-page)\" class=\"\" '"
   ]
  },
  {
   "cell_type": "code",
   "execution_count": 271,
   "metadata": {
    "collapsed": true
   },
   "outputs": [],
   "source": [
    "pattern = re.compile(what_we_want)"
   ]
  },
  {
   "cell_type": "code",
   "execution_count": 272,
   "metadata": {
    "collapsed": true
   },
   "outputs": [],
   "source": [
    "likes = pattern.findall(response.text)"
   ]
  },
  {
   "cell_type": "code",
   "execution_count": 273,
   "metadata": {
    "collapsed": false
   },
   "outputs": [
    {
     "name": "stdout",
     "output_type": "stream",
     "text": [
      "movie.douban.com/subject/24753477/?from=subject-page\n",
      "movie.douban.com/subject/26100958/?from=subject-page\n",
      "movie.douban.com/subject/25820460/?from=subject-page\n",
      "movie.douban.com/subject/1432146/?from=subject-page\n",
      "movie.douban.com/subject/25937854/?from=subject-page\n",
      "movie.douban.com/subject/1866473/?from=subject-page\n",
      "movie.douban.com/subject/25821634/?from=subject-page\n",
      "movie.douban.com/subject/26213252/?from=subject-page\n",
      "movie.douban.com/subject/25828589/?from=subject-page\n",
      "movie.douban.com/subject/4920389/?from=subject-page\n"
     ]
    }
   ],
   "source": [
    "for like in likes:\n",
    "    print(like)"
   ]
  },
  {
   "cell_type": "markdown",
   "metadata": {},
   "source": [
    "## Machine Learning"
   ]
  },
  {
   "cell_type": "code",
   "execution_count": 274,
   "metadata": {
    "collapsed": true
   },
   "outputs": [],
   "source": [
    "from sklearn.datasets import load_boston"
   ]
  },
  {
   "cell_type": "code",
   "execution_count": 275,
   "metadata": {
    "collapsed": true
   },
   "outputs": [],
   "source": [
    "data = load_boston()"
   ]
  },
  {
   "cell_type": "code",
   "execution_count": 278,
   "metadata": {
    "collapsed": true
   },
   "outputs": [],
   "source": [
    "X, y = data['data'], data['target']"
   ]
  },
  {
   "cell_type": "code",
   "execution_count": 290,
   "metadata": {
    "collapsed": false
   },
   "outputs": [
    {
     "data": {
      "text/plain": [
       "array([2.7310e-02, 0.0000e+00, 7.0700e+00, 0.0000e+00, 4.6900e-01,\n",
       "       6.4210e+00, 7.8900e+01, 4.9671e+00, 2.0000e+00, 2.4200e+02,\n",
       "       1.7800e+01, 3.9690e+02, 9.1400e+00])"
      ]
     },
     "execution_count": 290,
     "metadata": {},
     "output_type": "execute_result"
    }
   ],
   "source": [
    "X[1]"
   ]
  },
  {
   "cell_type": "code",
   "execution_count": 291,
   "metadata": {
    "collapsed": false
   },
   "outputs": [
    {
     "data": {
      "text/plain": [
       "21.6"
      ]
     },
     "execution_count": 291,
     "metadata": {},
     "output_type": "execute_result"
    }
   ],
   "source": [
    "y[1]"
   ]
  },
  {
   "cell_type": "code",
   "execution_count": 293,
   "metadata": {
    "collapsed": false
   },
   "outputs": [
    {
     "data": {
      "text/plain": [
       "506"
      ]
     },
     "execution_count": 293,
     "metadata": {},
     "output_type": "execute_result"
    }
   ],
   "source": [
    "len(X[:, 0])"
   ]
  },
  {
   "cell_type": "code",
   "execution_count": 294,
   "metadata": {
    "collapsed": false
   },
   "outputs": [
    {
     "data": {
      "text/plain": [
       "506"
      ]
     },
     "execution_count": 294,
     "metadata": {},
     "output_type": "execute_result"
    }
   ],
   "source": [
    "len(y)"
   ]
  },
  {
   "cell_type": "code",
   "execution_count": 295,
   "metadata": {
    "collapsed": true
   },
   "outputs": [],
   "source": [
    "%matplotlib inline"
   ]
  },
  {
   "cell_type": "code",
   "execution_count": 299,
   "metadata": {
    "collapsed": true
   },
   "outputs": [],
   "source": [
    "def draw_rm_and_price():\n",
    "    plt.scatter(X[:, 5], y)"
   ]
  },
  {
   "cell_type": "code",
   "execution_count": 300,
   "metadata": {
    "collapsed": false
   },
   "outputs": [
    {
     "data": {
      "image/png": "[encoded data removed]",
      "text/plain": [
       "<Figure size 432x288 with 1 Axes>"
      ]
     },
     "metadata": {
      "needs_background": "light"
     },
     "output_type": "display_data"
    }
   ],
   "source": [
    "draw_rm_and_price()"
   ]
  },
  {
   "cell_type": "code",
   "execution_count": 301,
   "metadata": {
    "collapsed": true
   },
   "outputs": [],
   "source": [
    "import random"
   ]
  },
  {
   "cell_type": "code",
   "execution_count": 302,
   "metadata": {
    "collapsed": true
   },
   "outputs": [],
   "source": [
    "def price(rm, k, b):\n",
    "    \"\"\"f(x) = k * x + b\"\"\"\n",
    "    return k * rm + b  "
   ]
  },
  {
   "cell_type": "code",
   "execution_count": 343,
   "metadata": {
    "collapsed": false
   },
   "outputs": [
    {
     "data": {
      "text/plain": [
       "<matplotlib.collections.PathCollection at 0x1a269c32b0>"
      ]
     },
     "execution_count": 343,
     "metadata": {},
     "output_type": "execute_result"
    },
    {
     "data": {
      "image/png": "[encoded data removed]",
      "text/plain": [
       "<Figure size 432x288 with 1 Axes>"
      ]
     },
     "metadata": {
      "needs_background": "light"
     },
     "output_type": "display_data"
    }
   ],
   "source": [
    "X_rm = X[:, 5]\n",
    "k = random.randint(-100, 100)\n",
    "b = random.randint(-100, 100)\n",
    "price_by_random_k_and_b = [price(r, k, b) for r in X_rm]\n",
    "\n",
    "draw_rm_and_price()\n",
    "plt.scatter(X_rm, price_by_random_k_and_b)"
   ]
  },
  {
   "cell_type": "code",
   "execution_count": 344,
   "metadata": {
    "collapsed": false
   },
   "outputs": [
    {
     "data": {
      "text/plain": [
       "<matplotlib.collections.PathCollection at 0x1a26a4f9b0>"
      ]
     },
     "execution_count": 344,
     "metadata": {},
     "output_type": "execute_result"
    },
    {
     "data": {
      "image/png": "[encoded data removed]",
      "text/plain": [
       "<Figure size 432x288 with 1 Axes>"
      ]
     },
     "metadata": {
      "needs_background": "light"
     },
     "output_type": "display_data"
    }
   ],
   "source": [
    "X_rm = X[:, 5]\n",
    "k = random.randint(-100, 100)\n",
    "b = random.randint(-100, 100)\n",
    "price_by_random_k_and_b = [price(r, k, b) for r in X_rm]\n",
    "\n",
    "draw_rm_and_price()\n",
    "plt.scatter(X_rm, price_by_random_k_and_b)"
   ]
  },
  {
   "cell_type": "markdown",
   "metadata": {},
   "source": [
    "$$ \\hat{y} $$"
   ]
  },
  {
   "cell_type": "code",
   "execution_count": 347,
   "metadata": {
    "collapsed": false
   },
   "outputs": [
    {
     "data": {
      "text/plain": [
       "[24.0,\n",
       " 21.6,\n",
       " 34.7,\n",
       " 33.4,\n",
       " 36.2,\n",
       " 28.7,\n",
       " 22.9,\n",
       " 27.1,\n",
       " 16.5,\n",
       " 18.9,\n",
       " 15.0,\n",
       " 18.9,\n",
       " 21.7,\n",
       " 20.4,\n",
       " 18.2,\n",
       " 19.9,\n",
       " 23.1,\n",
       " 17.5,\n",
       " 20.2,\n",
       " 18.2,\n",
       " 13.6,\n",
       " 19.6,\n",
       " 15.2,\n",
       " 14.5,\n",
       " 15.6,\n",
       " 13.9,\n",
       " 16.6,\n",
       " 14.8,\n",
       " 18.4,\n",
       " 21.0,\n",
       " 12.7,\n",
       " 14.5,\n",
       " 13.2,\n",
       " 13.1,\n",
       " 13.5,\n",
       " 18.9,\n",
       " 20.0,\n",
       " 21.0,\n",
       " 24.7,\n",
       " 30.8,\n",
       " 34.9,\n",
       " 26.6,\n",
       " 25.3,\n",
       " 24.7,\n",
       " 21.2,\n",
       " 19.3,\n",
       " 20.0,\n",
       " 16.6,\n",
       " 14.4,\n",
       " 19.4,\n",
       " 19.7,\n",
       " 20.5,\n",
       " 25.0,\n",
       " 23.4,\n",
       " 18.9,\n",
       " 35.4,\n",
       " 24.7,\n",
       " 31.6,\n",
       " 23.3,\n",
       " 19.6,\n",
       " 18.7,\n",
       " 16.0,\n",
       " 22.2,\n",
       " 25.0,\n",
       " 33.0,\n",
       " 23.5,\n",
       " 19.4,\n",
       " 22.0,\n",
       " 17.4,\n",
       " 20.9,\n",
       " 24.2,\n",
       " 21.7,\n",
       " 22.8,\n",
       " 23.4,\n",
       " 24.1,\n",
       " 21.4,\n",
       " 20.0,\n",
       " 20.8,\n",
       " 21.2,\n",
       " 20.3,\n",
       " 28.0,\n",
       " 23.9,\n",
       " 24.8,\n",
       " 22.9,\n",
       " 23.9,\n",
       " 26.6,\n",
       " 22.5,\n",
       " 22.2,\n",
       " 23.6,\n",
       " 28.7,\n",
       " 22.6,\n",
       " 22.0,\n",
       " 22.9,\n",
       " 25.0,\n",
       " 20.6,\n",
       " 28.4,\n",
       " 21.4,\n",
       " 38.7,\n",
       " 43.8,\n",
       " 33.2,\n",
       " 27.5,\n",
       " 26.5,\n",
       " 18.6,\n",
       " 19.3,\n",
       " 20.1,\n",
       " 19.5,\n",
       " 19.5,\n",
       " 20.4,\n",
       " 19.8,\n",
       " 19.4,\n",
       " 21.7,\n",
       " 22.8,\n",
       " 18.8,\n",
       " 18.7,\n",
       " 18.5,\n",
       " 18.3,\n",
       " 21.2,\n",
       " 19.2,\n",
       " 20.4,\n",
       " 19.3,\n",
       " 22.0,\n",
       " 20.3,\n",
       " 20.5,\n",
       " 17.3,\n",
       " 18.8,\n",
       " 21.4,\n",
       " 15.7,\n",
       " 16.2,\n",
       " 18.0,\n",
       " 14.3,\n",
       " 19.2,\n",
       " 19.6,\n",
       " 23.0,\n",
       " 18.4,\n",
       " 15.6,\n",
       " 18.1,\n",
       " 17.4,\n",
       " 17.1,\n",
       " 13.3,\n",
       " 17.8,\n",
       " 14.0,\n",
       " 14.4,\n",
       " 13.4,\n",
       " 15.6,\n",
       " 11.8,\n",
       " 13.8,\n",
       " 15.6,\n",
       " 14.6,\n",
       " 17.8,\n",
       " 15.4,\n",
       " 21.5,\n",
       " 19.6,\n",
       " 15.3,\n",
       " 19.4,\n",
       " 17.0,\n",
       " 15.6,\n",
       " 13.1,\n",
       " 41.3,\n",
       " 24.3,\n",
       " 23.3,\n",
       " 27.0,\n",
       " 50.0,\n",
       " 50.0,\n",
       " 50.0,\n",
       " 22.7,\n",
       " 25.0,\n",
       " 50.0,\n",
       " 23.8,\n",
       " 23.8,\n",
       " 22.3,\n",
       " 17.4,\n",
       " 19.1,\n",
       " 23.1,\n",
       " 23.6,\n",
       " 22.6,\n",
       " 29.4,\n",
       " 23.2,\n",
       " 24.6,\n",
       " 29.9,\n",
       " 37.2,\n",
       " 39.8,\n",
       " 36.2,\n",
       " 37.9,\n",
       " 32.5,\n",
       " 26.4,\n",
       " 29.6,\n",
       " 50.0,\n",
       " 32.0,\n",
       " 29.8,\n",
       " 34.9,\n",
       " 37.0,\n",
       " 30.5,\n",
       " 36.4,\n",
       " 31.1,\n",
       " 29.1,\n",
       " 50.0,\n",
       " 33.3,\n",
       " 30.3,\n",
       " 34.6,\n",
       " 34.9,\n",
       " 32.9,\n",
       " 24.1,\n",
       " 42.3,\n",
       " 48.5,\n",
       " 50.0,\n",
       " 22.6,\n",
       " 24.4,\n",
       " 22.5,\n",
       " 24.4,\n",
       " 20.0,\n",
       " 21.7,\n",
       " 19.3,\n",
       " 22.4,\n",
       " 28.1,\n",
       " 23.7,\n",
       " 25.0,\n",
       " 23.3,\n",
       " 28.7,\n",
       " 21.5,\n",
       " 23.0,\n",
       " 26.7,\n",
       " 21.7,\n",
       " 27.5,\n",
       " 30.1,\n",
       " 44.8,\n",
       " 50.0,\n",
       " 37.6,\n",
       " 31.6,\n",
       " 46.7,\n",
       " 31.5,\n",
       " 24.3,\n",
       " 31.7,\n",
       " 41.7,\n",
       " 48.3,\n",
       " 29.0,\n",
       " 24.0,\n",
       " 25.1,\n",
       " 31.5,\n",
       " 23.7,\n",
       " 23.3,\n",
       " 22.0,\n",
       " 20.1,\n",
       " 22.2,\n",
       " 23.7,\n",
       " 17.6,\n",
       " 18.5,\n",
       " 24.3,\n",
       " 20.5,\n",
       " 24.5,\n",
       " 26.2,\n",
       " 24.4,\n",
       " 24.8,\n",
       " 29.6,\n",
       " 42.8,\n",
       " 21.9,\n",
       " 20.9,\n",
       " 44.0,\n",
       " 50.0,\n",
       " 36.0,\n",
       " 30.1,\n",
       " 33.8,\n",
       " 43.1,\n",
       " 48.8,\n",
       " 31.0,\n",
       " 36.5,\n",
       " 22.8,\n",
       " 30.7,\n",
       " 50.0,\n",
       " 43.5,\n",
       " 20.7,\n",
       " 21.1,\n",
       " 25.2,\n",
       " 24.4,\n",
       " 35.2,\n",
       " 32.4,\n",
       " 32.0,\n",
       " 33.2,\n",
       " 33.1,\n",
       " 29.1,\n",
       " 35.1,\n",
       " 45.4,\n",
       " 35.4,\n",
       " 46.0,\n",
       " 50.0,\n",
       " 32.2,\n",
       " 22.0,\n",
       " 20.1,\n",
       " 23.2,\n",
       " 22.3,\n",
       " 24.8,\n",
       " 28.5,\n",
       " 37.3,\n",
       " 27.9,\n",
       " 23.9,\n",
       " 21.7,\n",
       " 28.6,\n",
       " 27.1,\n",
       " 20.3,\n",
       " 22.5,\n",
       " 29.0,\n",
       " 24.8,\n",
       " 22.0,\n",
       " 26.4,\n",
       " 33.1,\n",
       " 36.1,\n",
       " 28.4,\n",
       " 33.4,\n",
       " 28.2,\n",
       " 22.8,\n",
       " 20.3,\n",
       " 16.1,\n",
       " 22.1,\n",
       " 19.4,\n",
       " 21.6,\n",
       " 23.8,\n",
       " 16.2,\n",
       " 17.8,\n",
       " 19.8,\n",
       " 23.1,\n",
       " 21.0,\n",
       " 23.8,\n",
       " 23.1,\n",
       " 20.4,\n",
       " 18.5,\n",
       " 25.0,\n",
       " 24.6,\n",
       " 23.0,\n",
       " 22.2,\n",
       " 19.3,\n",
       " 22.6,\n",
       " 19.8,\n",
       " 17.1,\n",
       " 19.4,\n",
       " 22.2,\n",
       " 20.7,\n",
       " 21.1,\n",
       " 19.5,\n",
       " 18.5,\n",
       " 20.6,\n",
       " 19.0,\n",
       " 18.7,\n",
       " 32.7,\n",
       " 16.5,\n",
       " 23.9,\n",
       " 31.2,\n",
       " 17.5,\n",
       " 17.2,\n",
       " 23.1,\n",
       " 24.5,\n",
       " 26.6,\n",
       " 22.9,\n",
       " 24.1,\n",
       " 18.6,\n",
       " 30.1,\n",
       " 18.2,\n",
       " 20.6,\n",
       " 17.8,\n",
       " 21.7,\n",
       " 22.7,\n",
       " 22.6,\n",
       " 25.0,\n",
       " 19.9,\n",
       " 20.8,\n",
       " 16.8,\n",
       " 21.9,\n",
       " 27.5,\n",
       " 21.9,\n",
       " 23.1,\n",
       " 50.0,\n",
       " 50.0,\n",
       " 50.0,\n",
       " 50.0,\n",
       " 50.0,\n",
       " 13.8,\n",
       " 13.8,\n",
       " 15.0,\n",
       " 13.9,\n",
       " 13.3,\n",
       " 13.1,\n",
       " 10.2,\n",
       " 10.4,\n",
       " 10.9,\n",
       " 11.3,\n",
       " 12.3,\n",
       " 8.8,\n",
       " 7.2,\n",
       " 10.5,\n",
       " 7.4,\n",
       " 10.2,\n",
       " 11.5,\n",
       " 15.1,\n",
       " 23.2,\n",
       " 9.7,\n",
       " 13.8,\n",
       " 12.7,\n",
       " 13.1,\n",
       " 12.5,\n",
       " 8.5,\n",
       " 5.0,\n",
       " 6.3,\n",
       " 5.6,\n",
       " 7.2,\n",
       " 12.1,\n",
       " 8.3,\n",
       " 8.5,\n",
       " 5.0,\n",
       " 11.9,\n",
       " 27.9,\n",
       " 17.2,\n",
       " 27.5,\n",
       " 15.0,\n",
       " 17.2,\n",
       " 17.9,\n",
       " 16.3,\n",
       " 7.0,\n",
       " 7.2,\n",
       " 7.5,\n",
       " 10.4,\n",
       " 8.8,\n",
       " 8.4,\n",
       " 16.7,\n",
       " 14.2,\n",
       " 20.8,\n",
       " 13.4,\n",
       " 11.7,\n",
       " 8.3,\n",
       " 10.2,\n",
       " 10.9,\n",
       " 11.0,\n",
       " 9.5,\n",
       " 14.5,\n",
       " 14.1,\n",
       " 16.1,\n",
       " 14.3,\n",
       " 11.7,\n",
       " 13.4,\n",
       " 9.6,\n",
       " 8.7,\n",
       " 8.4,\n",
       " 12.8,\n",
       " 10.5,\n",
       " 17.1,\n",
       " 18.4,\n",
       " 15.4,\n",
       " 10.8,\n",
       " 11.8,\n",
       " 14.9,\n",
       " 12.6,\n",
       " 14.1,\n",
       " 13.0,\n",
       " 13.4,\n",
       " 15.2,\n",
       " 16.1,\n",
       " 17.8,\n",
       " 14.9,\n",
       " 14.1,\n",
       " 12.7,\n",
       " 13.5,\n",
       " 14.9,\n",
       " 20.0,\n",
       " 16.4,\n",
       " 17.7,\n",
       " 19.5,\n",
       " 20.2,\n",
       " 21.4,\n",
       " 19.9,\n",
       " 19.0,\n",
       " 19.1,\n",
       " 19.1,\n",
       " 20.1,\n",
       " 19.9,\n",
       " 19.6,\n",
       " 23.2,\n",
       " 29.8,\n",
       " 13.8,\n",
       " 13.3,\n",
       " 16.7,\n",
       " 12.0,\n",
       " 14.6,\n",
       " 21.4,\n",
       " 23.0,\n",
       " 23.7,\n",
       " 25.0,\n",
       " 21.8,\n",
       " 20.6,\n",
       " 21.2,\n",
       " 19.1,\n",
       " 20.6,\n",
       " 15.2,\n",
       " 7.0,\n",
       " 8.1,\n",
       " 13.6,\n",
       " 20.1,\n",
       " 21.8,\n",
       " 24.5,\n",
       " 23.1,\n",
       " 19.7,\n",
       " 18.3,\n",
       " 21.2,\n",
       " 17.5,\n",
       " 16.8,\n",
       " 22.4,\n",
       " 20.6,\n",
       " 23.9,\n",
       " 22.0,\n",
       " 11.9]"
      ]
     },
     "execution_count": 347,
     "metadata": {},
     "output_type": "execute_result"
    }
   ],
   "source": [
    "list(y)"
   ]
  },
  {
   "cell_type": "code",
   "execution_count": 346,
   "metadata": {
    "collapsed": false
   },
   "outputs": [
    {
     "data": {
      "text/plain": [
       "[-617.775,\n",
       " -602.837,\n",
       " -676.9449999999999,\n",
       " -658.806,\n",
       " -673.259,\n",
       " -603.7099999999999,\n",
       " -563.164,\n",
       " -578.684,\n",
       " -526.207,\n",
       " -562.3879999999999,\n",
       " -598.569,\n",
       " -562.873,\n",
       " -551.2330000000001,\n",
       " -557.053,\n",
       " -571.312,\n",
       " -545.8979999999999,\n",
       " -555.6949999999999,\n",
       " -561.03,\n",
       " -509.2320000000001,\n",
       " -535.519,\n",
       " -520.2900000000001,\n",
       " -558.605,\n",
       " -575.774,\n",
       " -543.861,\n",
       " -554.628,\n",
       " -523.1030000000001,\n",
       " -543.861,\n",
       " -566.559,\n",
       " -610.015,\n",
       " -627.378,\n",
       " -534.1610000000001,\n",
       " -568.984,\n",
       " -557.15,\n",
       " -532.997,\n",
       " -571.312,\n",
       " -555.501,\n",
       " -546.577,\n",
       " -547.4499999999999,\n",
       " -558.702,\n",
       " -619.715,\n",
       " -661.328,\n",
       " -636.6899999999999,\n",
       " -578.3929999999999,\n",
       " -582.467,\n",
       " -568.693,\n",
       " -531.154,\n",
       " -541.242,\n",
       " -564.91,\n",
       " -503.703,\n",
       " -523.394,\n",
       " -558.4110000000001,\n",
       " -573.155,\n",
       " -611.567,\n",
       " -561.806,\n",
       " -551.136,\n",
       " -683.153,\n",
       " -599.151,\n",
       " -641.1519999999999,\n",
       " -576.0649999999999,\n",
       " -554.919,\n",
       " -536.877,\n",
       " -558.702,\n",
       " -606.2320000000001,\n",
       " -635.914,\n",
       " -669.088,\n",
       " -590.13,\n",
       " -541.3389999999999,\n",
       " -550.166,\n",
       " -522.618,\n",
       " -550.845,\n",
       " -602.449,\n",
       " -558.217,\n",
       " -568.3050000000001,\n",
       " -585.765,\n",
       " -588.481,\n",
       " -589.742,\n",
       " -589.063,\n",
       " -575.5799999999999,\n",
       " -584.504,\n",
       " -549.778,\n",
       " -632.519,\n",
       " -622.043,\n",
       " -591.294,\n",
       " -578.199,\n",
       " -599.7330000000001,\n",
       " -623.11,\n",
       " -563.4549999999999,\n",
       " -573.7370000000001,\n",
       " -659.679,\n",
       " -666.663,\n",
       " -602.449,\n",
       " -601.285,\n",
       " -604.874,\n",
       " -582.467,\n",
       " -586.153,\n",
       " -622.625,\n",
       " -577.811,\n",
       " -762.6930000000001,\n",
       " -738.5400000000001,\n",
       " -699.3520000000001,\n",
       " -632.519,\n",
       " -637.757,\n",
       " -601.285,\n",
       " -575.289,\n",
       " -578.199,\n",
       " -547.547,\n",
       " -546.092,\n",
       " -574.319,\n",
       " -607.9780000000001,\n",
       " -584.213,\n",
       " -580.9150000000001,\n",
       " -631.355,\n",
       " -553.561,\n",
       " -570.924,\n",
       " -586.6379999999999,\n",
       " -555.016,\n",
       " -579.072,\n",
       " -564.037,\n",
       " -549.584,\n",
       " -535.907,\n",
       " -549.39,\n",
       " -562.3879999999999,\n",
       " -558.217,\n",
       " -548.032,\n",
       " -550.2629999999999,\n",
       " -560.6419999999999,\n",
       " -524.461,\n",
       " -532.221,\n",
       " -603.807,\n",
       " -526.789,\n",
       " -606.426,\n",
       " -593.622,\n",
       " -598.084,\n",
       " -544.734,\n",
       " -538.429,\n",
       " -594.495,\n",
       " -556.374,\n",
       " -606.038,\n",
       " -548.129,\n",
       " -576.6469999999999,\n",
       " -578.878,\n",
       " -466.843,\n",
       " -504.091,\n",
       " -510.39599999999996,\n",
       " -455.59099999999995,\n",
       " -574.61,\n",
       " -525.916,\n",
       " -457.822,\n",
       " -483.042,\n",
       " -522.909,\n",
       " -573.834,\n",
       " -504.188,\n",
       " -466.16399999999993,\n",
       " -533.7729999999999,\n",
       " -574.5129999999999,\n",
       " -576.744,\n",
       " -491.384,\n",
       " -653.471,\n",
       " -568.4019999999999,\n",
       " -611.47,\n",
       " -586.25,\n",
       " -706.433,\n",
       " -736.794,\n",
       " -792.375,\n",
       " -547.838,\n",
       " -571.797,\n",
       " -749.113,\n",
       " -550.069,\n",
       " -592.943,\n",
       " -600.994,\n",
       " -549.875,\n",
       " -550.36,\n",
       " -520.484,\n",
       " -602.3520000000001,\n",
       " -548.323,\n",
       " -614.962,\n",
       " -563.9399999999999,\n",
       " -592.5550000000001,\n",
       " -645.4200000000001,\n",
       " -657.0600000000001,\n",
       " -733.2049999999999,\n",
       " -575.968,\n",
       " -674.035,\n",
       " -616.611,\n",
       " -523.588,\n",
       " -576.841,\n",
       " -739.6070000000001,\n",
       " -637.854,\n",
       " -615.932,\n",
       " -676.9449999999999,\n",
       " -654.247,\n",
       " -633.683,\n",
       " -676.266,\n",
       " -639.6,\n",
       " -620.588,\n",
       " -743.875,\n",
       " -686.8389999999999,\n",
       " -669.379,\n",
       " -685.578,\n",
       " -656.5749999999999,\n",
       " -672.095,\n",
       " -577.7139999999999,\n",
       " -718.1700000000001,\n",
       " -741.741,\n",
       " -759.2980000000001,\n",
       " -551.427,\n",
       " -593.622,\n",
       " -540.951,\n",
       " -568.208,\n",
       " -498.36800000000005,\n",
       " -558.12,\n",
       " -504.188,\n",
       " -543.279,\n",
       " -598.375,\n",
       " -504.96399999999994,\n",
       " -579.654,\n",
       " -551.136,\n",
       " -624.274,\n",
       " -557.247,\n",
       " -598.181,\n",
       " -654.247,\n",
       " -577.908,\n",
       " -647.2629999999999,\n",
       " -621.946,\n",
       " -781.802,\n",
       " -826.3249999999999,\n",
       " -759.8799999999999,\n",
       " -674.811,\n",
       " -725.542,\n",
       " -615.544,\n",
       " -560.157,\n",
       " -698.9639999999999,\n",
       " -788.689,\n",
       " -779.959,\n",
       " -632.422,\n",
       " -570.342,\n",
       " -623.207,\n",
       " -693.726,\n",
       " -608.657,\n",
       " -620.782,\n",
       " -649.009,\n",
       " -571.215,\n",
       " -596.726,\n",
       " -600.121,\n",
       " -522.521,\n",
       " -523.6850000000001,\n",
       " -572.476,\n",
       " -583.922,\n",
       " -604.001,\n",
       " -631.646,\n",
       " -609.239,\n",
       " -604.486,\n",
       " -654.829,\n",
       " -781.123,\n",
       " -572.476,\n",
       " -549.972,\n",
       " -703.038,\n",
       " -824.288,\n",
       " -691.301,\n",
       " -643.674,\n",
       " -678.691,\n",
       " -709.4399999999999,\n",
       " -794.606,\n",
       " -690.719,\n",
       " -678.9820000000001,\n",
       " -519.3199999999999,\n",
       " -660.3580000000001,\n",
       " -784.8090000000001,\n",
       " -704.59,\n",
       " -554.24,\n",
       " -548.032,\n",
       " -585.28,\n",
       " -614.186,\n",
       " -726.0269999999999,\n",
       " -635.526,\n",
       " -644.838,\n",
       " -684.899,\n",
       " -642.122,\n",
       " -608.754,\n",
       " -640.764,\n",
       " -738.5400000000001,\n",
       " -655.896,\n",
       " -721.5649999999999,\n",
       " -748.531,\n",
       " -667.5360000000001,\n",
       " -605.941,\n",
       " -584.3100000000001,\n",
       " -582.2729999999999,\n",
       " -592.5550000000001,\n",
       " -616.8050000000001,\n",
       " -645.5169999999999,\n",
       " -673.356,\n",
       " -623.11,\n",
       " -574.319,\n",
       " -562.873,\n",
       " -627.766,\n",
       " -615.253,\n",
       " -541.63,\n",
       " -595.465,\n",
       " -662.9770000000001,\n",
       " -646.4870000000001,\n",
       " -619.23,\n",
       " -610.015,\n",
       " -657.254,\n",
       " -681.8919999999999,\n",
       " -621.752,\n",
       " -699.74,\n",
       " -644.3530000000001,\n",
       " -623.595,\n",
       " -559.284,\n",
       " -462.381,\n",
       " -573.834,\n",
       " -564.231,\n",
       " -587.802,\n",
       " -616.999,\n",
       " -533.385,\n",
       " -553.658,\n",
       " -540.854,\n",
       " -599.054,\n",
       " -572.961,\n",
       " -603.322,\n",
       " -598.472,\n",
       " -565.9770000000001,\n",
       " -533.676,\n",
       " -602.255,\n",
       " -603.807,\n",
       " -592.264,\n",
       " -570.051,\n",
       " -549.196,\n",
       " -594.301,\n",
       " -575.968,\n",
       " -533.4820000000001,\n",
       " -565.007,\n",
       " -592.6519999999999,\n",
       " -592.0699999999999,\n",
       " -565.5889999999999,\n",
       " -549.293,\n",
       " -551.8149999999999,\n",
       " -567.7230000000001,\n",
       " -560.5450000000001,\n",
       " -558.896,\n",
       " -682.377,\n",
       " -614.38,\n",
       " -629.512,\n",
       " -646.778,\n",
       " -563.3580000000001,\n",
       " -552.106,\n",
       " -612.052,\n",
       " -623.595,\n",
       " -653.083,\n",
       " -609.53,\n",
       " -618.163,\n",
       " -550.748,\n",
       " -632.616,\n",
       " -529.311,\n",
       " -555.792,\n",
       " -582.564,\n",
       " -600.3149999999999,\n",
       " -574.319,\n",
       " -572.864,\n",
       " -600.606,\n",
       " -586.347,\n",
       " -500.11400000000003,\n",
       " -542.891,\n",
       " -831.66,\n",
       " -325.417,\n",
       " -461.411,\n",
       " -354.711,\n",
       " -462.09,\n",
       " -628.251,\n",
       " -660.552,\n",
       " -582.952,\n",
       " -549.875,\n",
       " -455.88199999999995,\n",
       " -381.38599999999997,\n",
       " -689.361,\n",
       " -624.953,\n",
       " -639.0179999999999,\n",
       " -598.86,\n",
       " -583.631,\n",
       " -655.896,\n",
       " -614.865,\n",
       " -516.992,\n",
       " -515.4399999999999,\n",
       " -403.696,\n",
       " -491.869,\n",
       " -431.244,\n",
       " -465.0,\n",
       " -453.36,\n",
       " -502.8299999999999,\n",
       " -534.1610000000001,\n",
       " -566.947,\n",
       " -468.49199999999996,\n",
       " -580.721,\n",
       " -551.039,\n",
       " -607.687,\n",
       " -601.285,\n",
       " -537.459,\n",
       " -508.94100000000003,\n",
       " -547.644,\n",
       " -560.739,\n",
       " -595.271,\n",
       " -601.188,\n",
       " -498.85300000000007,\n",
       " -516.507,\n",
       " -531.251,\n",
       " -381.38599999999997,\n",
       " -523.976,\n",
       " -524.849,\n",
       " -644.644,\n",
       " -538.429,\n",
       " -625.729,\n",
       " -428.916,\n",
       " -480.035,\n",
       " -418.343,\n",
       " -604.0980000000001,\n",
       " -637.854,\n",
       " -494.48800000000006,\n",
       " -557.829,\n",
       " -641.928,\n",
       " -601.867,\n",
       " -562.582,\n",
       " -527.856,\n",
       " -571.991,\n",
       " -519.8050000000001,\n",
       " -551.912,\n",
       " -546.189,\n",
       " -581.594,\n",
       " -580.721,\n",
       " -598.86,\n",
       " -595.756,\n",
       " -642.801,\n",
       " -603.225,\n",
       " -604.292,\n",
       " -582.176,\n",
       " -623.0129999999999,\n",
       " -606.717,\n",
       " -576.744,\n",
       " -555.6949999999999,\n",
       " -525.819,\n",
       " -544.346,\n",
       " -601.382,\n",
       " -583.243,\n",
       " -609.0450000000001,\n",
       " -547.838,\n",
       " -606.5229999999999,\n",
       " -595.077,\n",
       " -586.347,\n",
       " -579.9449999999999,\n",
       " -602.449,\n",
       " -634.653,\n",
       " -625.535,\n",
       " -590.809,\n",
       " -697.121,\n",
       " -632.616,\n",
       " -612.9250000000001,\n",
       " -559.672,\n",
       " -555.792,\n",
       " -591.197,\n",
       " -569.8570000000001,\n",
       " -629.997,\n",
       " -598.472,\n",
       " -592.749,\n",
       " -611.761,\n",
       " -582.2729999999999,\n",
       " -538.623,\n",
       " -557.344,\n",
       " -562.291,\n",
       " -554.822,\n",
       " -534.1610000000001,\n",
       " -578.199,\n",
       " -584.213,\n",
       " -604.389,\n",
       " -657.0600000000001,\n",
       " -506.419,\n",
       " -577.7139999999999,\n",
       " -608.948,\n",
       " -494.48800000000006,\n",
       " -579.9449999999999,\n",
       " -584.213,\n",
       " -585.474,\n",
       " -634.75,\n",
       " -664.917,\n",
       " -538.914,\n",
       " -549.4870000000001,\n",
       " -592.264,\n",
       " -573.058,\n",
       " -552.785,\n",
       " -509.038,\n",
       " -505.158,\n",
       " -474.021,\n",
       " -560.351,\n",
       " -560.351,\n",
       " -533.579,\n",
       " -554.822,\n",
       " -529.99,\n",
       " -502.8299999999999,\n",
       " -542.0179999999999,\n",
       " -563.843,\n",
       " -520.193,\n",
       " -564.619,\n",
       " -619.521,\n",
       " -573.64,\n",
       " -656.672,\n",
       " -639.0179999999999,\n",
       " -564.91]"
      ]
     },
     "execution_count": 346,
     "metadata": {},
     "output_type": "execute_result"
    }
   ],
   "source": [
    "price_by_random_k_and_b"
   ]
  },
  {
   "cell_type": "code",
   "execution_count": null,
   "metadata": {
    "collapsed": true
   },
   "outputs": [],
   "source": [
    "[1, 1, 1]\n",
    "[2, 2, 2]"
   ]
  },
  {
   "cell_type": "markdown",
   "metadata": {},
   "source": [
    "## loss\n",
    "\n",
    "$$ loss = \\frac{1}{n} \\sum{(y_i - \\hat{y_i})}$$"
   ]
  },
  {
   "cell_type": "code",
   "execution_count": 354,
   "metadata": {
    "collapsed": true
   },
   "outputs": [],
   "source": [
    "def loss(y, y_hat): # to evaluate the performance \n",
    "    return sum((y_i - y_hat_i)**2 for y_i, y_hat_i in zip(list(y), list(y_hat))) / len(list(y))"
   ]
  },
  {
   "cell_type": "markdown",
   "metadata": {},
   "source": [
    "## First-Method: Random generation: get best k and best b"
   ]
  },
  {
   "cell_type": "code",
   "execution_count": 359,
   "metadata": {
    "collapsed": true
   },
   "outputs": [],
   "source": [
    "X_rm = X[:, 5]"
   ]
  },
  {
   "cell_type": "code",
   "execution_count": 382,
   "metadata": {
    "collapsed": false
   },
   "outputs": [
    {
     "data": {
      "text/plain": [
       "-1494.2815093865156"
      ]
     },
     "execution_count": 382,
     "metadata": {},
     "output_type": "execute_result"
    }
   ],
   "source": []
  },
  {
   "cell_type": "code",
   "execution_count": 397,
   "metadata": {
    "collapsed": false
   },
   "outputs": [
    {
     "name": "stdout",
     "output_type": "stream",
     "text": [
      "When time is : 0, get best_k: 22.830921358177008 best_b: -39.106693780646864, and the loss is: 6834.9849816249225\n",
      "When time is : 8, get best_k: -0.13476310615925513 best_b: 66.10942821293781, and the loss is: 1911.4631954298295\n",
      "When time is : 18, get best_k: 13.434016957539342 best_b: -26.659454929889108, and the loss is: 1294.395363693378\n",
      "When time is : 26, get best_k: -11.595232591052124 best_b: 97.74977573713909, and the loss is: 260.1611343517222\n",
      "When time is : 39, get best_k: 7.493737984263177 best_b: -14.863303599837138, and the loss is: 138.9513784030379\n",
      "When time is : 50, get best_k: 8.3201395250247 best_b: -22.18885279232377, and the loss is: 101.16700044132911\n",
      "When time is : 317, get best_k: 2.373654340444631 best_b: 2.501547771792829, and the loss is: 92.05591808972756\n",
      "When time is : 552, get best_k: 2.7375669767659474 best_b: 2.0764427508479315, and the loss is: 74.1322686397549\n",
      "When time is : 747, get best_k: 13.139669300610606 best_b: -63.57408783325027, and the loss is: 64.08538691630002\n",
      "When time is : 1240, get best_k: 7.1537243131678565 best_b: -19.25037062721519, and the loss is: 55.55386476223626\n"
     ]
    }
   ],
   "source": [
    "trying_times = 2000\n",
    "\n",
    "min_loss = float('inf')\n",
    "best_k, best_b = None, None\n",
    "\n",
    "for i in range(trying_times):\n",
    "    k = random.random() * 200 - 100\n",
    "    b = random.random() * 200 - 100\n",
    "    price_by_random_k_and_b = [price(r, k, b) for r in X_rm]\n",
    "\n",
    "    current_loss = loss(y, price_by_random_k_and_b)\n",
    "    \n",
    "    if current_loss < min_loss:\n",
    "        min_loss = current_loss\n",
    "        best_k, best_b = k, b\n",
    "        print('When time is : {}, get best_k: {} best_b: {}, and the loss is: {}'.format(i, best_k, best_b, min_loss))"
   ]
  },
  {
   "cell_type": "code",
   "execution_count": 386,
   "metadata": {
    "collapsed": false
   },
   "outputs": [
    {
     "data": {
      "text/plain": [
       "3.1622776601683795"
      ]
     },
     "execution_count": 386,
     "metadata": {},
     "output_type": "execute_result"
    }
   ],
   "source": [
    "10 ** 0.5"
   ]
  },
  {
   "cell_type": "code",
   "execution_count": 362,
   "metadata": {
    "collapsed": false
   },
   "outputs": [
    {
     "data": {
      "text/plain": [
       "<matplotlib.collections.PathCollection at 0x1a26bdcdd8>"
      ]
     },
     "execution_count": 362,
     "metadata": {},
     "output_type": "execute_result"
    },
    {
     "data": {
      "image/png": "[encoded data removed]",
      "text/plain": [
       "<Figure size 432x288 with 1 Axes>"
      ]
     },
     "metadata": {
      "needs_background": "light"
     },
     "output_type": "display_data"
    }
   ],
   "source": [
    "X_rm = X[:, 5]\n",
    "k = 15\n",
    "b = -68\n",
    "price_by_random_k_and_b = [price(r, k, b) for r in X_rm]\n",
    "\n",
    "draw_rm_and_price()\n",
    "plt.scatter(X_rm, price_by_random_k_and_b)"
   ]
  },
  {
   "cell_type": "markdown",
   "metadata": {},
   "source": [
    "## 2nd-Method: Direction Adjusting"
   ]
  },
  {
   "cell_type": "code",
   "execution_count": 403,
   "metadata": {
    "collapsed": false
   },
   "outputs": [
    {
     "name": "stdout",
     "output_type": "stream",
     "text": [
      "When time is : 0, get best_k: 53.738304261370835 best_b: -19.30049026971576, and the loss is: 88577.49372297213\n",
      "When time is : 1, get best_k: 53.638304261370834 best_b: -19.200490269715758, and the loss is: 88260.64299266017\n",
      "When time is : 2, get best_k: 53.53830426137083 best_b: -19.100490269715756, and the loss is: 87944.36066346469\n",
      "When time is : 3, get best_k: 53.43830426137083 best_b: -19.000490269715755, and the loss is: 87628.64673538563\n",
      "When time is : 4, get best_k: 53.33830426137083 best_b: -18.900490269715753, and the loss is: 87313.50120842305\n",
      "When time is : 5, get best_k: 53.23830426137083 best_b: -18.800490269715752, and the loss is: 86998.92408257713\n",
      "When time is : 6, get best_k: 53.13830426137083 best_b: -18.70049026971575, and the loss is: 86684.91535784744\n",
      "When time is : 7, get best_k: 53.038304261370826 best_b: -18.60049026971575, and the loss is: 86371.47503423445\n",
      "When time is : 8, get best_k: 52.938304261370824 best_b: -18.500490269715748, and the loss is: 86058.60311173784\n",
      "When time is : 9, get best_k: 52.83830426137082 best_b: -18.400490269715746, and the loss is: 85746.29959035767\n",
      "When time is : 10, get best_k: 52.73830426137082 best_b: -18.300490269715745, and the loss is: 85434.564470094\n",
      "When time is : 11, get best_k: 52.63830426137082 best_b: -18.200490269715743, and the loss is: 85123.39775094693\n",
      "When time is : 12, get best_k: 52.53830426137082 best_b: -18.100490269715742, and the loss is: 84812.79943291616\n",
      "When time is : 13, get best_k: 52.43830426137082 best_b: -18.00049026971574, and the loss is: 84502.76951600196\n",
      "When time is : 14, get best_k: 52.338304261370816 best_b: -17.90049026971574, and the loss is: 84193.30800020426\n",
      "When time is : 15, get best_k: 52.238304261370814 best_b: -17.800490269715738, and the loss is: 83884.41488552303\n",
      "When time is : 16, get best_k: 52.13830426137081 best_b: -17.700490269715736, and the loss is: 83576.09017195832\n",
      "When time is : 17, get best_k: 52.03830426137081 best_b: -17.600490269715735, and the loss is: 83268.33385951\n",
      "When time is : 18, get best_k: 51.93830426137081 best_b: -17.500490269715733, and the loss is: 82961.14594817821\n",
      "When time is : 19, get best_k: 51.83830426137081 best_b: -17.400490269715732, and the loss is: 82654.52643796302\n",
      "When time is : 20, get best_k: 51.73830426137081 best_b: -17.30049026971573, and the loss is: 82348.47532886421\n",
      "When time is : 21, get best_k: 51.638304261370806 best_b: -17.20049026971573, and the loss is: 82042.99262088178\n",
      "When time is : 22, get best_k: 51.538304261370804 best_b: -17.100490269715728, and the loss is: 81738.07831401598\n",
      "When time is : 23, get best_k: 51.4383042613708 best_b: -17.000490269715726, and the loss is: 81433.73240826659\n",
      "When time is : 24, get best_k: 51.3383042613708 best_b: -16.900490269715725, and the loss is: 81129.95490363376\n",
      "When time is : 25, get best_k: 51.2383042613708 best_b: -16.800490269715723, and the loss is: 80826.7458001173\n",
      "When time is : 26, get best_k: 51.1383042613708 best_b: -16.700490269715722, and the loss is: 80524.10509771736\n",
      "When time is : 27, get best_k: 51.0383042613708 best_b: -16.60049026971572, and the loss is: 80222.03279643395\n",
      "When time is : 28, get best_k: 50.938304261370796 best_b: -16.50049026971572, and the loss is: 79920.52889626696\n",
      "When time is : 29, get best_k: 50.838304261370794 best_b: -16.400490269715718, and the loss is: 79619.59339721652\n",
      "When time is : 30, get best_k: 50.73830426137079 best_b: -16.300490269715716, and the loss is: 79319.2262992825\n",
      "When time is : 31, get best_k: 50.63830426137079 best_b: -16.200490269715715, and the loss is: 79019.42760246502\n",
      "When time is : 32, get best_k: 50.53830426137079 best_b: -16.100490269715714, and the loss is: 78720.19730676395\n",
      "When time is : 33, get best_k: 50.43830426137079 best_b: -16.000490269715712, and the loss is: 78421.53541217938\n",
      "When time is : 34, get best_k: 50.33830426137079 best_b: -15.900490269715712, and the loss is: 78123.44191871141\n",
      "When time is : 35, get best_k: 50.238304261370786 best_b: -15.800490269715713, and the loss is: 77825.91682635972\n",
      "When time is : 36, get best_k: 50.138304261370784 best_b: -15.700490269715713, and the loss is: 77528.96013512467\n",
      "When time is : 37, get best_k: 50.03830426137078 best_b: -15.600490269715714, and the loss is: 77232.57184500607\n",
      "When time is : 38, get best_k: 49.93830426137078 best_b: -15.500490269715714, and the loss is: 76936.75195600388\n",
      "When time is : 39, get best_k: 49.83830426137078 best_b: -15.400490269715714, and the loss is: 76641.50046811826\n",
      "When time is : 40, get best_k: 49.73830426137078 best_b: -15.300490269715715, and the loss is: 76346.81738134898\n",
      "When time is : 41, get best_k: 49.63830426137078 best_b: -15.200490269715715, and the loss is: 76052.70269569635\n",
      "When time is : 42, get best_k: 49.538304261370776 best_b: -15.100490269715715, and the loss is: 75759.15641116023\n",
      "When time is : 43, get best_k: 49.438304261370774 best_b: -15.000490269715716, and the loss is: 75466.1785277405\n",
      "When time is : 44, get best_k: 49.33830426137077 best_b: -14.900490269715716, and the loss is: 75173.76904543716\n",
      "When time is : 45, get best_k: 49.23830426137077 best_b: -14.800490269715716, and the loss is: 74881.92796425048\n",
      "When time is : 46, get best_k: 49.13830426137077 best_b: -14.700490269715717, and the loss is: 74590.65528418017\n",
      "When time is : 47, get best_k: 49.03830426137077 best_b: -14.600490269715717, and the loss is: 74299.9510052264\n",
      "When time is : 48, get best_k: 48.93830426137077 best_b: -14.500490269715717, and the loss is: 74009.81512738907\n",
      "When time is : 49, get best_k: 48.838304261370766 best_b: -14.400490269715718, and the loss is: 73720.2476506682\n",
      "When time is : 50, get best_k: 48.738304261370764 best_b: -14.300490269715718, and the loss is: 73431.24857506387\n",
      "When time is : 51, get best_k: 48.63830426137076 best_b: -14.200490269715718, and the loss is: 73142.81790057603\n",
      "When time is : 52, get best_k: 48.53830426137076 best_b: -14.100490269715719, and the loss is: 72854.9556272046\n",
      "When time is : 53, get best_k: 48.43830426137076 best_b: -14.00049026971572, and the loss is: 72567.66175494975\n",
      "When time is : 54, get best_k: 48.33830426137076 best_b: -13.90049026971572, and the loss is: 72280.93628381134\n",
      "When time is : 55, get best_k: 48.23830426137076 best_b: -13.80049026971572, and the loss is: 71994.77921378943\n",
      "When time is : 56, get best_k: 48.138304261370756 best_b: -13.70049026971572, and the loss is: 71709.19054488394\n",
      "When time is : 57, get best_k: 48.038304261370754 best_b: -13.60049026971572, and the loss is: 71424.17027709499\n",
      "When time is : 58, get best_k: 47.93830426137075 best_b: -13.500490269715721, and the loss is: 71139.71841042247\n",
      "When time is : 59, get best_k: 47.83830426137075 best_b: -13.400490269715721, and the loss is: 70855.83494486641\n",
      "When time is : 60, get best_k: 47.73830426137075 best_b: -13.300490269715722, and the loss is: 70572.51988042687\n",
      "When time is : 61, get best_k: 47.63830426137075 best_b: -13.200490269715722, and the loss is: 70289.77321710384\n",
      "When time is : 62, get best_k: 47.53830426137075 best_b: -13.100490269715722, and the loss is: 70007.5949548973\n",
      "When time is : 63, get best_k: 47.438304261370746 best_b: -13.000490269715723, and the loss is: 69725.98509380728\n",
      "When time is : 64, get best_k: 47.338304261370745 best_b: -12.900490269715723, and the loss is: 69444.94363383365\n",
      "When time is : 65, get best_k: 47.23830426137074 best_b: -12.800490269715723, and the loss is: 69164.47057497645\n",
      "When time is : 66, get best_k: 47.13830426137074 best_b: -12.700490269715724, and the loss is: 68884.56591723593\n",
      "When time is : 67, get best_k: 47.03830426137074 best_b: -12.600490269715724, and the loss is: 68605.2296606117\n",
      "When time is : 68, get best_k: 46.93830426137074 best_b: -12.500490269715725, and the loss is: 68326.46180510405\n",
      "When time is : 69, get best_k: 46.83830426137074 best_b: -12.400490269715725, and the loss is: 68048.26235071282\n",
      "When time is : 70, get best_k: 46.738304261370736 best_b: -12.300490269715725, and the loss is: 67770.63129743811\n",
      "When time is : 71, get best_k: 46.638304261370735 best_b: -12.200490269715726, and the loss is: 67493.56864527991\n",
      "When time is : 72, get best_k: 46.53830426137073 best_b: -12.100490269715726, and the loss is: 67217.07439423823\n",
      "When time is : 73, get best_k: 46.43830426137073 best_b: -12.000490269715726, and the loss is: 66941.14854431292\n",
      "When time is : 74, get best_k: 46.33830426137073 best_b: -11.900490269715727, and the loss is: 66665.79109550417\n",
      "When time is : 75, get best_k: 46.23830426137073 best_b: -11.800490269715727, and the loss is: 66391.00204781185\n",
      "When time is : 76, get best_k: 46.13830426137073 best_b: -11.700490269715727, and the loss is: 66116.781401236\n",
      "When time is : 77, get best_k: 46.038304261370726 best_b: -11.600490269715728, and the loss is: 65843.12915577673\n",
      "When time is : 78, get best_k: 45.938304261370725 best_b: -11.500490269715728, and the loss is: 65570.04531143383\n",
      "When time is : 79, get best_k: 45.83830426137072 best_b: -11.400490269715728, and the loss is: 65297.529868207486\n",
      "When time is : 80, get best_k: 45.73830426137072 best_b: -11.300490269715729, and the loss is: 65025.58282609761\n",
      "When time is : 81, get best_k: 45.63830426137072 best_b: -11.20049026971573, and the loss is: 64754.204185104216\n",
      "When time is : 82, get best_k: 45.53830426137072 best_b: -11.10049026971573, and the loss is: 64483.39394522725\n",
      "When time is : 83, get best_k: 45.43830426137072 best_b: -11.00049026971573, and the loss is: 64213.152106466856\n",
      "When time is : 84, get best_k: 45.338304261370716 best_b: -10.90049026971573, and the loss is: 63943.478668822965\n",
      "When time is : 85, get best_k: 45.238304261370715 best_b: -10.80049026971573, and the loss is: 63674.37363229548\n",
      "When time is : 86, get best_k: 45.13830426137071 best_b: -10.700490269715731, and the loss is: 63405.83699688444\n",
      "When time is : 87, get best_k: 45.03830426137071 best_b: -10.600490269715731, and the loss is: 63137.86876258992\n",
      "When time is : 88, get best_k: 44.93830426137071 best_b: -10.500490269715732, and the loss is: 62870.468929411916\n",
      "When time is : 89, get best_k: 44.83830426137071 best_b: -10.400490269715732, and the loss is: 62603.637497350406\n",
      "When time is : 90, get best_k: 44.73830426137071 best_b: -10.300490269715732, and the loss is: 62337.37446640532\n",
      "When time is : 91, get best_k: 44.638304261370706 best_b: -10.200490269715733, and the loss is: 62071.67983657672\n",
      "When time is : 92, get best_k: 44.538304261370705 best_b: -10.100490269715733, and the loss is: 61806.55360786468\n",
      "When time is : 93, get best_k: 44.4383042613707 best_b: -10.000490269715733, and the loss is: 61541.99578026899\n",
      "When time is : 94, get best_k: 44.3383042613707 best_b: -9.900490269715734, and the loss is: 61278.006353789904\n",
      "When time is : 95, get best_k: 44.2383042613707 best_b: -9.800490269715734, and the loss is: 61014.58532842726\n",
      "When time is : 96, get best_k: 44.1383042613707 best_b: -9.700490269715734, and the loss is: 60751.732704181064\n",
      "When time is : 97, get best_k: 44.0383042613707 best_b: -9.600490269715735, and the loss is: 60489.44848105138\n",
      "When time is : 98, get best_k: 43.938304261370696 best_b: -9.500490269715735, and the loss is: 60227.73265903819\n",
      "When time is : 99, get best_k: 43.838304261370695 best_b: -9.400490269715736, and the loss is: 59966.58523814141\n",
      "When time is : 100, get best_k: 43.73830426137069 best_b: -9.300490269715736, and the loss is: 59706.0062183612\n",
      "When time is : 101, get best_k: 43.63830426137069 best_b: -9.200490269715736, and the loss is: 59445.99559969751\n",
      "When time is : 102, get best_k: 43.53830426137069 best_b: -9.100490269715737, and the loss is: 59186.5533821502\n",
      "When time is : 103, get best_k: 43.43830426137069 best_b: -9.000490269715737, and the loss is: 58927.67956571943\n",
      "When time is : 104, get best_k: 43.33830426137069 best_b: -8.900490269715737, and the loss is: 58669.37415040508\n",
      "When time is : 105, get best_k: 43.238304261370686 best_b: -8.800490269715738, and the loss is: 58411.63713620728\n",
      "When time is : 106, get best_k: 43.138304261370685 best_b: -8.700490269715738, and the loss is: 58154.46852312593\n",
      "When time is : 107, get best_k: 43.03830426137068 best_b: -8.600490269715738, and the loss is: 57897.86831116104\n",
      "When time is : 108, get best_k: 42.93830426137068 best_b: -8.500490269715739, and the loss is: 57641.836500312726\n",
      "When time is : 109, get best_k: 42.83830426137068 best_b: -8.400490269715739, and the loss is: 57386.37309058075\n",
      "When time is : 110, get best_k: 42.73830426137068 best_b: -8.30049026971574, and the loss is: 57131.47808196532\n",
      "When time is : 111, get best_k: 42.63830426137068 best_b: -8.20049026971574, and the loss is: 56877.1514744664\n",
      "When time is : 112, get best_k: 42.538304261370676 best_b: -8.10049026971574, and the loss is: 56623.39326808396\n",
      "When time is : 113, get best_k: 42.438304261370675 best_b: -8.00049026971574, and the loss is: 56370.20346281801\n",
      "When time is : 114, get best_k: 42.33830426137067 best_b: -7.900490269715741, and the loss is: 56117.582058668515\n",
      "When time is : 115, get best_k: 42.23830426137067 best_b: -7.800490269715741, and the loss is: 55865.5290556355\n",
      "When time is : 116, get best_k: 42.13830426137067 best_b: -7.700490269715742, and the loss is: 55614.04445371894\n",
      "When time is : 117, get best_k: 42.03830426137067 best_b: -7.600490269715742, and the loss is: 55363.128252918956\n",
      "When time is : 118, get best_k: 41.93830426137067 best_b: -7.500490269715742, and the loss is: 55112.780453235406\n",
      "When time is : 119, get best_k: 41.838304261370666 best_b: -7.400490269715743, and the loss is: 54863.00105466834\n",
      "When time is : 120, get best_k: 41.738304261370665 best_b: -7.300490269715743, and the loss is: 54613.79005721769\n",
      "When time is : 121, get best_k: 41.63830426137066 best_b: -7.200490269715743, and the loss is: 54365.147460883614\n",
      "When time is : 122, get best_k: 41.53830426137066 best_b: -7.100490269715744, and the loss is: 54117.07326566598\n",
      "When time is : 123, get best_k: 41.43830426137066 best_b: -7.000490269715744, and the loss is: 53869.56747156485\n",
      "When time is : 124, get best_k: 41.33830426137066 best_b: -6.900490269715744, and the loss is: 53622.63007858016\n",
      "When time is : 125, get best_k: 41.23830426137066 best_b: -6.800490269715745, and the loss is: 53376.26108671201\n",
      "When time is : 126, get best_k: 41.138304261370656 best_b: -6.700490269715745, and the loss is: 53130.46049596027\n",
      "When time is : 127, get best_k: 41.038304261370655 best_b: -6.6004902697157455, and the loss is: 52885.22830632507\n",
      "When time is : 128, get best_k: 40.938304261370654 best_b: -6.500490269715746, and the loss is: 52640.56451780636\n",
      "When time is : 129, get best_k: 40.83830426137065 best_b: -6.400490269715746, and the loss is: 52396.469130404075\n",
      "When time is : 130, get best_k: 40.73830426137065 best_b: -6.3004902697157465, and the loss is: 52152.94214411826\n",
      "When time is : 131, get best_k: 40.63830426137065 best_b: -6.200490269715747, and the loss is: 51909.983558949054\n",
      "When time is : 132, get best_k: 40.53830426137065 best_b: -6.100490269715747, and the loss is: 51667.5933748962\n",
      "When time is : 133, get best_k: 40.43830426137065 best_b: -6.000490269715748, and the loss is: 51425.77159195988\n",
      "When time is : 134, get best_k: 40.338304261370645 best_b: -5.900490269715748, and the loss is: 51184.51821014008\n",
      "When time is : 135, get best_k: 40.238304261370644 best_b: -5.800490269715748, and the loss is: 50943.83322943667\n",
      "When time is : 136, get best_k: 40.13830426137064 best_b: -5.700490269715749, and the loss is: 50703.71664984976\n",
      "When time is : 137, get best_k: 40.03830426137064 best_b: -5.600490269715749, and the loss is: 50464.16847137939\n",
      "When time is : 138, get best_k: 39.93830426137064 best_b: -5.500490269715749, and the loss is: 50225.18869402547\n",
      "When time is : 139, get best_k: 39.83830426137064 best_b: -5.40049026971575, and the loss is: 49986.777317788066\n",
      "When time is : 140, get best_k: 39.73830426137064 best_b: -5.30049026971575, and the loss is: 49748.934342667184\n",
      "When time is : 141, get best_k: 39.638304261370635 best_b: -5.2004902697157505, and the loss is: 49511.65976866265\n",
      "When time is : 142, get best_k: 39.538304261370634 best_b: -5.100490269715751, and the loss is: 49274.95359577468\n",
      "When time is : 143, get best_k: 39.43830426137063 best_b: -5.000490269715751, and the loss is: 49038.81582400314\n",
      "When time is : 144, get best_k: 39.33830426137063 best_b: -4.9004902697157515, and the loss is: 48803.24645334812\n",
      "When time is : 145, get best_k: 39.23830426137063 best_b: -4.800490269715752, and the loss is: 48568.24548380967\n",
      "When time is : 146, get best_k: 39.13830426137063 best_b: -4.700490269715752, and the loss is: 48333.81291538748\n",
      "When time is : 147, get best_k: 39.03830426137063 best_b: -4.600490269715753, and the loss is: 48099.94874808193\n",
      "When time is : 148, get best_k: 38.938304261370625 best_b: -4.500490269715753, and the loss is: 47866.65298189285\n",
      "When time is : 149, get best_k: 38.838304261370624 best_b: -4.400490269715753, and the loss is: 47633.92561682023\n",
      "When time is : 150, get best_k: 38.73830426137062 best_b: -4.300490269715754, and the loss is: 47401.76665286413\n",
      "When time is : 151, get best_k: 38.63830426137062 best_b: -4.200490269715754, and the loss is: 47170.17609002447\n",
      "When time is : 152, get best_k: 38.53830426137062 best_b: -4.100490269715754, and the loss is: 46939.15392830136\n",
      "When time is : 153, get best_k: 38.43830426137062 best_b: -4.000490269715755, and the loss is: 46708.70016769464\n",
      "When time is : 154, get best_k: 38.33830426137062 best_b: -3.9004902697157546, and the loss is: 46478.814808204435\n",
      "When time is : 155, get best_k: 38.238304261370615 best_b: -3.8004902697157545, and the loss is: 46249.497849830754\n",
      "When time is : 156, get best_k: 38.138304261370614 best_b: -3.7004902697157545, and the loss is: 46020.74929257353\n",
      "When time is : 157, get best_k: 38.03830426137061 best_b: -3.6004902697157544, and the loss is: 45792.569136432714\n",
      "When time is : 158, get best_k: 37.93830426137061 best_b: -3.5004902697157543, and the loss is: 45564.957381408516\n",
      "When time is : 159, get best_k: 37.83830426137061 best_b: -3.400490269715754, and the loss is: 45337.91402750074\n",
      "When time is : 160, get best_k: 37.73830426137061 best_b: -3.300490269715754, and the loss is: 45111.43907470936\n",
      "When time is : 161, get best_k: 37.63830426137061 best_b: -3.200490269715754, and the loss is: 44885.53252303456\n",
      "When time is : 162, get best_k: 37.538304261370605 best_b: -3.100490269715754, and the loss is: 44660.19437247622\n",
      "When time is : 163, get best_k: 37.438304261370604 best_b: -3.000490269715754, and the loss is: 44435.424623034334\n",
      "When time is : 164, get best_k: 37.3383042613706 best_b: -2.9004902697157537, and the loss is: 44211.22327470907\n",
      "When time is : 165, get best_k: 37.2383042613706 best_b: -2.8004902697157537, and the loss is: 43987.59032750014\n",
      "When time is : 166, get best_k: 37.1383042613706 best_b: -2.7004902697157536, and the loss is: 43764.525781407705\n",
      "When time is : 167, get best_k: 37.0383042613706 best_b: -2.6004902697157535, and the loss is: 43542.02963643173\n",
      "When time is : 168, get best_k: 36.9383042613706 best_b: -2.5004902697157534, and the loss is: 43320.1018925723\n",
      "When time is : 169, get best_k: 36.838304261370595 best_b: -2.4004902697157533, and the loss is: 43098.742549829345\n",
      "When time is : 170, get best_k: 36.738304261370594 best_b: -2.300490269715753, and the loss is: 42877.95160820289\n",
      "When time is : 171, get best_k: 36.63830426137059 best_b: -2.200490269715753, and the loss is: 42657.72906769289\n",
      "When time is : 172, get best_k: 36.53830426137059 best_b: -2.100490269715753, and the loss is: 42438.074928299364\n",
      "When time is : 173, get best_k: 36.43830426137059 best_b: -2.000490269715753, and the loss is: 42218.98919002224\n",
      "When time is : 174, get best_k: 36.33830426137059 best_b: -1.9004902697157529, and the loss is: 42000.47185286173\n",
      "When time is : 175, get best_k: 36.23830426137059 best_b: -1.8004902697157528, and the loss is: 41782.52291681763\n",
      "When time is : 176, get best_k: 36.138304261370585 best_b: -1.7004902697157527, and the loss is: 41565.14238189012\n",
      "When time is : 177, get best_k: 36.038304261370584 best_b: -1.6004902697157526, and the loss is: 41348.33024807902\n",
      "When time is : 178, get best_k: 35.93830426137058 best_b: -1.5004902697157525, and the loss is: 41132.08651538437\n",
      "When time is : 179, get best_k: 35.83830426137058 best_b: -1.4004902697157524, and the loss is: 40916.41118380623\n",
      "When time is : 180, get best_k: 35.73830426137058 best_b: -1.3004902697157523, and the loss is: 40701.30425334458\n",
      "When time is : 181, get best_k: 35.63830426137058 best_b: -1.2004902697157522, and the loss is: 40486.76572399941\n",
      "When time is : 182, get best_k: 35.53830426137058 best_b: -1.1004902697157521, and the loss is: 40272.79559577069\n",
      "When time is : 183, get best_k: 35.438304261370575 best_b: -1.000490269715752, and the loss is: 40059.39386865851\n",
      "When time is : 184, get best_k: 35.338304261370574 best_b: -0.9004902697157521, and the loss is: 39846.560542662744\n",
      "When time is : 185, get best_k: 35.23830426137057 best_b: -0.8004902697157521, and the loss is: 39634.29561778355\n",
      "When time is : 186, get best_k: 35.13830426137057 best_b: -0.7004902697157521, and the loss is: 39422.59909402075\n",
      "When time is : 187, get best_k: 35.03830426137057 best_b: -0.6004902697157521, and the loss is: 39211.47097137445\n",
      "When time is : 188, get best_k: 34.93830426137057 best_b: -0.5004902697157522, and the loss is: 39000.9112498447\n",
      "When time is : 189, get best_k: 34.83830426137057 best_b: -0.4004902697157522, and the loss is: 38790.91992943134\n",
      "When time is : 190, get best_k: 34.738304261370565 best_b: -0.3004902697157522, and the loss is: 38581.49701013452\n",
      "When time is : 191, get best_k: 34.638304261370564 best_b: -0.2004902697157522, and the loss is: 38372.6424919541\n",
      "When time is : 192, get best_k: 34.53830426137056 best_b: -0.1004902697157522, and the loss is: 38164.35637489026\n",
      "When time is : 193, get best_k: 34.43830426137056 best_b: -0.0004902697157521951, and the loss is: 37956.63865894291\n",
      "When time is : 194, get best_k: 34.33830426137056 best_b: 0.09950973028424781, and the loss is: 37749.48934411201\n",
      "When time is : 195, get best_k: 34.23830426137056 best_b: 0.19950973028424782, and the loss is: 37542.90843039754\n",
      "When time is : 196, get best_k: 34.13830426137056 best_b: 0.2995097302842478, and the loss is: 37336.895917799666\n",
      "When time is : 197, get best_k: 34.038304261370556 best_b: 0.39950973028424785, and the loss is: 37131.45180631814\n",
      "When time is : 198, get best_k: 33.938304261370554 best_b: 0.49950973028424783, and the loss is: 36926.576095953154\n",
      "When time is : 199, get best_k: 33.83830426137055 best_b: 0.5995097302842478, and the loss is: 36722.26878670465\n",
      "When time is : 200, get best_k: 33.73830426137055 best_b: 0.6995097302842478, and the loss is: 36518.52987857262\n",
      "When time is : 201, get best_k: 33.63830426137055 best_b: 0.7995097302842478, and the loss is: 36315.3593715571\n",
      "When time is : 202, get best_k: 33.53830426137055 best_b: 0.8995097302842477, and the loss is: 36112.75726565804\n",
      "When time is : 203, get best_k: 33.43830426137055 best_b: 0.9995097302842477, and the loss is: 35910.72356087547\n",
      "When time is : 204, get best_k: 33.338304261370546 best_b: 1.0995097302842478, and the loss is: 35709.258257209425\n",
      "When time is : 205, get best_k: 33.238304261370544 best_b: 1.199509730284248, and the loss is: 35508.36135465979\n",
      "When time is : 206, get best_k: 33.13830426137054 best_b: 1.299509730284248, and the loss is: 35308.03285322669\n",
      "When time is : 207, get best_k: 33.03830426137054 best_b: 1.399509730284248, and the loss is: 35108.27275291007\n",
      "When time is : 208, get best_k: 32.93830426137054 best_b: 1.4995097302842482, and the loss is: 34909.08105370983\n",
      "When time is : 209, get best_k: 32.83830426137054 best_b: 1.5995097302842483, and the loss is: 34710.45775562624\n",
      "When time is : 210, get best_k: 32.73830426137054 best_b: 1.6995097302842483, and the loss is: 34512.402858659014\n",
      "When time is : 211, get best_k: 32.638304261370536 best_b: 1.7995097302842484, and the loss is: 34314.9163628083\n",
      "When time is : 212, get best_k: 32.538304261370534 best_b: 1.8995097302842485, and the loss is: 34117.998268074065\n",
      "When time is : 213, get best_k: 32.43830426137053 best_b: 1.9995097302842486, and the loss is: 33921.64857445633\n",
      "When time is : 214, get best_k: 32.33830426137053 best_b: 2.0995097302842485, and the loss is: 33725.86728195507\n",
      "When time is : 215, get best_k: 32.23830426137053 best_b: 2.1995097302842486, and the loss is: 33530.65439057027\n",
      "When time is : 216, get best_k: 32.13830426137053 best_b: 2.2995097302842487, and the loss is: 33336.00990030199\n",
      "When time is : 217, get best_k: 32.03830426137053 best_b: 2.3995097302842487, and the loss is: 33141.93381115017\n",
      "When time is : 218, get best_k: 31.938304261370526 best_b: 2.499509730284249, and the loss is: 32948.42612311484\n",
      "When time is : 219, get best_k: 31.838304261370524 best_b: 2.599509730284249, and the loss is: 32755.486836196003\n",
      "When time is : 220, get best_k: 31.738304261370523 best_b: 2.699509730284249, and the loss is: 32563.115950393618\n",
      "When time is : 221, get best_k: 31.63830426137052 best_b: 2.799509730284249, and the loss is: 32371.31346570772\n",
      "When time is : 222, get best_k: 31.53830426137052 best_b: 2.899509730284249, and the loss is: 32180.07938213827\n",
      "When time is : 223, get best_k: 31.43830426137052 best_b: 2.9995097302842493, and the loss is: 31989.413699685385\n",
      "When time is : 224, get best_k: 31.338304261370517 best_b: 3.0995097302842494, and the loss is: 31799.316418348946\n",
      "When time is : 225, get best_k: 31.238304261370516 best_b: 3.1995097302842495, and the loss is: 31609.787538129003\n",
      "When time is : 226, get best_k: 31.138304261370514 best_b: 3.2995097302842495, and the loss is: 31420.82705902552\n",
      "When time is : 227, get best_k: 31.038304261370513 best_b: 3.3995097302842496, and the loss is: 31232.4349810385\n",
      "When time is : 228, get best_k: 30.93830426137051 best_b: 3.4995097302842497, and the loss is: 31044.611304167975\n",
      "When time is : 229, get best_k: 30.83830426137051 best_b: 3.59950973028425, and the loss is: 30857.35602841398\n",
      "When time is : 230, get best_k: 30.73830426137051 best_b: 3.69950973028425, and the loss is: 30670.669153776413\n",
      "When time is : 231, get best_k: 30.638304261370507 best_b: 3.79950973028425, and the loss is: 30484.550680255365\n",
      "When time is : 232, get best_k: 30.538304261370506 best_b: 3.89950973028425, and the loss is: 30299.000607850772\n",
      "When time is : 233, get best_k: 30.438304261370504 best_b: 3.99950973028425, and the loss is: 30114.018936562683\n",
      "When time is : 234, get best_k: 30.338304261370503 best_b: 4.09950973028425, and the loss is: 29929.605666391075\n",
      "When time is : 235, get best_k: 30.2383042613705 best_b: 4.19950973028425, and the loss is: 29745.760797335897\n",
      "When time is : 236, get best_k: 30.1383042613705 best_b: 4.2995097302842495, and the loss is: 29562.484329397306\n",
      "When time is : 237, get best_k: 30.0383042613705 best_b: 4.399509730284249, and the loss is: 29379.776262575084\n",
      "When time is : 238, get best_k: 29.938304261370497 best_b: 4.499509730284249, and the loss is: 29197.636596869364\n",
      "When time is : 239, get best_k: 29.838304261370496 best_b: 4.5995097302842485, and the loss is: 29016.065332280177\n",
      "When time is : 240, get best_k: 29.738304261370494 best_b: 4.699509730284248, and the loss is: 28835.062468807464\n",
      "When time is : 241, get best_k: 29.638304261370493 best_b: 4.799509730284248, and the loss is: 28654.628006451203\n",
      "When time is : 242, get best_k: 29.53830426137049 best_b: 4.899509730284247, and the loss is: 28474.76194521143\n",
      "When time is : 243, get best_k: 29.43830426137049 best_b: 4.999509730284247, and the loss is: 28295.464285088186\n",
      "When time is : 244, get best_k: 29.33830426137049 best_b: 5.099509730284247, and the loss is: 28116.735026081362\n",
      "When time is : 245, get best_k: 29.238304261370487 best_b: 5.199509730284246, and the loss is: 27938.574168191073\n",
      "When time is : 246, get best_k: 29.138304261370486 best_b: 5.299509730284246, and the loss is: 27760.98171141724\n",
      "When time is : 247, get best_k: 29.038304261370484 best_b: 5.399509730284246, and the loss is: 27583.957655759874\n",
      "When time is : 248, get best_k: 28.938304261370483 best_b: 5.499509730284245, and the loss is: 27407.502001219025\n",
      "When time is : 249, get best_k: 28.83830426137048 best_b: 5.599509730284245, and the loss is: 27231.614747794636\n",
      "When time is : 250, get best_k: 28.73830426137048 best_b: 5.699509730284245, and the loss is: 27056.29589548674\n",
      "When time is : 251, get best_k: 28.63830426137048 best_b: 5.799509730284244, and the loss is: 26881.545444295312\n",
      "When time is : 252, get best_k: 28.538304261370477 best_b: 5.899509730284244, and the loss is: 26707.363394220345\n",
      "When time is : 253, get best_k: 28.438304261370476 best_b: 5.9995097302842435, and the loss is: 26533.74974526192\n",
      "When time is : 254, get best_k: 28.338304261370475 best_b: 6.099509730284243, and the loss is: 26360.704497419934\n",
      "When time is : 255, get best_k: 28.238304261370473 best_b: 6.199509730284243, and the loss is: 26188.227650694433\n",
      "When time is : 256, get best_k: 28.13830426137047 best_b: 6.299509730284242, and the loss is: 26016.319205085438\n",
      "When time is : 257, get best_k: 28.03830426137047 best_b: 6.399509730284242, and the loss is: 25844.979160592917\n",
      "When time is : 258, get best_k: 27.93830426137047 best_b: 6.499509730284242, and the loss is: 25674.20751721686\n",
      "When time is : 259, get best_k: 27.838304261370467 best_b: 6.599509730284241, and the loss is: 25504.004274957297\n",
      "When time is : 260, get best_k: 27.738304261370466 best_b: 6.699509730284241, and the loss is: 25334.36943381422\n",
      "When time is : 261, get best_k: 27.638304261370465 best_b: 6.799509730284241, and the loss is: 25165.30299378762\n",
      "When time is : 262, get best_k: 27.538304261370463 best_b: 6.89950973028424, and the loss is: 24996.804954877505\n",
      "When time is : 263, get best_k: 27.43830426137046 best_b: 6.99950973028424, and the loss is: 24828.875317083868\n",
      "When time is : 264, get best_k: 27.33830426137046 best_b: 7.09950973028424, and the loss is: 24661.514080406745\n",
      "When time is : 265, get best_k: 27.23830426137046 best_b: 7.199509730284239, and the loss is: 24494.721244846027\n",
      "When time is : 266, get best_k: 27.138304261370457 best_b: 7.299509730284239, and the loss is: 24328.49681040187\n",
      "When time is : 267, get best_k: 27.038304261370456 best_b: 7.3995097302842385, and the loss is: 24162.840777074154\n",
      "When time is : 268, get best_k: 26.938304261370455 best_b: 7.499509730284238, and the loss is: 23997.75314486295\n",
      "When time is : 269, get best_k: 26.838304261370453 best_b: 7.599509730284238, and the loss is: 23833.233913768177\n",
      "When time is : 270, get best_k: 26.738304261370452 best_b: 7.6995097302842375, and the loss is: 23669.283083789924\n",
      "When time is : 271, get best_k: 26.63830426137045 best_b: 7.799509730284237, and the loss is: 23505.900654928133\n",
      "When time is : 272, get best_k: 26.53830426137045 best_b: 7.899509730284237, and the loss is: 23343.086627182853\n",
      "When time is : 273, get best_k: 26.438304261370448 best_b: 7.999509730284236, and the loss is: 23180.841000554065\n",
      "When time is : 274, get best_k: 26.338304261370446 best_b: 8.099509730284236, and the loss is: 23019.163775041725\n",
      "When time is : 275, get best_k: 26.238304261370445 best_b: 8.199509730284236, and the loss is: 22858.054950645885\n",
      "When time is : 276, get best_k: 26.138304261370443 best_b: 8.299509730284235, and the loss is: 22697.51452736653\n",
      "When time is : 277, get best_k: 26.038304261370442 best_b: 8.399509730284235, and the loss is: 22537.542505203626\n",
      "When time is : 278, get best_k: 25.93830426137044 best_b: 8.499509730284235, and the loss is: 22378.138884157237\n",
      "When time is : 279, get best_k: 25.83830426137044 best_b: 8.599509730284234, and the loss is: 22219.30366422727\n",
      "When time is : 280, get best_k: 25.738304261370438 best_b: 8.699509730284234, and the loss is: 22061.036845413866\n",
      "When time is : 281, get best_k: 25.638304261370436 best_b: 8.799509730284234, and the loss is: 21903.338427716906\n",
      "When time is : 282, get best_k: 25.538304261370435 best_b: 8.899509730284233, and the loss is: 21746.208411136446\n",
      "When time is : 283, get best_k: 25.438304261370433 best_b: 8.999509730284233, and the loss is: 21589.646795672445\n",
      "When time is : 284, get best_k: 25.338304261370432 best_b: 9.099509730284232, and the loss is: 21433.653581324943\n",
      "When time is : 285, get best_k: 25.23830426137043 best_b: 9.199509730284232, and the loss is: 21278.22876809392\n",
      "When time is : 286, get best_k: 25.13830426137043 best_b: 9.299509730284232, and the loss is: 21123.372355979365\n",
      "When time is : 287, get best_k: 25.038304261370428 best_b: 9.399509730284231, and the loss is: 20969.084344981296\n",
      "When time is : 288, get best_k: 24.938304261370426 best_b: 9.499509730284231, and the loss is: 20815.364735099716\n",
      "When time is : 289, get best_k: 24.838304261370425 best_b: 9.59950973028423, and the loss is: 20662.21352633465\n",
      "When time is : 290, get best_k: 24.738304261370423 best_b: 9.69950973028423, and the loss is: 20509.630718686003\n",
      "When time is : 291, get best_k: 24.638304261370422 best_b: 9.79950973028423, and the loss is: 20357.616312153874\n",
      "When time is : 292, get best_k: 24.53830426137042 best_b: 9.89950973028423, and the loss is: 20206.170306738215\n",
      "When time is : 293, get best_k: 24.43830426137042 best_b: 9.99950973028423, and the loss is: 20055.292702439074\n",
      "When time is : 294, get best_k: 24.338304261370418 best_b: 10.099509730284229, and the loss is: 19904.983499256396\n",
      "When time is : 295, get best_k: 24.238304261370416 best_b: 10.199509730284229, and the loss is: 19755.242697190217\n",
      "When time is : 296, get best_k: 24.138304261370415 best_b: 10.299509730284228, and the loss is: 19606.07029624046\n",
      "When time is : 297, get best_k: 24.038304261370413 best_b: 10.399509730284228, and the loss is: 19457.466296407216\n",
      "When time is : 298, get best_k: 23.938304261370412 best_b: 10.499509730284228, and the loss is: 19309.430697690477\n",
      "When time is : 299, get best_k: 23.83830426137041 best_b: 10.599509730284227, and the loss is: 19161.963500090205\n",
      "When time is : 300, get best_k: 23.73830426137041 best_b: 10.699509730284227, and the loss is: 19015.064703606407\n",
      "When time is : 301, get best_k: 23.638304261370408 best_b: 10.799509730284226, and the loss is: 18868.73430823909\n",
      "When time is : 302, get best_k: 23.538304261370406 best_b: 10.899509730284226, and the loss is: 18722.972313988266\n",
      "When time is : 303, get best_k: 23.438304261370405 best_b: 10.999509730284226, and the loss is: 18577.778720853923\n",
      "When time is : 304, get best_k: 23.338304261370403 best_b: 11.099509730284225, and the loss is: 18433.153528836054\n",
      "When time is : 305, get best_k: 23.238304261370402 best_b: 11.199509730284225, and the loss is: 18289.096737934673\n",
      "When time is : 306, get best_k: 23.1383042613704 best_b: 11.299509730284225, and the loss is: 18145.608348149777\n",
      "When time is : 307, get best_k: 23.0383042613704 best_b: 11.399509730284224, and the loss is: 18002.688359481355\n",
      "When time is : 308, get best_k: 22.938304261370398 best_b: 11.499509730284224, and the loss is: 17860.336771929426\n",
      "When time is : 309, get best_k: 22.838304261370396 best_b: 11.599509730284224, and the loss is: 17718.553585493963\n",
      "When time is : 310, get best_k: 22.738304261370395 best_b: 11.699509730284223, and the loss is: 17577.33880017502\n",
      "When time is : 311, get best_k: 22.638304261370394 best_b: 11.799509730284223, and the loss is: 17436.692415972528\n",
      "When time is : 312, get best_k: 22.538304261370392 best_b: 11.899509730284223, and the loss is: 17296.61443288652\n",
      "When time is : 313, get best_k: 22.43830426137039 best_b: 11.999509730284222, and the loss is: 17157.104850916992\n",
      "When time is : 314, get best_k: 22.33830426137039 best_b: 12.099509730284222, and the loss is: 17018.163670063943\n",
      "When time is : 315, get best_k: 22.238304261370388 best_b: 12.199509730284221, and the loss is: 16879.79089032738\n",
      "When time is : 316, get best_k: 22.138304261370386 best_b: 12.299509730284221, and the loss is: 16741.98651170731\n",
      "When time is : 317, get best_k: 22.038304261370385 best_b: 12.39950973028422, and the loss is: 16604.750534203722\n",
      "When time is : 318, get best_k: 21.938304261370384 best_b: 12.49950973028422, and the loss is: 16468.082957816605\n",
      "When time is : 319, get best_k: 21.838304261370382 best_b: 12.59950973028422, and the loss is: 16331.983782545965\n",
      "When time is : 320, get best_k: 21.73830426137038 best_b: 12.69950973028422, and the loss is: 16196.453008391833\n",
      "When time is : 321, get best_k: 21.63830426137038 best_b: 12.79950973028422, and the loss is: 16061.490635354166\n",
      "When time is : 322, get best_k: 21.538304261370378 best_b: 12.899509730284219, and the loss is: 15927.096663432967\n",
      "When time is : 323, get best_k: 21.438304261370376 best_b: 12.999509730284219, and the loss is: 15793.271092628274\n",
      "When time is : 324, get best_k: 21.338304261370375 best_b: 13.099509730284218, and the loss is: 15660.013922940047\n",
      "When time is : 325, get best_k: 21.238304261370374 best_b: 13.199509730284218, and the loss is: 15527.325154368325\n",
      "When time is : 326, get best_k: 21.138304261370372 best_b: 13.299509730284218, and the loss is: 15395.204786913064\n",
      "When time is : 327, get best_k: 21.03830426137037 best_b: 13.399509730284217, and the loss is: 15263.652820574287\n",
      "When time is : 328, get best_k: 20.93830426137037 best_b: 13.499509730284217, and the loss is: 15132.669255352006\n",
      "When time is : 329, get best_k: 20.838304261370368 best_b: 13.599509730284217, and the loss is: 15002.254091246205\n",
      "When time is : 330, get best_k: 20.738304261370367 best_b: 13.699509730284216, and the loss is: 14872.407328256864\n",
      "When time is : 331, get best_k: 20.638304261370365 best_b: 13.799509730284216, and the loss is: 14743.128966384042\n",
      "When time is : 332, get best_k: 20.538304261370364 best_b: 13.899509730284215, and the loss is: 14614.419005627688\n",
      "When time is : 333, get best_k: 20.438304261370362 best_b: 13.999509730284215, and the loss is: 14486.27744598781\n",
      "When time is : 334, get best_k: 20.33830426137036 best_b: 14.099509730284215, and the loss is: 14358.704287464398\n",
      "When time is : 335, get best_k: 20.23830426137036 best_b: 14.199509730284214, and the loss is: 14231.699530057493\n",
      "When time is : 336, get best_k: 20.138304261370358 best_b: 14.299509730284214, and the loss is: 14105.263173767062\n",
      "When time is : 337, get best_k: 20.038304261370357 best_b: 14.399509730284214, and the loss is: 13979.395218593096\n",
      "When time is : 338, get best_k: 19.938304261370355 best_b: 14.499509730284213, and the loss is: 13854.095664535635\n",
      "When time is : 339, get best_k: 19.838304261370354 best_b: 14.599509730284213, and the loss is: 13729.364511594662\n",
      "When time is : 340, get best_k: 19.738304261370352 best_b: 14.699509730284213, and the loss is: 13605.201759770145\n",
      "When time is : 341, get best_k: 19.63830426137035 best_b: 14.799509730284212, and the loss is: 13481.607409062135\n",
      "When time is : 342, get best_k: 19.53830426137035 best_b: 14.899509730284212, and the loss is: 13358.581459470593\n",
      "When time is : 343, get best_k: 19.438304261370348 best_b: 14.999509730284212, and the loss is: 13236.123910995537\n",
      "When time is : 344, get best_k: 19.338304261370347 best_b: 15.099509730284211, and the loss is: 13114.234763636956\n",
      "When time is : 345, get best_k: 19.238304261370345 best_b: 15.19950973028421, and the loss is: 12992.91401739488\n",
      "When time is : 346, get best_k: 19.138304261370344 best_b: 15.29950973028421, and the loss is: 12872.161672269262\n",
      "When time is : 347, get best_k: 19.038304261370342 best_b: 15.39950973028421, and the loss is: 12751.977728260115\n",
      "When time is : 348, get best_k: 18.93830426137034 best_b: 15.49950973028421, and the loss is: 12632.362185367489\n",
      "When time is : 349, get best_k: 18.83830426137034 best_b: 15.59950973028421, and the loss is: 12513.315043591318\n",
      "When time is : 350, get best_k: 18.738304261370338 best_b: 15.699509730284209, and the loss is: 12394.836302931655\n",
      "When time is : 351, get best_k: 18.638304261370337 best_b: 15.799509730284209, and the loss is: 12276.92596338846\n",
      "When time is : 352, get best_k: 18.538304261370335 best_b: 15.899509730284208, and the loss is: 12159.584024961723\n",
      "When time is : 353, get best_k: 18.438304261370334 best_b: 15.999509730284208, and the loss is: 12042.810487651506\n",
      "When time is : 354, get best_k: 18.338304261370332 best_b: 16.099509730284208, and the loss is: 11926.605351457734\n",
      "When time is : 355, get best_k: 18.23830426137033 best_b: 16.19950973028421, and the loss is: 11810.96861638048\n",
      "When time is : 356, get best_k: 18.13830426137033 best_b: 16.29950973028421, and the loss is: 11695.900282419701\n",
      "When time is : 357, get best_k: 18.038304261370328 best_b: 16.399509730284212, and the loss is: 11581.40034957538\n",
      "When time is : 358, get best_k: 17.938304261370327 best_b: 16.499509730284213, and the loss is: 11467.468817847575\n",
      "When time is : 359, get best_k: 17.838304261370325 best_b: 16.599509730284215, and the loss is: 11354.105687236235\n",
      "When time is : 360, get best_k: 17.738304261370324 best_b: 16.699509730284216, and the loss is: 11241.31095774137\n",
      "When time is : 361, get best_k: 17.638304261370322 best_b: 16.799509730284218, and the loss is: 11129.084629363006\n",
      "When time is : 362, get best_k: 17.53830426137032 best_b: 16.89950973028422, and the loss is: 11017.426702101115\n",
      "When time is : 363, get best_k: 17.43830426137032 best_b: 16.99950973028422, and the loss is: 10906.337175955692\n",
      "When time is : 364, get best_k: 17.338304261370318 best_b: 17.099509730284222, and the loss is: 10795.816050926749\n",
      "When time is : 365, get best_k: 17.238304261370317 best_b: 17.199509730284223, and the loss is: 10685.86332701431\n",
      "When time is : 366, get best_k: 17.138304261370315 best_b: 17.299509730284225, and the loss is: 10576.479004218354\n",
      "When time is : 367, get best_k: 17.038304261370314 best_b: 17.399509730284226, and the loss is: 10467.663082538866\n",
      "When time is : 368, get best_k: 16.938304261370313 best_b: 17.499509730284228, and the loss is: 10359.415561975873\n",
      "When time is : 369, get best_k: 16.83830426137031 best_b: 17.59950973028423, and the loss is: 10251.736442529353\n",
      "When time is : 370, get best_k: 16.73830426137031 best_b: 17.69950973028423, and the loss is: 10144.625724199317\n",
      "When time is : 371, get best_k: 16.63830426137031 best_b: 17.799509730284232, and the loss is: 10038.083406985763\n",
      "When time is : 372, get best_k: 16.538304261370307 best_b: 17.899509730284233, and the loss is: 9932.10949088869\n",
      "When time is : 373, get best_k: 16.438304261370305 best_b: 17.999509730284235, and the loss is: 9826.703975908107\n",
      "When time is : 374, get best_k: 16.338304261370304 best_b: 18.099509730284236, and the loss is: 9721.86686204399\n",
      "When time is : 375, get best_k: 16.238304261370303 best_b: 18.199509730284237, and the loss is: 9617.59814929639\n",
      "When time is : 376, get best_k: 16.1383042613703 best_b: 18.29950973028424, and the loss is: 9513.897837665236\n",
      "When time is : 377, get best_k: 16.0383042613703 best_b: 18.39950973028424, and the loss is: 9410.76592715057\n",
      "When time is : 378, get best_k: 15.9383042613703 best_b: 18.49950973028424, and the loss is: 9308.202417752393\n",
      "When time is : 379, get best_k: 15.8383042613703 best_b: 18.599509730284243, and the loss is: 9206.2073094707\n",
      "When time is : 380, get best_k: 15.7383042613703 best_b: 18.699509730284245, and the loss is: 9104.780602305498\n",
      "When time is : 381, get best_k: 15.638304261370301 best_b: 18.799509730284246, and the loss is: 9003.922296256762\n",
      "When time is : 382, get best_k: 15.538304261370302 best_b: 18.899509730284247, and the loss is: 8903.632391324514\n",
      "When time is : 383, get best_k: 15.438304261370302 best_b: 18.99950973028425, and the loss is: 8803.910887508753\n",
      "When time is : 384, get best_k: 15.338304261370302 best_b: 19.09950973028425, and the loss is: 8704.75778480947\n",
      "When time is : 385, get best_k: 15.238304261370303 best_b: 19.19950973028425, and the loss is: 8606.173083226666\n",
      "When time is : 386, get best_k: 15.138304261370303 best_b: 19.299509730284253, and the loss is: 8508.156782760345\n",
      "When time is : 387, get best_k: 15.038304261370303 best_b: 19.399509730284255, and the loss is: 8410.70888341052\n",
      "When time is : 388, get best_k: 14.938304261370304 best_b: 19.499509730284256, and the loss is: 8313.829385177167\n",
      "When time is : 389, get best_k: 14.838304261370304 best_b: 19.599509730284257, and the loss is: 8217.518288060299\n",
      "When time is : 390, get best_k: 14.738304261370304 best_b: 19.69950973028426, and the loss is: 8121.7755920599\n",
      "When time is : 391, get best_k: 14.638304261370305 best_b: 19.79950973028426, and the loss is: 8026.601297175992\n",
      "When time is : 392, get best_k: 14.538304261370305 best_b: 19.89950973028426, and the loss is: 7931.995403408575\n",
      "When time is : 393, get best_k: 14.438304261370305 best_b: 19.999509730284263, and the loss is: 7837.957910757636\n",
      "When time is : 394, get best_k: 14.338304261370306 best_b: 20.099509730284264, and the loss is: 7744.488819223173\n",
      "When time is : 395, get best_k: 14.238304261370306 best_b: 20.199509730284266, and the loss is: 7651.588128805189\n",
      "When time is : 396, get best_k: 14.138304261370306 best_b: 20.299509730284267, and the loss is: 7559.255839503695\n",
      "When time is : 397, get best_k: 14.038304261370307 best_b: 20.39950973028427, and the loss is: 7467.491951318684\n",
      "When time is : 398, get best_k: 13.938304261370307 best_b: 20.49950973028427, and the loss is: 7376.296464250159\n",
      "When time is : 399, get best_k: 13.838304261370308 best_b: 20.59950973028427, and the loss is: 7285.6693782981065\n",
      "When time is : 400, get best_k: 13.738304261370308 best_b: 20.699509730284273, and the loss is: 7195.61069346255\n",
      "When time is : 401, get best_k: 13.638304261370308 best_b: 20.799509730284274, and the loss is: 7106.120409743454\n",
      "When time is : 402, get best_k: 13.538304261370309 best_b: 20.899509730284276, and the loss is: 7017.198527140856\n",
      "When time is : 403, get best_k: 13.438304261370309 best_b: 20.999509730284277, and the loss is: 6928.845045654733\n",
      "When time is : 404, get best_k: 13.33830426137031 best_b: 21.09950973028428, and the loss is: 6841.059965285092\n",
      "When time is : 405, get best_k: 13.23830426137031 best_b: 21.19950973028428, and the loss is: 6753.843286031942\n",
      "When time is : 406, get best_k: 13.13830426137031 best_b: 21.29950973028428, and the loss is: 6667.195007895256\n",
      "When time is : 407, get best_k: 13.03830426137031 best_b: 21.399509730284283, and the loss is: 6581.115130875064\n",
      "When time is : 408, get best_k: 12.93830426137031 best_b: 21.499509730284284, and the loss is: 6495.603654971364\n",
      "When time is : 409, get best_k: 12.838304261370311 best_b: 21.599509730284286, and the loss is: 6410.660580184137\n",
      "When time is : 410, get best_k: 12.738304261370311 best_b: 21.699509730284287, and the loss is: 6326.285906513398\n",
      "When time is : 411, get best_k: 12.638304261370312 best_b: 21.79950973028429, and the loss is: 6242.4796339591185\n",
      "When time is : 412, get best_k: 12.538304261370312 best_b: 21.89950973028429, and the loss is: 6159.241762521346\n",
      "When time is : 413, get best_k: 12.438304261370313 best_b: 21.99950973028429, and the loss is: 6076.572292200051\n",
      "When time is : 414, get best_k: 12.338304261370313 best_b: 22.099509730284293, and the loss is: 5994.471222995237\n",
      "When time is : 415, get best_k: 12.238304261370313 best_b: 22.199509730284294, and the loss is: 5912.938554906899\n",
      "When time is : 416, get best_k: 12.138304261370314 best_b: 22.299509730284296, and the loss is: 5831.974287935051\n",
      "When time is : 417, get best_k: 12.038304261370314 best_b: 22.399509730284297, and the loss is: 5751.578422079684\n",
      "When time is : 418, get best_k: 11.938304261370314 best_b: 22.4995097302843, and the loss is: 5671.750957340801\n",
      "When time is : 419, get best_k: 11.838304261370315 best_b: 22.5995097302843, and the loss is: 5592.491893718384\n",
      "When time is : 420, get best_k: 11.738304261370315 best_b: 22.6995097302843, and the loss is: 5513.801231212463\n",
      "When time is : 421, get best_k: 11.638304261370315 best_b: 22.799509730284303, and the loss is: 5435.67896982302\n",
      "When time is : 422, get best_k: 11.538304261370316 best_b: 22.899509730284304, and the loss is: 5358.125109550071\n",
      "When time is : 423, get best_k: 11.438304261370316 best_b: 22.999509730284306, and the loss is: 5281.1396503935875\n",
      "When time is : 424, get best_k: 11.338304261370316 best_b: 23.099509730284307, and the loss is: 5204.722592353596\n",
      "When time is : 425, get best_k: 11.238304261370317 best_b: 23.19950973028431, and the loss is: 5128.873935430079\n",
      "When time is : 426, get best_k: 11.138304261370317 best_b: 23.29950973028431, and the loss is: 5053.593679623053\n",
      "When time is : 427, get best_k: 11.038304261370318 best_b: 23.39950973028431, and the loss is: 4978.881824932512\n",
      "When time is : 428, get best_k: 10.938304261370318 best_b: 23.499509730284313, and the loss is: 4904.73837135844\n",
      "When time is : 429, get best_k: 10.838304261370318 best_b: 23.599509730284314, and the loss is: 4831.163318900854\n",
      "When time is : 430, get best_k: 10.738304261370319 best_b: 23.699509730284316, and the loss is: 4758.15666755976\n",
      "When time is : 431, get best_k: 10.638304261370319 best_b: 23.799509730284317, and the loss is: 4685.718417335146\n",
      "When time is : 432, get best_k: 10.53830426137032 best_b: 23.89950973028432, and the loss is: 4613.848568227004\n",
      "When time is : 433, get best_k: 10.43830426137032 best_b: 23.99950973028432, and the loss is: 4542.547120235346\n",
      "When time is : 434, get best_k: 10.33830426137032 best_b: 24.09950973028432, and the loss is: 4471.814073360182\n",
      "When time is : 435, get best_k: 10.23830426137032 best_b: 24.199509730284323, and the loss is: 4401.649427601492\n",
      "When time is : 436, get best_k: 10.13830426137032 best_b: 24.299509730284324, and the loss is: 4332.05318295928\n",
      "When time is : 437, get best_k: 10.038304261370321 best_b: 24.399509730284326, and the loss is: 4263.025339433556\n",
      "When time is : 438, get best_k: 9.938304261370321 best_b: 24.499509730284327, and the loss is: 4194.565897024316\n",
      "When time is : 439, get best_k: 9.838304261370322 best_b: 24.59950973028433, and the loss is: 4126.674855731557\n",
      "When time is : 440, get best_k: 9.738304261370322 best_b: 24.69950973028433, and the loss is: 4059.3522155552737\n",
      "When time is : 441, get best_k: 9.638304261370322 best_b: 24.79950973028433, and the loss is: 3992.5979764954745\n",
      "When time is : 442, get best_k: 9.538304261370323 best_b: 24.899509730284333, and the loss is: 3926.412138552163\n",
      "When time is : 443, get best_k: 9.438304261370323 best_b: 24.999509730284334, and the loss is: 3860.7947017253355\n",
      "When time is : 444, get best_k: 9.338304261370324 best_b: 25.099509730284336, and the loss is: 3795.745666014984\n",
      "When time is : 445, get best_k: 9.238304261370324 best_b: 25.199509730284337, and the loss is: 3731.2650314211196\n",
      "When time is : 446, get best_k: 9.138304261370324 best_b: 25.29950973028434, and the loss is: 3667.3527979437304\n",
      "When time is : 447, get best_k: 9.038304261370325 best_b: 25.39950973028434, and the loss is: 3604.008965582823\n",
      "When time is : 448, get best_k: 8.938304261370325 best_b: 25.49950973028434, and the loss is: 3541.2335343384075\n",
      "When time is : 449, get best_k: 8.838304261370325 best_b: 25.599509730284343, and the loss is: 3479.0265042104666\n",
      "When time is : 450, get best_k: 8.738304261370326 best_b: 25.699509730284344, and the loss is: 3417.3878751990096\n",
      "When time is : 451, get best_k: 8.638304261370326 best_b: 25.799509730284345, and the loss is: 3356.3176473040367\n",
      "When time is : 452, get best_k: 8.538304261370326 best_b: 25.899509730284347, and the loss is: 3295.8158205255427\n",
      "When time is : 453, get best_k: 8.438304261370327 best_b: 25.99950973028435, and the loss is: 3235.8823948635386\n",
      "When time is : 454, get best_k: 8.338304261370327 best_b: 26.09950973028435, and the loss is: 3176.5173703180085\n",
      "When time is : 455, get best_k: 8.238304261370327 best_b: 26.19950973028435, and the loss is: 3117.7207468889605\n",
      "When time is : 456, get best_k: 8.138304261370328 best_b: 26.299509730284353, and the loss is: 3059.492524576398\n",
      "When time is : 457, get best_k: 8.038304261370328 best_b: 26.399509730284354, and the loss is: 3001.8327033803166\n",
      "When time is : 458, get best_k: 7.9383042613703285 best_b: 26.499509730284355, and the loss is: 2944.74128330072\n",
      "When time is : 459, get best_k: 7.838304261370329 best_b: 26.599509730284357, and the loss is: 2888.2182643376013\n",
      "When time is : 460, get best_k: 7.738304261370329 best_b: 26.69950973028436, and the loss is: 2832.2636464909656\n",
      "When time is : 461, get best_k: 7.63830426137033 best_b: 26.79950973028436, and the loss is: 2776.8774297608134\n",
      "When time is : 462, get best_k: 7.53830426137033 best_b: 26.89950973028436, and the loss is: 2722.0596141471433\n",
      "When time is : 463, get best_k: 7.43830426137033 best_b: 26.999509730284363, and the loss is: 2667.810199649956\n",
      "When time is : 464, get best_k: 7.338304261370331 best_b: 27.099509730284364, and the loss is: 2614.129186269251\n",
      "When time is : 465, get best_k: 7.238304261370331 best_b: 27.199509730284365, and the loss is: 2561.016574005027\n",
      "When time is : 466, get best_k: 7.138304261370331 best_b: 27.299509730284367, and the loss is: 2508.4723628572865\n",
      "When time is : 467, get best_k: 7.038304261370332 best_b: 27.399509730284368, and the loss is: 2456.4965528260263\n",
      "When time is : 468, get best_k: 6.938304261370332 best_b: 27.49950973028437, and the loss is: 2405.0891439112497\n",
      "When time is : 469, get best_k: 6.838304261370332 best_b: 27.59950973028437, and the loss is: 2354.250136112955\n",
      "When time is : 470, get best_k: 6.738304261370333 best_b: 27.699509730284372, and the loss is: 2303.979529431142\n",
      "When time is : 471, get best_k: 6.638304261370333 best_b: 27.799509730284374, and the loss is: 2254.277323865812\n",
      "When time is : 472, get best_k: 6.5383042613703335 best_b: 27.899509730284375, and the loss is: 2205.1435194169662\n",
      "When time is : 473, get best_k: 6.438304261370334 best_b: 27.999509730284377, and the loss is: 2156.5781160845995\n",
      "When time is : 474, get best_k: 6.338304261370334 best_b: 28.099509730284378, and the loss is: 2108.581113868716\n",
      "When time is : 475, get best_k: 6.238304261370335 best_b: 28.19950973028438, and the loss is: 2061.1525127693158\n",
      "When time is : 476, get best_k: 6.138304261370335 best_b: 28.29950973028438, and the loss is: 2014.2923127863955\n",
      "When time is : 477, get best_k: 6.038304261370335 best_b: 28.399509730284382, and the loss is: 1968.00051391996\n",
      "When time is : 478, get best_k: 5.938304261370336 best_b: 28.499509730284384, and the loss is: 1922.2771161700043\n",
      "When time is : 479, get best_k: 5.838304261370336 best_b: 28.599509730284385, and the loss is: 1877.1221195365301\n",
      "When time is : 480, get best_k: 5.738304261370336 best_b: 28.699509730284387, and the loss is: 1832.5355240195422\n",
      "When time is : 481, get best_k: 5.638304261370337 best_b: 28.799509730284388, and the loss is: 1788.517329619033\n",
      "When time is : 482, get best_k: 5.538304261370337 best_b: 28.89950973028439, and the loss is: 1745.0675363350044\n",
      "When time is : 483, get best_k: 5.438304261370337 best_b: 28.99950973028439, and the loss is: 1702.1861441674625\n",
      "When time is : 484, get best_k: 5.338304261370338 best_b: 29.099509730284392, and the loss is: 1659.8731531164021\n",
      "When time is : 485, get best_k: 5.238304261370338 best_b: 29.199509730284394, and the loss is: 1618.1285631818216\n",
      "When time is : 486, get best_k: 5.1383042613703385 best_b: 29.299509730284395, and the loss is: 1576.952374363725\n",
      "When time is : 487, get best_k: 5.038304261370339 best_b: 29.399509730284397, and the loss is: 1536.3445866621084\n",
      "When time is : 488, get best_k: 4.938304261370339 best_b: 29.499509730284398, and the loss is: 1496.3052000769778\n",
      "When time is : 489, get best_k: 4.8383042613703395 best_b: 29.5995097302844, and the loss is: 1456.8342146083273\n",
      "When time is : 490, get best_k: 4.73830426137034 best_b: 29.6995097302844, and the loss is: 1417.931630256158\n",
      "When time is : 491, get best_k: 4.63830426137034 best_b: 29.799509730284402, and the loss is: 1379.5974470204724\n",
      "When time is : 492, get best_k: 4.538304261370341 best_b: 29.899509730284404, and the loss is: 1341.8316649012686\n",
      "When time is : 493, get best_k: 4.438304261370341 best_b: 29.999509730284405, and the loss is: 1304.6342838985468\n",
      "When time is : 494, get best_k: 4.338304261370341 best_b: 30.099509730284407, and the loss is: 1268.0053040123073\n",
      "When time is : 495, get best_k: 4.238304261370342 best_b: 30.199509730284408, and the loss is: 1231.944725242551\n",
      "When time is : 496, get best_k: 4.138304261370342 best_b: 30.29950973028441, and the loss is: 1196.452547589276\n",
      "When time is : 497, get best_k: 4.038304261370342 best_b: 30.39950973028441, and the loss is: 1161.5287710524824\n",
      "When time is : 498, get best_k: 3.9383042613703423 best_b: 30.499509730284412, and the loss is: 1127.1733956321718\n",
      "When time is : 499, get best_k: 3.838304261370342 best_b: 30.599509730284414, and the loss is: 1093.3864213283437\n",
      "When time is : 500, get best_k: 3.738304261370342 best_b: 30.699509730284415, and the loss is: 1060.1678481409958\n",
      "When time is : 501, get best_k: 3.638304261370342 best_b: 30.799509730284417, and the loss is: 1027.5176760701336\n",
      "When time is : 502, get best_k: 3.538304261370342 best_b: 30.899509730284418, and the loss is: 995.4359051157501\n",
      "When time is : 503, get best_k: 3.438304261370342 best_b: 30.99950973028442, and the loss is: 963.9225352778514\n",
      "When time is : 504, get best_k: 3.3383042613703418 best_b: 31.09950973028442, and the loss is: 932.9775665564334\n",
      "When time is : 505, get best_k: 3.2383042613703417 best_b: 31.199509730284422, and the loss is: 902.6009989514982\n",
      "When time is : 506, get best_k: 3.1383042613703416 best_b: 31.299509730284424, and the loss is: 872.792832463045\n",
      "When time is : 507, get best_k: 3.0383042613703415 best_b: 31.399509730284425, and the loss is: 843.5530670910733\n",
      "When time is : 508, get best_k: 2.9383042613703414 best_b: 31.499509730284426, and the loss is: 814.8817028355858\n",
      "When time is : 509, get best_k: 2.8383042613703413 best_b: 31.599509730284428, and the loss is: 786.7787396965791\n",
      "When time is : 510, get best_k: 2.738304261370341 best_b: 31.69950973028443, and the loss is: 759.2441776740543\n",
      "When time is : 511, get best_k: 2.638304261370341 best_b: 31.79950973028443, and the loss is: 732.2780167680125\n",
      "When time is : 512, get best_k: 2.538304261370341 best_b: 31.899509730284432, and the loss is: 705.8802569784525\n",
      "When time is : 513, get best_k: 2.438304261370341 best_b: 31.999509730284434, and the loss is: 680.0508983053744\n",
      "When time is : 514, get best_k: 2.338304261370341 best_b: 32.09950973028443, and the loss is: 654.7899407487796\n",
      "When time is : 515, get best_k: 2.2383042613703408 best_b: 32.19950973028443, and the loss is: 630.0973843086656\n",
      "When time is : 516, get best_k: 2.1383042613703407 best_b: 32.299509730284434, and the loss is: 605.9732289850344\n",
      "When time is : 517, get best_k: 2.0383042613703406 best_b: 32.399509730284436, and the loss is: 582.4174747778867\n",
      "When time is : 518, get best_k: 1.9383042613703405 best_b: 32.49950973028444, and the loss is: 559.4301216872192\n",
      "When time is : 519, get best_k: 1.8383042613703404 best_b: 32.59950973028444, and the loss is: 537.011169713035\n",
      "When time is : 520, get best_k: 1.7383042613703403 best_b: 32.69950973028444, and the loss is: 515.160618855333\n",
      "When time is : 521, get best_k: 1.6383042613703402 best_b: 32.79950973028444, and the loss is: 493.8784691141133\n",
      "When time is : 522, get best_k: 1.5383042613703402 best_b: 32.89950973028444, and the loss is: 473.16472048937527\n",
      "When time is : 523, get best_k: 1.43830426137034 best_b: 32.999509730284444, and the loss is: 453.0193729811198\n",
      "When time is : 524, get best_k: 1.33830426137034 best_b: 33.099509730284446, and the loss is: 433.4424265893469\n",
      "When time is : 525, get best_k: 1.2383042613703399 best_b: 33.19950973028445, and the loss is: 414.43388131405555\n",
      "When time is : 526, get best_k: 1.1383042613703398 best_b: 33.29950973028445, and the loss is: 395.9937371552469\n",
      "When time is : 527, get best_k: 1.0383042613703397 best_b: 33.39950973028445, and the loss is: 378.1219941129196\n",
      "When time is : 528, get best_k: 0.9383042613703397 best_b: 33.49950973028445, and the loss is: 360.8186521870759\n",
      "When time is : 529, get best_k: 0.8383042613703398 best_b: 33.59950973028445, and the loss is: 344.0837113777129\n",
      "When time is : 530, get best_k: 0.7383042613703398 best_b: 33.699509730284454, and the loss is: 327.91717168483336\n",
      "When time is : 531, get best_k: 0.6383042613703398 best_b: 33.799509730284456, and the loss is: 312.31903310843535\n",
      "When time is : 532, get best_k: 0.5383042613703398 best_b: 33.89950973028446, and the loss is: 297.28929564851956\n",
      "When time is : 533, get best_k: 0.43830426137033984 best_b: 33.99950973028446, and the loss is: 282.8279593050865\n",
      "When time is : 534, get best_k: 0.33830426137033986 best_b: 34.09950973028446, and the loss is: 268.93502407813554\n",
      "When time is : 535, get best_k: 0.23830426137033986 best_b: 34.19950973028446, and the loss is: 255.61048996766647\n",
      "When time is : 536, get best_k: 0.13830426137033985 best_b: 34.29950973028446, and the loss is: 242.85435697367961\n",
      "When time is : 537, get best_k: 0.03830426137033985 best_b: 34.399509730284464, and the loss is: 230.66662509617512\n",
      "When time is : 538, get best_k: -0.06169573862966016 best_b: 34.499509730284466, and the loss is: 219.04729433515251\n",
      "When time is : 539, get best_k: -0.16169573862966016 best_b: 34.59950973028447, and the loss is: 207.99636469061286\n",
      "When time is : 540, get best_k: -0.26169573862966017 best_b: 34.69950973028447, and the loss is: 197.5138361625547\n",
      "When time is : 541, get best_k: -0.3616957386296602 best_b: 34.79950973028447, and the loss is: 187.59970875097903\n",
      "When time is : 542, get best_k: -0.4616957386296602 best_b: 34.89950973028447, and the loss is: 178.2539824558851\n",
      "When time is : 543, get best_k: -0.5616957386296602 best_b: 34.99950973028447, and the loss is: 169.4766572772741\n",
      "When time is : 544, get best_k: -0.6616957386296601 best_b: 35.099509730284474, and the loss is: 161.2677332151451\n",
      "When time is : 545, get best_k: -0.7616957386296601 best_b: 35.199509730284475, and the loss is: 153.62721026949814\n",
      "When time is : 546, get best_k: -0.8616957386296601 best_b: 35.29950973028448, and the loss is: 146.5550884403336\n",
      "When time is : 547, get best_k: -0.9616957386296601 best_b: 35.39950973028448, and the loss is: 140.05136772765104\n",
      "When time is : 548, get best_k: -1.0616957386296602 best_b: 35.49950973028448, and the loss is: 134.1160481314509\n",
      "When time is : 549, get best_k: -1.1616957386296602 best_b: 35.59950973028448, and the loss is: 128.74912965173274\n",
      "When time is : 550, get best_k: -1.2616957386296603 best_b: 35.69950973028448, and the loss is: 123.95061228849683\n",
      "When time is : 551, get best_k: -1.3616957386296604 best_b: 35.799509730284484, and the loss is: 119.72049604174347\n",
      "When time is : 552, get best_k: -1.4616957386296605 best_b: 35.899509730284485, and the loss is: 116.05878091147198\n",
      "When time is : 553, get best_k: -1.5616957386296606 best_b: 35.99950973028449, and the loss is: 112.96546689768277\n",
      "When time is : 554, get best_k: -1.6616957386296607 best_b: 36.09950973028449, and the loss is: 110.44055400037577\n",
      "When time is : 555, get best_k: -1.7616957386296608 best_b: 36.19950973028449, and the loss is: 108.48404221955104\n",
      "When time is : 556, get best_k: -1.8616957386296609 best_b: 36.29950973028449, and the loss is: 107.09593155520842\n",
      "When time is : 557, get best_k: -1.961695738629661 best_b: 36.39950973028449, and the loss is: 106.27622200734817\n",
      "When time is : 558, get best_k: -2.061695738629661 best_b: 36.499509730284494, and the loss is: 106.02491357597\n"
     ]
    }
   ],
   "source": [
    "trying_times = 2000\n",
    "\n",
    "min_loss = float('inf')\n",
    "\n",
    "best_k = random.random() * 200 - 100\n",
    "best_b = random.random() * 200 - 100\n",
    "\n",
    "direction = [\n",
    "    (+1, -1),  # first element: k's change direction, second element: b's change direction\n",
    "    (+1, +1), \n",
    "    (-1, -1), \n",
    "    (-1, +1),\n",
    "]\n",
    "\n",
    "next_direction = random.choice(direction)\n",
    "\n",
    "scalar = 0.1\n",
    "\n",
    "for i in range(trying_times):\n",
    "    \n",
    "    k_direction, b_direction = next_direction\n",
    "    \n",
    "    current_k, current_b = best_k + k_direction * scalar, best_b + b_direction * scalar\n",
    "    \n",
    "    price_by_k_and_b = [price(r, current_k, current_b) for r in X_rm]\n",
    "\n",
    "    current_loss = loss(y, price_by_k_and_b)\n",
    "    \n",
    "    if current_loss < min_loss: # performance became better\n",
    "        min_loss = current_loss\n",
    "        best_k, best_b = current_k, current_b\n",
    "        \n",
    "        next_direction = next_direction\n",
    "        print('When time is : {}, get best_k: {} best_b: {}, and the loss is: {}'.format(i, best_k, best_b, min_loss))\n",
    "    else:\n",
    "        next_direction = random.choice(direction)"
   ]
  },
  {
   "cell_type": "markdown",
   "metadata": {},
   "source": [
    "如果我们想得到更快的更新，在更短的时间内获得更好的结果，我们需要一件事情：\n",
    "\n",
    "#### 找对改变的方向\n",
    "\n",
    "#### 如何找对改变的方向呢？ \n",
    "\n",
    "#### 2nd-method: 监督让他变化--> 监督学习"
   ]
  },
  {
   "cell_type": "markdown",
   "metadata": {},
   "source": [
    "## 导数"
   ]
  },
  {
   "cell_type": "code",
   "execution_count": null,
   "metadata": {
    "collapsed": true
   },
   "outputs": [],
   "source": []
  },
  {
   "cell_type": "code",
   "execution_count": 357,
   "metadata": {
    "collapsed": false
   },
   "outputs": [
    {
     "data": {
      "text/plain": [
       "2.0"
      ]
     },
     "execution_count": 357,
     "metadata": {},
     "output_type": "execute_result"
    }
   ],
   "source": [
    "loss([1, 1, 1], [2, 2, 3])"
   ]
  },
  {
   "cell_type": "code",
   "execution_count": 358,
   "metadata": {
    "collapsed": false
   },
   "outputs": [
    {
     "data": {
      "text/plain": [
       "0.0"
      ]
     },
     "execution_count": 358,
     "metadata": {},
     "output_type": "execute_result"
    }
   ],
   "source": [
    "loss([1, 1, 1], [1, 1, 1])"
   ]
  },
  {
   "cell_type": "code",
   "execution_count": 289,
   "metadata": {
    "collapsed": false
   },
   "outputs": [
    {
     "data": {
      "text/plain": [
       "array(['CRIM', 'ZN', 'INDUS', 'CHAS', 'NOX', 'RM', 'AGE', 'DIS', 'RAD',\n",
       "       'TAX', 'PTRATIO', 'B', 'LSTAT'], dtype='<U7')"
      ]
     },
     "execution_count": 289,
     "metadata": {},
     "output_type": "execute_result"
    }
   ],
   "source": [
    "data['feature_names']"
   ]
  },
  {
   "cell_type": "code",
   "execution_count": 284,
   "metadata": {
    "collapsed": false
   },
   "outputs": [
    {
     "data": {
      "text/plain": [
       "\".. _boston_dataset:\\n\\nBoston house prices dataset\\n---------------------------\\n\\n**Data Set Characteristics:**  \\n\\n    :Number of Instances: 506 \\n\\n    :Number of Attributes: 13 numeric/categorical predictive. Median Value (attribute 14) is usually the target.\\n\\n    :Attribute Information (in order):\\n        - CRIM     per capita crime rate by town\\n        - ZN       proportion of residential land zoned for lots over 25,000 sq.ft.\\n        - INDUS    proportion of non-retail business acres per town\\n        - CHAS     Charles River dummy variable (= 1 if tract bounds river; 0 otherwise)\\n        - NOX      nitric oxides concentration (parts per 10 million)\\n        - RM       average number of rooms per dwelling\\n        - AGE      proportion of owner-occupied units built prior to 1940\\n        - DIS      weighted distances to five Boston employment centres\\n        - RAD      index of accessibility to radial highways\\n        - TAX      full-value property-tax rate per $10,000\\n        - PTRATIO  pupil-teacher ratio by town\\n        - B        1000(Bk - 0.63)^2 where Bk is the proportion of blacks by town\\n        - LSTAT    % lower status of the population\\n        - MEDV     Median value of owner-occupied homes in $1000's\\n\\n    :Missing Attribute Values: None\\n\\n    :Creator: Harrison, D. and Rubinfeld, D.L.\\n\\nThis is a copy of UCI ML housing dataset.\\nhttps://archive.ics.uci.edu/ml/machine-learning-databases/housing/\\n\\n\\nThis dataset was taken from the StatLib library which is maintained at Carnegie Mellon University.\\n\\nThe Boston house-price data of Harrison, D. and Rubinfeld, D.L. 'Hedonic\\nprices and the demand for clean air', J. Environ. Economics & Management,\\nvol.5, 81-102, 1978.   Used in Belsley, Kuh & Welsch, 'Regression diagnostics\\n...', Wiley, 1980.   N.B. Various transformations are used in the table on\\npages 244-261 of the latter.\\n\\nThe Boston house-price data has been used in many machine learning papers that address regression\\nproblems.   \\n     \\n.. topic:: References\\n\\n   - Belsley, Kuh & Welsch, 'Regression diagnostics: Identifying Influential Data and Sources of Collinearity', Wiley, 1980. 244-261.\\n   - Quinlan,R. (1993). Combining Instance-Based and Model-Based Learning. In Proceedings on the Tenth International Conference of Machine Learning, 236-243, University of Massachusetts, Amherst. Morgan Kaufmann.\\n\""
      ]
     },
     "execution_count": 284,
     "metadata": {},
     "output_type": "execute_result"
    }
   ],
   "source": [
    "data['DESCR']"
   ]
  }
 ],
 "metadata": {
  "anaconda-cloud": {},
  "kernelspec": {
   "display_name": "Python [default]",
   "language": "python",
   "name": "python3"
  },
  "language_info": {
   "codemirror_mode": {
    "name": "ipython",
    "version": 3
   },
   "file_extension": ".py",
   "mimetype": "text/x-python",
   "name": "python",
   "nbconvert_exporter": "python",
   "pygments_lexer": "ipython3",
   "version": "3.5.2"
  }
 },
 "nbformat": 4,
 "nbformat_minor": 2
}
