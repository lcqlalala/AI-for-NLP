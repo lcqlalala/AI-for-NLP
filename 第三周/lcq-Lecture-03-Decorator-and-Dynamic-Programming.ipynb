{
 "cells": [
  {
   "cell_type": "code",
   "execution_count": 1,
   "metadata": {
    "collapsed": true
   },
   "outputs": [],
   "source": [
    "original_price = [1, 5, 8, 9, 10, 17, 17, 20, 24, 30, 35]"
   ]
  },
  {
   "cell_type": "code",
   "execution_count": 2,
   "metadata": {
    "collapsed": true
   },
   "outputs": [],
   "source": [
    "from collections import defaultdict"
   ]
  },
  {
   "cell_type": "code",
   "execution_count": 3,
   "metadata": {
    "collapsed": true
   },
   "outputs": [],
   "source": [
    "price = defaultdict(int)"
   ]
  },
  {
   "cell_type": "code",
   "execution_count": 6,
   "metadata": {
    "collapsed": true
   },
   "outputs": [],
   "source": [
    "for i,p in enumerate(original_price):\n",
    "    price[i+1] = p"
   ]
  },
  {
   "cell_type": "code",
   "execution_count": 7,
   "metadata": {
    "collapsed": false
   },
   "outputs": [
    {
     "data": {
      "text/plain": [
       "35"
      ]
     },
     "execution_count": 7,
     "metadata": {},
     "output_type": "execute_result"
    }
   ],
   "source": [
    "price[11]"
   ]
  },
  {
   "cell_type": "code",
   "execution_count": 8,
   "metadata": {
    "collapsed": true
   },
   "outputs": [],
   "source": [
    "def example(f,arg):\n",
    "    return f(arg)"
   ]
  },
  {
   "cell_type": "code",
   "execution_count": 9,
   "metadata": {
    "collapsed": true
   },
   "outputs": [],
   "source": [
    "def add_ten(num):\n",
    "    return num + 10"
   ]
  },
  {
   "cell_type": "code",
   "execution_count": 10,
   "metadata": {
    "collapsed": true
   },
   "outputs": [],
   "source": [
    "def mul_ten(num):\n",
    "    return num * 10 "
   ]
  },
  {
   "cell_type": "code",
   "execution_count": 11,
   "metadata": {
    "collapsed": true
   },
   "outputs": [],
   "source": [
    "oprations = [add_ten,mul_ten]"
   ]
  },
  {
   "cell_type": "code",
   "execution_count": 13,
   "metadata": {
    "collapsed": false
   },
   "outputs": [
    {
     "name": "stdout",
     "output_type": "stream",
     "text": [
      "20\n",
      "100\n"
     ]
    }
   ],
   "source": [
    "for f in oprations:\n",
    "    print(example(f,10))"
   ]
  },
  {
   "cell_type": "code",
   "execution_count": 28,
   "metadata": {
    "collapsed": true
   },
   "outputs": [],
   "source": [
    "called_time = defaultdict(int)\n",
    "\n",
    "def get_call_times(f):\n",
    "    result = f()\n",
    "    print('function: {} called once! '.format(f.__name__))\n",
    "    called_time[f.__name__] += 1\n",
    "    \n",
    "#     return result"
   ]
  },
  {
   "cell_type": "code",
   "execution_count": 52,
   "metadata": {
    "collapsed": true
   },
   "outputs": [],
   "source": [
    "def some_funcion_1(): print('I am function 1')"
   ]
  },
  {
   "cell_type": "code",
   "execution_count": 61,
   "metadata": {
    "collapsed": false
   },
   "outputs": [
    {
     "name": "stdout",
     "output_type": "stream",
     "text": [
      "I am function 1\n",
      "function: some_funcion_1 called once! \n"
     ]
    }
   ],
   "source": [
    "get_call_times(some_funcion_1)"
   ]
  },
  {
   "cell_type": "code",
   "execution_count": 62,
   "metadata": {
    "collapsed": false
   },
   "outputs": [
    {
     "data": {
      "text/plain": [
       "defaultdict(int, {'some_funcion_1': 12})"
      ]
     },
     "execution_count": 62,
     "metadata": {},
     "output_type": "execute_result"
    }
   ],
   "source": [
    "called_time"
   ]
  },
  {
   "cell_type": "code",
   "execution_count": 70,
   "metadata": {
    "collapsed": true
   },
   "outputs": [],
   "source": [
    "def r(n):\n",
    "    return max([price[n]] + [r(i) + r(n-i) for i in range(1,n//2+1)])"
   ]
  },
  {
   "cell_type": "code",
   "execution_count": 71,
   "metadata": {
    "collapsed": false
   },
   "outputs": [
    {
     "data": {
      "text/plain": [
       "10"
      ]
     },
     "execution_count": 71,
     "metadata": {},
     "output_type": "execute_result"
    }
   ],
   "source": [
    "r(4)"
   ]
  },
  {
   "cell_type": "code",
   "execution_count": 139,
   "metadata": {
    "collapsed": true
   },
   "outputs": [],
   "source": [
    "from functools import wraps"
   ]
  },
  {
   "cell_type": "code",
   "execution_count": 140,
   "metadata": {
    "collapsed": false
   },
   "outputs": [],
   "source": [
    "call_time_with_arg = defaultdict(int)"
   ]
  },
  {
   "cell_type": "code",
   "execution_count": 141,
   "metadata": {
    "collapsed": false
   },
   "outputs": [],
   "source": [
    "def get_call_time(f):\n",
    "    \"\"\"@param f is a function\"\"\"\n",
    "    @wraps(f)\n",
    "    def wrap(n):\n",
    "        \"\"\"Haha I am warp\"\"\"\n",
    "        print('I can count')\n",
    "        result = f(n)\n",
    "        call_time_with_arg[f.__name__] += 1\n",
    "        return result\n",
    "    return wrap"
   ]
  },
  {
   "cell_type": "code",
   "execution_count": 142,
   "metadata": {
    "collapsed": true
   },
   "outputs": [],
   "source": [
    "def add_ten(n): return n + 10"
   ]
  },
  {
   "cell_type": "code",
   "execution_count": 143,
   "metadata": {
    "collapsed": false
   },
   "outputs": [
    {
     "data": {
      "text/plain": [
       "<function __main__.add_ten>"
      ]
     },
     "execution_count": 143,
     "metadata": {},
     "output_type": "execute_result"
    }
   ],
   "source": [
    "get_call_time(add_ten)"
   ]
  },
  {
   "cell_type": "code",
   "execution_count": 144,
   "metadata": {
    "collapsed": false
   },
   "outputs": [],
   "source": [
    "@get_call_time\n",
    "def add_twenty(n): \n",
    "    return n + 20"
   ]
  },
  {
   "cell_type": "code",
   "execution_count": 145,
   "metadata": {
    "collapsed": false
   },
   "outputs": [
    {
     "name": "stdout",
     "output_type": "stream",
     "text": [
      "I can count\n",
      "I can count\n"
     ]
    },
    {
     "data": {
      "text/plain": [
       "40"
      ]
     },
     "execution_count": 145,
     "metadata": {},
     "output_type": "execute_result"
    }
   ],
   "source": [
    "add_twenty = get_call_time(add_twenty)\n",
    "add_twenty(20)"
   ]
  },
  {
   "cell_type": "code",
   "execution_count": 149,
   "metadata": {
    "collapsed": false
   },
   "outputs": [
    {
     "ename": "NameError",
     "evalue": "name 'call_time_with_arg' is not defined",
     "output_type": "error",
     "traceback": [
      "\u001b[0;31m---------------------------------------------------------------------------\u001b[0m",
      "\u001b[0;31mNameError\u001b[0m                                 Traceback (most recent call last)",
      "\u001b[0;32m<ipython-input-149-bc8d3ef85086>\u001b[0m in \u001b[0;36m<module>\u001b[0;34m()\u001b[0m\n\u001b[0;32m----> 1\u001b[0;31m \u001b[0mcall_time_with_arg\u001b[0m\u001b[1;33m\u001b[0m\u001b[0m\n\u001b[0m",
      "\u001b[0;31mNameError\u001b[0m: name 'call_time_with_arg' is not defined"
     ]
    }
   ],
   "source": [
    "call_time_with_arg"
   ]
  },
  {
   "cell_type": "code",
   "execution_count": 150,
   "metadata": {
    "collapsed": false
   },
   "outputs": [],
   "source": [
    "call_time_with_arg = defaultdict(int)"
   ]
  },
  {
   "cell_type": "code",
   "execution_count": 151,
   "metadata": {
    "collapsed": true
   },
   "outputs": [],
   "source": [
    "def r(n):\n",
    "    fname = r.__name__\n",
    "    call_time_with_arg[(fname,n)] += 1\n",
    "    return max([price[n]] + [r(i) + r(n-i) for i in range(1,n//2+1)])"
   ]
  },
  {
   "cell_type": "code",
   "execution_count": 152,
   "metadata": {
    "collapsed": false
   },
   "outputs": [
    {
     "data": {
      "text/plain": [
       "53"
      ]
     },
     "execution_count": 152,
     "metadata": {},
     "output_type": "execute_result"
    }
   ],
   "source": [
    "r(18)"
   ]
  },
  {
   "cell_type": "code",
   "execution_count": 154,
   "metadata": {
    "collapsed": false
   },
   "outputs": [
    {
     "data": {
      "text/plain": [
       "defaultdict(int,\n",
       "            {('r', 1): 129670,\n",
       "             ('r', 2): 46234,\n",
       "             ('r', 3): 19657,\n",
       "             ('r', 4): 9032,\n",
       "             ('r', 5): 4321,\n",
       "             ('r', 6): 2112,\n",
       "             ('r', 7): 1044,\n",
       "             ('r', 8): 519,\n",
       "             ('r', 9): 259,\n",
       "             ('r', 10): 129,\n",
       "             ('r', 11): 65,\n",
       "             ('r', 12): 32,\n",
       "             ('r', 13): 16,\n",
       "             ('r', 14): 8,\n",
       "             ('r', 15): 4,\n",
       "             ('r', 16): 2,\n",
       "             ('r', 17): 1,\n",
       "             ('r', 18): 1})"
      ]
     },
     "execution_count": 154,
     "metadata": {},
     "output_type": "execute_result"
    }
   ],
   "source": [
    "call_time_with_arg"
   ]
  },
  {
   "cell_type": "code",
   "execution_count": 155,
   "metadata": {
    "collapsed": false
   },
   "outputs": [],
   "source": [
    "from collections import Counter"
   ]
  },
  {
   "cell_type": "code",
   "execution_count": 156,
   "metadata": {
    "collapsed": false
   },
   "outputs": [
    {
     "data": {
      "text/plain": [
       "[(('r', 1), 129670),\n",
       " (('r', 2), 46234),\n",
       " (('r', 3), 19657),\n",
       " (('r', 4), 9032),\n",
       " (('r', 5), 4321),\n",
       " (('r', 6), 2112),\n",
       " (('r', 7), 1044),\n",
       " (('r', 8), 519),\n",
       " (('r', 9), 259),\n",
       " (('r', 10), 129),\n",
       " (('r', 11), 65),\n",
       " (('r', 12), 32),\n",
       " (('r', 13), 16),\n",
       " (('r', 14), 8),\n",
       " (('r', 15), 4),\n",
       " (('r', 16), 2),\n",
       " (('r', 18), 1),\n",
       " (('r', 17), 1)]"
      ]
     },
     "execution_count": 156,
     "metadata": {},
     "output_type": "execute_result"
    }
   ],
   "source": [
    "Counter(call_time_with_arg).most_common()"
   ]
  },
  {
   "cell_type": "code",
   "execution_count": 157,
   "metadata": {
    "collapsed": true
   },
   "outputs": [],
   "source": [
    "del call_time_with_arg"
   ]
  },
  {
   "cell_type": "code",
   "execution_count": 176,
   "metadata": {
    "collapsed": true
   },
   "outputs": [],
   "source": [
    "call_time_with_arg = defaultdict(int)"
   ]
  },
  {
   "cell_type": "code",
   "execution_count": 177,
   "metadata": {
    "collapsed": true
   },
   "outputs": [],
   "source": [
    "def get_call_time(f):\n",
    "    \"\"\"@param f is a function\"\"\"\n",
    "    def wrap(n):\n",
    "        result = f(n)\n",
    "        call_time_with_arg[(f.__name__,n)] += 1\n",
    "        return result\n",
    "    return wrap"
   ]
  },
  {
   "cell_type": "code",
   "execution_count": 178,
   "metadata": {
    "collapsed": true
   },
   "outputs": [],
   "source": [
    "def add_ten(n): return n + 10"
   ]
  },
  {
   "cell_type": "code",
   "execution_count": 179,
   "metadata": {
    "collapsed": true
   },
   "outputs": [],
   "source": [
    "add_ten_ = get_call_time(add_ten)"
   ]
  },
  {
   "cell_type": "code",
   "execution_count": 182,
   "metadata": {
    "collapsed": false
   },
   "outputs": [
    {
     "data": {
      "text/plain": [
       "20"
      ]
     },
     "execution_count": 182,
     "metadata": {},
     "output_type": "execute_result"
    }
   ],
   "source": [
    "add_ten_(10)"
   ]
  },
  {
   "cell_type": "code",
   "execution_count": 183,
   "metadata": {
    "collapsed": false
   },
   "outputs": [
    {
     "data": {
      "text/plain": [
       "defaultdict(int, {('add_ten', 9): 1, ('add_ten', 10): 1})"
      ]
     },
     "execution_count": 183,
     "metadata": {},
     "output_type": "execute_result"
    }
   ],
   "source": [
    "call_time_with_arg"
   ]
  },
  {
   "cell_type": "code",
   "execution_count": 184,
   "metadata": {
    "collapsed": true
   },
   "outputs": [],
   "source": [
    "add_ten = get_call_time(add_ten)"
   ]
  },
  {
   "cell_type": "code",
   "execution_count": 185,
   "metadata": {
    "collapsed": false
   },
   "outputs": [
    {
     "data": {
      "text/plain": [
       "28"
      ]
     },
     "execution_count": 185,
     "metadata": {},
     "output_type": "execute_result"
    }
   ],
   "source": [
    "add_ten(18)"
   ]
  },
  {
   "cell_type": "code",
   "execution_count": 186,
   "metadata": {
    "collapsed": false
   },
   "outputs": [
    {
     "data": {
      "text/plain": [
       "defaultdict(int, {('add_ten', 9): 1, ('add_ten', 10): 1, ('add_ten', 18): 1})"
      ]
     },
     "execution_count": 186,
     "metadata": {},
     "output_type": "execute_result"
    }
   ],
   "source": [
    "call_time_with_arg"
   ]
  },
  {
   "cell_type": "code",
   "execution_count": 187,
   "metadata": {
    "collapsed": true
   },
   "outputs": [],
   "source": [
    "# 装饰器的用法\n",
    "# def add_ten(n): return n + 10\n",
    "# add_ten = get_call_time(add_ten) 可以简写成\n",
    "@get_call_time\n",
    "def add_ten(n): return n + 10"
   ]
  },
  {
   "cell_type": "code",
   "execution_count": 188,
   "metadata": {
    "collapsed": false
   },
   "outputs": [
    {
     "data": {
      "text/plain": [
       "30"
      ]
     },
     "execution_count": 188,
     "metadata": {},
     "output_type": "execute_result"
    }
   ],
   "source": [
    "add_ten(20)"
   ]
  },
  {
   "cell_type": "code",
   "execution_count": 189,
   "metadata": {
    "collapsed": false
   },
   "outputs": [
    {
     "data": {
      "text/plain": [
       "defaultdict(int,\n",
       "            {('add_ten', 9): 1,\n",
       "             ('add_ten', 10): 1,\n",
       "             ('add_ten', 18): 1,\n",
       "             ('add_ten', 20): 1})"
      ]
     },
     "execution_count": 189,
     "metadata": {},
     "output_type": "execute_result"
    }
   ],
   "source": [
    "call_time_with_arg"
   ]
  },
  {
   "cell_type": "code",
   "execution_count": 205,
   "metadata": {
    "collapsed": true
   },
   "outputs": [],
   "source": [
    "def get_call_time(f):\n",
    "    \"\"\"@param f is a function\"\"\"\n",
    "    def wrap(n):\n",
    "        '''\n",
    "        hahah\n",
    "        '''\n",
    "        result = f(n)\n",
    "        call_time_with_arg[(f.__name__,n)] += 1\n",
    "        return result\n",
    "    return wrap"
   ]
  },
  {
   "cell_type": "code",
   "execution_count": 206,
   "metadata": {
    "collapsed": true
   },
   "outputs": [],
   "source": [
    "# def r(n):\n",
    "#     fname = r.__name__\n",
    "#     call_time_with_arg[(fname,n)] += 1\n",
    "#     return max([price[n]] + [r(i) + r(n-i) for i in range(1,n//2+1)])\n",
    "\n",
    "# r(18)\n",
    "\n",
    "# call_time_with_arg\n",
    "# 可以改为\n",
    "@get_call_time\n",
    "def r(n):\n",
    "    '''\n",
    "    Args: n is the iron length\n",
    "    Return: the max revenue\n",
    "    '''\n",
    "    return max([price[n]] + [r(i) + r(n-i) for i in range(1,n//2+1)])"
   ]
  },
  {
   "cell_type": "code",
   "execution_count": 207,
   "metadata": {
    "collapsed": false
   },
   "outputs": [
    {
     "data": {
      "text/plain": [
       "35"
      ]
     },
     "execution_count": 207,
     "metadata": {},
     "output_type": "execute_result"
    }
   ],
   "source": [
    "r(11)"
   ]
  },
  {
   "cell_type": "code",
   "execution_count": 209,
   "metadata": {
    "collapsed": false
   },
   "outputs": [
    {
     "name": "stdout",
     "output_type": "stream",
     "text": [
      "Help on function wrap in module __main__:\n",
      "\n",
      "wrap(n)\n",
      "    hahah\n",
      "\n"
     ]
    }
   ],
   "source": [
    "help(r)"
   ]
  },
  {
   "cell_type": "markdown",
   "metadata": {},
   "source": [
    "使用装饰器后，即加上@get_call_time，help(r)不返回r函数的信息，解决？"
   ]
  },
  {
   "cell_type": "code",
   "execution_count": 210,
   "metadata": {
    "collapsed": true
   },
   "outputs": [],
   "source": [
    "def get_call_time(f):\n",
    "    \"\"\"@param f is a function\"\"\"\n",
    "    @wraps(f)\n",
    "    def wrap(n):\n",
    "        '''\n",
    "        hahah\n",
    "        '''\n",
    "        result = f(n)\n",
    "        call_time_with_arg[(f.__name__,n)] += 1\n",
    "        return result\n",
    "    return wrap\n",
    "\n",
    "@get_call_time\n",
    "def r(n):\n",
    "    '''\n",
    "    Args: n is the iron length\n",
    "    Return: the max revenue\n",
    "    '''\n",
    "    return max([price[n]] + [r(i) + r(n-i) for i in range(1,n//2+1)])"
   ]
  },
  {
   "cell_type": "code",
   "execution_count": 211,
   "metadata": {
    "collapsed": false
   },
   "outputs": [
    {
     "data": {
      "text/plain": [
       "53"
      ]
     },
     "execution_count": 211,
     "metadata": {},
     "output_type": "execute_result"
    }
   ],
   "source": [
    "r(18)"
   ]
  },
  {
   "cell_type": "code",
   "execution_count": 212,
   "metadata": {
    "collapsed": false
   },
   "outputs": [
    {
     "name": "stdout",
     "output_type": "stream",
     "text": [
      "Help on function r in module __main__:\n",
      "\n",
      "r(n)\n",
      "    Args: n is the iron length\n",
      "    Return: the max revenue\n",
      "\n"
     ]
    }
   ],
   "source": [
    "help(r)"
   ]
  },
  {
   "cell_type": "markdown",
   "metadata": {},
   "source": [
    "(('r', 1), 129670)会调用这么多次，可以将其记录下来"
   ]
  },
  {
   "cell_type": "code",
   "execution_count": 241,
   "metadata": {
    "collapsed": false
   },
   "outputs": [],
   "source": [
    "del call_time_with_arg\n",
    "call_time_with_arg = defaultdict(int)"
   ]
  },
  {
   "cell_type": "code",
   "execution_count": 242,
   "metadata": {
    "collapsed": true
   },
   "outputs": [],
   "source": [
    "def get_call_time(f):\n",
    "    \"\"\"@param f is a function\"\"\"\n",
    "    @wraps(f)\n",
    "    def wrap(n):\n",
    "        '''\n",
    "        hahah\n",
    "        '''\n",
    "        result = f(n)\n",
    "        call_time_with_arg[(f.__name__,n)] += 1\n",
    "        return result\n",
    "    return wrap"
   ]
  },
  {
   "cell_type": "code",
   "execution_count": 243,
   "metadata": {
    "collapsed": true
   },
   "outputs": [],
   "source": [
    "cache = {}\n",
    "\n",
    "def memo(f):\n",
    "    @wraps(f)\n",
    "    def _wrap(arg):\n",
    "        result = None\n",
    "        if arg in cache:\n",
    "            return cache[arg]\n",
    "        else:\n",
    "            result = f(arg)\n",
    "            cache[arg] = result\n",
    "        return result\n",
    "    return _wrap"
   ]
  },
  {
   "cell_type": "code",
   "execution_count": 244,
   "metadata": {
    "collapsed": true
   },
   "outputs": [],
   "source": [
    "@memo\n",
    "@get_call_time       #这两个顺序不同，调用的次数不同\n",
    "def r(n):\n",
    "    '''\n",
    "    Args: n is the iron length\n",
    "    Return: the max revenue\n",
    "    '''\n",
    "    return max([price[n]] + [r(i) + r(n-i) for i in range(1,n//2+1)])"
   ]
  },
  {
   "cell_type": "code",
   "execution_count": 245,
   "metadata": {
    "collapsed": false
   },
   "outputs": [
    {
     "data": {
      "text/plain": [
       "87"
      ]
     },
     "execution_count": 245,
     "metadata": {},
     "output_type": "execute_result"
    }
   ],
   "source": [
    "r(28)"
   ]
  },
  {
   "cell_type": "code",
   "execution_count": 246,
   "metadata": {
    "collapsed": false
   },
   "outputs": [
    {
     "data": {
      "text/plain": [
       "defaultdict(int,\n",
       "            {('r', 1): 1,\n",
       "             ('r', 2): 1,\n",
       "             ('r', 3): 1,\n",
       "             ('r', 4): 1,\n",
       "             ('r', 5): 1,\n",
       "             ('r', 6): 1,\n",
       "             ('r', 7): 1,\n",
       "             ('r', 8): 1,\n",
       "             ('r', 9): 1,\n",
       "             ('r', 10): 1,\n",
       "             ('r', 11): 1,\n",
       "             ('r', 12): 1,\n",
       "             ('r', 13): 1,\n",
       "             ('r', 14): 1,\n",
       "             ('r', 15): 1,\n",
       "             ('r', 16): 1,\n",
       "             ('r', 17): 1,\n",
       "             ('r', 18): 1,\n",
       "             ('r', 19): 1,\n",
       "             ('r', 20): 1,\n",
       "             ('r', 21): 1,\n",
       "             ('r', 22): 1,\n",
       "             ('r', 23): 1,\n",
       "             ('r', 24): 1,\n",
       "             ('r', 25): 1,\n",
       "             ('r', 26): 1,\n",
       "             ('r', 27): 1,\n",
       "             ('r', 28): 1})"
      ]
     },
     "execution_count": 246,
     "metadata": {},
     "output_type": "execute_result"
    }
   ],
   "source": [
    "call_time_with_arg"
   ]
  },
  {
   "cell_type": "markdown",
   "metadata": {},
   "source": [
    "怎么显示切割长度"
   ]
  },
  {
   "cell_type": "code",
   "execution_count": 3,
   "metadata": {
    "collapsed": false
   },
   "outputs": [],
   "source": [
    "from collections import defaultdict\n",
    "# del call_time_with_arg\n",
    "call_time_with_arg = defaultdict(int)"
   ]
  },
  {
   "cell_type": "code",
   "execution_count": 5,
   "metadata": {
    "collapsed": false
   },
   "outputs": [],
   "source": [
    "from functools import wraps\n",
    "def get_call_time(f):\n",
    "    \"\"\"@param f is a function\"\"\"\n",
    "    @wraps(f)\n",
    "    def wrap(n):\n",
    "        '''\n",
    "        hahah\n",
    "        '''\n",
    "        result = f(n)\n",
    "        call_time_with_arg[(f.__name__,n)] += 1\n",
    "        return result\n",
    "    return wrap\n",
    "\n",
    "@get_call_time\n",
    "def r(n):\n",
    "    '''\n",
    "    Args: n is the iron length\n",
    "    Return: the max revenue\n",
    "    '''\n",
    "    return max([price[n]] + [r(i) + r(n-i) for i in range(1,n//2+1)])"
   ]
  },
  {
   "cell_type": "code",
   "execution_count": 6,
   "metadata": {
    "collapsed": true
   },
   "outputs": [],
   "source": [
    "cache = {}\n",
    "\n",
    "def memo(f):\n",
    "    @wraps(f)\n",
    "    def _wrap(arg):\n",
    "        result = None\n",
    "        if arg in cache:\n",
    "            return cache[arg]\n",
    "        else:\n",
    "            result = f(arg)\n",
    "            cache[arg] = result\n",
    "        return result\n",
    "    return _wrap"
   ]
  },
  {
   "cell_type": "code",
   "execution_count": 9,
   "metadata": {
    "collapsed": true
   },
   "outputs": [],
   "source": [
    "original_price = [1, 5, 8, 9, 10, 17, 17, 20, 24, 30, 35]\n",
    "price = defaultdict(int)\n",
    "for i,p in enumerate(original_price):\n",
    "    price[i+1] = p"
   ]
  },
  {
   "cell_type": "code",
   "execution_count": 10,
   "metadata": {
    "collapsed": false
   },
   "outputs": [],
   "source": [
    "solution = {}\n",
    "@memo\n",
    "@get_call_time       #这两个顺序不同，调用的次数不同\n",
    "def r(n):\n",
    "    '''\n",
    "    Args: n is the iron length\n",
    "    Return: the max revenue\n",
    "    '''\n",
    "    max_price, max_split = max([(price[n],0)] + [(r(i) + r(n-i),i) for i in range(1,n//2+1)],key=lambda x:x[0])\n",
    "        \n",
    "    solution[n] = (n-max_split,max_split)\n",
    "    \n",
    "    return max_price"
   ]
  },
  {
   "cell_type": "code",
   "execution_count": 11,
   "metadata": {
    "collapsed": false
   },
   "outputs": [
    {
     "data": {
      "text/plain": [
       "635"
      ]
     },
     "execution_count": 11,
     "metadata": {},
     "output_type": "execute_result"
    }
   ],
   "source": [
    "r(200)"
   ]
  },
  {
   "cell_type": "code",
   "execution_count": 12,
   "metadata": {
    "collapsed": false
   },
   "outputs": [
    {
     "data": {
      "text/plain": [
       "{1: (1, 0),\n",
       " 2: (2, 0),\n",
       " 3: (3, 0),\n",
       " 4: (2, 2),\n",
       " 5: (3, 2),\n",
       " 6: (6, 0),\n",
       " 7: (6, 1),\n",
       " 8: (6, 2),\n",
       " 9: (6, 3),\n",
       " 10: (10, 0),\n",
       " 11: (11, 0),\n",
       " 12: (11, 1),\n",
       " 13: (11, 2),\n",
       " 14: (11, 3),\n",
       " 15: (13, 2),\n",
       " 16: (14, 2),\n",
       " 17: (11, 6),\n",
       " 18: (17, 1),\n",
       " 19: (17, 2),\n",
       " 20: (17, 3),\n",
       " 21: (11, 10),\n",
       " 22: (11, 11),\n",
       " 23: (22, 1),\n",
       " 24: (22, 2),\n",
       " 25: (22, 3),\n",
       " 26: (24, 2),\n",
       " 27: (25, 2),\n",
       " 28: (22, 6),\n",
       " 29: (28, 1),\n",
       " 30: (28, 2),\n",
       " 31: (28, 3),\n",
       " 32: (22, 10),\n",
       " 33: (22, 11),\n",
       " 34: (33, 1),\n",
       " 35: (33, 2),\n",
       " 36: (33, 3),\n",
       " 37: (35, 2),\n",
       " 38: (36, 2),\n",
       " 39: (33, 6),\n",
       " 40: (39, 1),\n",
       " 41: (39, 2),\n",
       " 42: (39, 3),\n",
       " 43: (33, 10),\n",
       " 44: (33, 11),\n",
       " 45: (44, 1),\n",
       " 46: (44, 2),\n",
       " 47: (44, 3),\n",
       " 48: (46, 2),\n",
       " 49: (47, 2),\n",
       " 50: (44, 6),\n",
       " 51: (50, 1),\n",
       " 52: (50, 2),\n",
       " 53: (50, 3),\n",
       " 54: (44, 10),\n",
       " 55: (44, 11),\n",
       " 56: (55, 1),\n",
       " 57: (55, 2),\n",
       " 58: (55, 3),\n",
       " 59: (57, 2),\n",
       " 60: (58, 2),\n",
       " 61: (55, 6),\n",
       " 62: (61, 1),\n",
       " 63: (61, 2),\n",
       " 64: (61, 3),\n",
       " 65: (55, 10),\n",
       " 66: (55, 11),\n",
       " 67: (66, 1),\n",
       " 68: (66, 2),\n",
       " 69: (66, 3),\n",
       " 70: (68, 2),\n",
       " 71: (69, 2),\n",
       " 72: (66, 6),\n",
       " 73: (72, 1),\n",
       " 74: (72, 2),\n",
       " 75: (72, 3),\n",
       " 76: (66, 10),\n",
       " 77: (66, 11),\n",
       " 78: (77, 1),\n",
       " 79: (77, 2),\n",
       " 80: (77, 3),\n",
       " 81: (79, 2),\n",
       " 82: (80, 2),\n",
       " 83: (77, 6),\n",
       " 84: (83, 1),\n",
       " 85: (83, 2),\n",
       " 86: (83, 3),\n",
       " 87: (77, 10),\n",
       " 88: (77, 11),\n",
       " 89: (88, 1),\n",
       " 90: (88, 2),\n",
       " 91: (88, 3),\n",
       " 92: (90, 2),\n",
       " 93: (91, 2),\n",
       " 94: (88, 6),\n",
       " 95: (94, 1),\n",
       " 96: (94, 2),\n",
       " 97: (94, 3),\n",
       " 98: (88, 10),\n",
       " 99: (88, 11),\n",
       " 100: (99, 1),\n",
       " 101: (99, 2),\n",
       " 102: (99, 3),\n",
       " 103: (101, 2),\n",
       " 104: (102, 2),\n",
       " 105: (99, 6),\n",
       " 106: (105, 1),\n",
       " 107: (105, 2),\n",
       " 108: (105, 3),\n",
       " 109: (99, 10),\n",
       " 110: (99, 11),\n",
       " 111: (110, 1),\n",
       " 112: (110, 2),\n",
       " 113: (110, 3),\n",
       " 114: (112, 2),\n",
       " 115: (113, 2),\n",
       " 116: (110, 6),\n",
       " 117: (116, 1),\n",
       " 118: (116, 2),\n",
       " 119: (116, 3),\n",
       " 120: (110, 10),\n",
       " 121: (110, 11),\n",
       " 122: (121, 1),\n",
       " 123: (121, 2),\n",
       " 124: (121, 3),\n",
       " 125: (123, 2),\n",
       " 126: (124, 2),\n",
       " 127: (121, 6),\n",
       " 128: (127, 1),\n",
       " 129: (127, 2),\n",
       " 130: (127, 3),\n",
       " 131: (121, 10),\n",
       " 132: (121, 11),\n",
       " 133: (132, 1),\n",
       " 134: (132, 2),\n",
       " 135: (132, 3),\n",
       " 136: (134, 2),\n",
       " 137: (135, 2),\n",
       " 138: (132, 6),\n",
       " 139: (138, 1),\n",
       " 140: (138, 2),\n",
       " 141: (138, 3),\n",
       " 142: (132, 10),\n",
       " 143: (132, 11),\n",
       " 144: (143, 1),\n",
       " 145: (143, 2),\n",
       " 146: (143, 3),\n",
       " 147: (145, 2),\n",
       " 148: (146, 2),\n",
       " 149: (143, 6),\n",
       " 150: (149, 1),\n",
       " 151: (149, 2),\n",
       " 152: (149, 3),\n",
       " 153: (143, 10),\n",
       " 154: (143, 11),\n",
       " 155: (154, 1),\n",
       " 156: (154, 2),\n",
       " 157: (154, 3),\n",
       " 158: (156, 2),\n",
       " 159: (157, 2),\n",
       " 160: (154, 6),\n",
       " 161: (160, 1),\n",
       " 162: (160, 2),\n",
       " 163: (160, 3),\n",
       " 164: (154, 10),\n",
       " 165: (154, 11),\n",
       " 166: (165, 1),\n",
       " 167: (165, 2),\n",
       " 168: (165, 3),\n",
       " 169: (167, 2),\n",
       " 170: (168, 2),\n",
       " 171: (165, 6),\n",
       " 172: (171, 1),\n",
       " 173: (171, 2),\n",
       " 174: (171, 3),\n",
       " 175: (165, 10),\n",
       " 176: (165, 11),\n",
       " 177: (176, 1),\n",
       " 178: (176, 2),\n",
       " 179: (176, 3),\n",
       " 180: (178, 2),\n",
       " 181: (179, 2),\n",
       " 182: (176, 6),\n",
       " 183: (182, 1),\n",
       " 184: (182, 2),\n",
       " 185: (182, 3),\n",
       " 186: (176, 10),\n",
       " 187: (176, 11),\n",
       " 188: (187, 1),\n",
       " 189: (187, 2),\n",
       " 190: (187, 3),\n",
       " 191: (189, 2),\n",
       " 192: (190, 2),\n",
       " 193: (187, 6),\n",
       " 194: (193, 1),\n",
       " 195: (193, 2),\n",
       " 196: (193, 3),\n",
       " 197: (187, 10),\n",
       " 198: (187, 11),\n",
       " 199: (198, 1),\n",
       " 200: (198, 2)}"
      ]
     },
     "execution_count": 12,
     "metadata": {},
     "output_type": "execute_result"
    }
   ],
   "source": [
    "solution"
   ]
  },
  {
   "cell_type": "code",
   "execution_count": 13,
   "metadata": {
    "collapsed": false
   },
   "outputs": [],
   "source": [
    "def parse_solution(n):\n",
    "    left_split, right_split = solution[n]\n",
    "    \n",
    "    if right_split == 0: return [left_split]\n",
    "#     return parse_solution(left_split) + parse_solution(right_split)\n",
    "    return parse_solution(left_split) + parse_solution(right_split)"
   ]
  },
  {
   "cell_type": "code",
   "execution_count": 14,
   "metadata": {
    "collapsed": false
   },
   "outputs": [
    {
     "data": {
      "text/plain": [
       "[11, 11, 11, 11, 11, 11, 11, 11, 11, 11, 11, 11, 11, 11, 11, 11, 11, 11, 2]"
      ]
     },
     "execution_count": 14,
     "metadata": {},
     "output_type": "execute_result"
    }
   ],
   "source": [
    "parse_solution(200)"
   ]
  },
  {
   "cell_type": "code",
   "execution_count": null,
   "metadata": {
    "collapsed": true
   },
   "outputs": [],
   "source": []
  },
  {
   "cell_type": "code",
   "execution_count": null,
   "metadata": {
    "collapsed": true
   },
   "outputs": [],
   "source": []
  }
 ],
 "metadata": {
  "anaconda-cloud": {},
  "kernelspec": {
   "display_name": "Python [conda env:Anaconda3]",
   "language": "python",
   "name": "conda-env-Anaconda3-py"
  },
  "language_info": {
   "codemirror_mode": {
    "name": "ipython",
    "version": 3
   },
   "file_extension": ".py",
   "mimetype": "text/x-python",
   "name": "python",
   "nbconvert_exporter": "python",
   "pygments_lexer": "ipython3",
   "version": "3.5.2"
  }
 },
 "nbformat": 4,
 "nbformat_minor": 1
}
