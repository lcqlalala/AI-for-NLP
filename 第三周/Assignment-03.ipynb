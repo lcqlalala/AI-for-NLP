{
 "cells": [
  {
   "cell_type": "markdown",
   "metadata": {},
   "source": [
    "## Lecture-03 Gradient Descent and Dymanic Programming"
   ]
  },
  {
   "cell_type": "markdown",
   "metadata": {},
   "source": [
    "In this week, we need complete following tasks:\n",
    "+ Re-review the course online programming; \n",
    "+ Choose 1 - 2 books which you interested and keep reading; \n",
    "+ Answer the review questions\n",
    "+ Prepare the basic requirement of our 1st project. "
   ]
  },
  {
   "cell_type": "markdown",
   "metadata": {},
   "source": [
    "### Part I Review the online programming. "
   ]
  },
  {
   "cell_type": "markdown",
   "metadata": {},
   "source": [
    "### Part 2: change loss function from $loss = \\frac{1}{n}\\sum{(y_i - \\hat(y_i))^2}$ to $loss = \\frac{1}{n}\\sum{|y_i - \\hat{y_i}|}$, and using your mathmatical knowledge to get the right partial formual. Implemen the gradient descent code."
   ]
  },
  {
   "cell_type": "code",
   "execution_count": 33,
   "metadata": {
    "collapsed": false
   },
   "outputs": [],
   "source": [
    "# def partial_k(x, y, y_hat):\n",
    "#     n = len(y)\n",
    "\n",
    "#     gradient = 0\n",
    "    \n",
    "#     for x_i, y_i, y_hat_i in zip(list(x), list(y), list(y_hat)):\n",
    "#         gradient += (y_i - y_hat_i) * x_i\n",
    "    \n",
    "#     return -2 / n * gradient\n",
    "\n",
    "\n",
    "# def partial_b(x, y, y_hat):\n",
    "#     n = len(y)\n",
    "\n",
    "#     gradient = 0\n",
    "    \n",
    "#     for y_i, y_hat_i in zip(list(y), list(y_hat)):\n",
    "#         gradient += (y_i - y_hat_i)\n",
    "    \n",
    "#     return -2 / n * gradient"
   ]
  },
  {
   "cell_type": "markdown",
   "metadata": {},
   "source": [
    "$$loss = \\frac{1}{n}\\sum{|y_i - \\hat{y_i}|}$$\n",
    "$$if y_i > \\hat(y_i)\\frac{\\partial{loss}}{\\partial{k}} = -\\frac{1}{n}\\sum x_i$$\n",
    "$$if y_i < \\hat(y_i)\\frac{\\partial{loss}}{\\partial{k}} = \\frac{1}{n}\\sum x_i$$\n",
    "\n",
    "$$if y_i > \\hat(y_i)\\frac{\\partial{loss}}{\\partial{k}} = \\frac{1}{n}\\sum -1$$\n",
    "$$if y_i < \\hat(y_i)\\frac{\\partial{loss}}{\\partial{k}} = \\frac{1}{n}\\sum 1$$"
   ]
  },
  {
   "cell_type": "code",
   "execution_count": 49,
   "metadata": {
    "collapsed": true
   },
   "outputs": [],
   "source": [
    "def partial_k(x, y, y_hat):\n",
    "    n = len(y)\n",
    "    result = 0\n",
    "    for x_i,y_i,y_hat_i in zip(list(x), list(y), list(y_hat)):\n",
    "        if y_i > y_hat_i:\n",
    "            result += -x_i\n",
    "        else:\n",
    "            result += x_i\n",
    "    return result / n\n",
    "\n",
    "def partial_b(x, y, y_hat):\n",
    "    n = len(y)\n",
    "    result = 0\n",
    "    for y_i,y_hat_i in zip( list(y), list(y_hat)):\n",
    "        if y_i > y_hat_i:\n",
    "            result += -1\n",
    "        else:\n",
    "            result += 1\n",
    "    return result / n"
   ]
  },
  {
   "cell_type": "code",
   "execution_count": 50,
   "metadata": {
    "collapsed": true
   },
   "outputs": [],
   "source": [
    "def price(rm, k, b):\n",
    "    \"\"\"f(x) = k * x + b\"\"\"\n",
    "    return k * rm + b  "
   ]
  },
  {
   "cell_type": "code",
   "execution_count": 51,
   "metadata": {
    "collapsed": true
   },
   "outputs": [],
   "source": [
    "def loss(y, y_hat): # to evaluate the performance \n",
    "    return sum((y_i - y_hat_i)**2 for y_i, y_hat_i in zip(list(y), list(y_hat))) / len(list(y))"
   ]
  },
  {
   "cell_type": "code",
   "execution_count": 57,
   "metadata": {
    "collapsed": false
   },
   "outputs": [
    {
     "name": "stdout",
     "output_type": "stream",
     "text": [
      "When time is : 0, get best_k: 81.41967890694613 best_b: -36.171861683761655, and the loss is: 207818.66411258953\n",
      "When time is : 50, get best_k: 78.2773617132703 best_b: -36.671861683761556, and the loss is: 189665.10140738837\n",
      "When time is : 100, get best_k: 75.13504451959446 best_b: -37.171861683761456, and the loss is: 172341.2570980417\n",
      "When time is : 150, get best_k: 71.99272732591862 best_b: -37.67186168376136, and the loss is: 155847.13118454878\n",
      "When time is : 200, get best_k: 68.85041013224279 best_b: -38.17186168376126, and the loss is: 140182.72366691034\n",
      "When time is : 250, get best_k: 65.70809293856695 best_b: -38.67186168376116, and the loss is: 125348.03454512649\n",
      "When time is : 300, get best_k: 62.56577574489111 best_b: -39.17186168376106, and the loss is: 111343.06381919666\n",
      "When time is : 350, get best_k: 59.423458551215276 best_b: -39.67186168376096, and the loss is: 98167.81148912109\n",
      "When time is : 400, get best_k: 56.28114135753944 best_b: -40.17186168376086, and the loss is: 85822.27755489989\n",
      "When time is : 450, get best_k: 53.1388241638636 best_b: -40.67186168376076, and the loss is: 74306.46201653285\n",
      "When time is : 500, get best_k: 49.99650697018777 best_b: -41.17186168376066, and the loss is: 63620.364874020204\n",
      "When time is : 550, get best_k: 46.85418977651193 best_b: -41.67186168376056, and the loss is: 53763.98612736167\n",
      "When time is : 600, get best_k: 43.711872582836094 best_b: -42.17186168376046, and the loss is: 44737.325776557474\n",
      "When time is : 650, get best_k: 40.56955538916026 best_b: -42.67186168376036, and the loss is: 36540.38382160747\n",
      "When time is : 700, get best_k: 37.42723819548442 best_b: -43.17186168376026, and the loss is: 29173.160262511894\n",
      "When time is : 750, get best_k: 34.284921001808584 best_b: -43.67186168376016, and the loss is: 22635.65509927045\n",
      "When time is : 800, get best_k: 31.142603808132748 best_b: -44.17186168376006, and the loss is: 16927.86833188331\n",
      "When time is : 850, get best_k: 28.00028661445691 best_b: -44.671861683759964, and the loss is: 12049.799960350425\n",
      "When time is : 900, get best_k: 24.857969420781075 best_b: -45.171861683759865, and the loss is: 8001.449984671816\n",
      "When time is : 950, get best_k: 21.715652227105238 best_b: -45.671861683759765, and the loss is: 4782.818404847477\n",
      "When time is : 1000, get best_k: 18.57999993461515 best_b: -46.17016207901668, and the loss is: 2398.1555215791855\n",
      "When time is : 1050, get best_k: 15.464378827895748 best_b: -46.6639960711115, and the loss is: 847.0493977809498\n",
      "When time is : 1100, get best_k: 12.426805744891787 best_b: -47.14371939126962, and the loss is: 119.96667390629798\n",
      "When time is : 1150, get best_k: 11.18320293856768 best_b: -47.33490516202061, and the loss is: 45.906309386595225\n",
      "When time is : 1200, get best_k: 11.149421989951085 best_b: -47.333363660044306, and the loss is: 45.70724244120368\n"
     ]
    }
   ],
   "source": [
    "from sklearn.datasets import load_boston\n",
    "data = load_boston()\n",
    "import random\n",
    "X_rm = X[:, 5]\n",
    "trying_times = 2000\n",
    "\n",
    "X, y = data['data'], data['target']\n",
    "\n",
    "min_loss = float('inf') \n",
    "\n",
    "current_k = random.random() * 200 - 100\n",
    "current_b = random.random() * 200 - 100\n",
    "\n",
    "learning_rate = 1e-02    #修改了学习率\n",
    "\n",
    "\n",
    "update_time = 0\n",
    "\n",
    "for i in range(trying_times):\n",
    "    \n",
    "    price_by_k_and_b = [price(r, current_k, current_b) for r in X_rm]\n",
    "    \n",
    "    current_loss = loss(y, price_by_k_and_b)\n",
    "\n",
    "    if current_loss < min_loss: # performance became better\n",
    "        min_loss = current_loss\n",
    "        \n",
    "        if i % 50 == 0: \n",
    "            print('When time is : {}, get best_k: {} best_b: {}, and the loss is: {}'.format(i, current_k, current_b, min_loss))\n",
    "\n",
    "    k_gradient = partial_k(X_rm, y, price_by_k_and_b)\n",
    "    \n",
    "    b_gradient = partial_b(X_rm, y, price_by_k_and_b)\n",
    "    \n",
    "    current_k = current_k + (-1 * k_gradient) * learning_rate\n",
    "\n",
    "    current_b = current_b + (-1 * b_gradient) * learning_rate"
   ]
  },
  {
   "cell_type": "markdown",
   "metadata": {},
   "source": [
    "### Part 3: Finish the Solution Parse Part of Edit-Distance(未完成)"
   ]
  },
  {
   "cell_type": "markdown",
   "metadata": {},
   "source": [
    "理解：edit_distance 总体思路是动态规划。两个字符串对比 要使得两个字符串相等对每一个不同字符的位置的操作有三种可能 删除掉一个字符串，增加一个字符串，替换一个字符串，总体思想及时每次操作下一个时 操作它前面字符的操作次数 等于之前所有可能操作的最小值，以此累推下去 即可得到最短的距离\""
   ]
  },
  {
   "cell_type": "code",
   "execution_count": 4,
   "metadata": {
    "collapsed": true
   },
   "outputs": [],
   "source": [
    "solution = {}"
   ]
  },
  {
   "cell_type": "code",
   "execution_count": 5,
   "metadata": {
    "collapsed": false
   },
   "outputs": [],
   "source": [
    "from functools import lru_cache\n",
    "@lru_cache(maxsize=2**10)\n",
    "def edit_distance(string1, string2):\n",
    "    \n",
    "    if len(string1) == 0: return len(string2)\n",
    "    if len(string2) == 0: return len(string1)\n",
    "    \n",
    "    tail_s1 = string1[-1]\n",
    "    tail_s2 = string2[-1]\n",
    "    \n",
    "    candidates = [\n",
    "        (edit_distance(string1[:-1], string2) + 1, 'DEL {}'.format(tail_s1)),  # string 1 delete tail\n",
    "        (edit_distance(string1, string2[:-1]) + 1, 'ADD {}'.format(tail_s2)),  # string 1 add tail of string2\n",
    "    ]\n",
    "    \n",
    "    if tail_s1 == tail_s2:\n",
    "        both_forward = (edit_distance(string1[:-1], string2[:-1]) + 0, '')\n",
    "    else:\n",
    "        both_forward = (edit_distance(string1[:-1], string2[:-1]) + 1, 'SUB {} => {}'.format(tail_s1, tail_s2))\n",
    "\n",
    "    candidates.append(both_forward)\n",
    "    \n",
    "    min_distance, operation = min(candidates, key=lambda x: x[0])\n",
    "    \n",
    "    solution[(string1, string2)] = operation \n",
    "    \n",
    "    return min_distance"
   ]
  },
  {
   "cell_type": "code",
   "execution_count": 6,
   "metadata": {
    "collapsed": false
   },
   "outputs": [
    {
     "data": {
      "text/plain": [
       "2"
      ]
     },
     "execution_count": 6,
     "metadata": {},
     "output_type": "execute_result"
    }
   ],
   "source": [
    "edit_distance('ABCDE', 'ABCCEF')"
   ]
  },
  {
   "cell_type": "code",
   "execution_count": 7,
   "metadata": {
    "collapsed": false
   },
   "outputs": [
    {
     "data": {
      "text/plain": [
       "1"
      ]
     },
     "execution_count": 7,
     "metadata": {},
     "output_type": "execute_result"
    }
   ],
   "source": [
    "edit_distance('ATCGGAA', 'ATCGGGA')"
   ]
  },
  {
   "cell_type": "code",
   "execution_count": 8,
   "metadata": {
    "collapsed": true
   },
   "outputs": [],
   "source": [
    "def Levenshtein_Distance_Recursive(str1, str2):\n",
    "\n",
    "    if len(str1) == 0:\n",
    "        return len(str2)\n",
    "    elif len(str2) == 0:\n",
    "        return len(str1)\n",
    "    elif str1 == str2:\n",
    "        return 0\n",
    "\n",
    "    if str1[len(str1)-1] == str2[len(str2)-1]:\n",
    "        d = 0\n",
    "    else:\n",
    "        d = 1\n",
    "    \n",
    "    return min(Levenshtein_Distance_Recursive(str1, str2[:-1]) + 1,\n",
    "                Levenshtein_Distance_Recursive(str1[:-1], str2) + 1,\n",
    "                Levenshtein_Distance_Recursive(str1[:-1], str2[:-1]) + d)\n"
   ]
  },
  {
   "cell_type": "code",
   "execution_count": 9,
   "metadata": {
    "collapsed": false
   },
   "outputs": [
    {
     "name": "stdout",
     "output_type": "stream",
     "text": [
      "2\n"
     ]
    }
   ],
   "source": [
    "print(Levenshtein_Distance_Recursive(\"abc\", \"bd\"))"
   ]
  },
  {
   "cell_type": "markdown",
   "metadata": {},
   "source": [
    "### Part 4 Choose 1 - 2 books to keep reading: \n",
    "\n",
    "+ SICP, Structure and Interpretation of Computer Programming. \n",
    "+ Introduction to Algorithms \n",
    "+ Artificial Intelligence A Modern Approach (3rd Edition) \n",
    "+ Code Complete 2 \n",
    "+ Programming Pearls \n",
    "+ Deep Learning\n",
    "+ 黑客与画家\n",
    "+ 数学之美\n",
    "+ Fluent Python\n",
    "+ Hands on Tensorflow\n",
    "+ Conference: NIPS_ ICML_ ICLR_ ACL_ AAAI\n",
    "\n",
    "> most books you may find in our github: https://github.com/Computing-Intelligence/References"
   ]
  },
  {
   "cell_type": "markdown",
   "metadata": {},
   "source": [
    "## Part 5-1: review machine learning"
   ]
  },
  {
   "cell_type": "markdown",
   "metadata": {},
   "source": [
    "1. Why do we use Derivative / Gredient to fit a target function?¶"
   ]
  },
  {
   "cell_type": "markdown",
   "metadata": {},
   "source": [
    "Ans:使用导数，可以确定正确的下降方向并且下降速度最快"
   ]
  },
  {
   "cell_type": "markdown",
   "metadata": {},
   "source": [
    "2. In the words 'Gredient Descent', what's the Gredient and what's the Descent?¶"
   ]
  },
  {
   "cell_type": "markdown",
   "metadata": {},
   "source": [
    "Ans:梯度指导数，下降指沿着导数方向减小权重大小"
   ]
  },
  {
   "cell_type": "markdown",
   "metadata": {},
   "source": [
    "\n",
    "3. What's the advantages of the 3rd gradient descent method compared to the previous methods?"
   ]
  },
  {
   "cell_type": "markdown",
   "metadata": {},
   "source": [
    "Ans:下降方向和下降速度"
   ]
  },
  {
   "cell_type": "markdown",
   "metadata": {},
   "source": [
    "4. Using the simple words to describe: What's the machine leanring.¶"
   ]
  },
  {
   "cell_type": "markdown",
   "metadata": {},
   "source": [
    "Ans:利用数据机器拟合出正确函数"
   ]
  },
  {
   "cell_type": "markdown",
   "metadata": {},
   "source": [
    "### Part 5: Answer following questions: "
   ]
  },
  {
   "cell_type": "markdown",
   "metadata": {},
   "source": [
    "1. Why do we need dynamic programming? What's the difference of dynamic programming and previous talked `search` problme? "
   ]
  },
  {
   "cell_type": "markdown",
   "metadata": {},
   "source": [
    "Ans："
   ]
  },
  {
   "cell_type": "markdown",
   "metadata": {},
   "source": [
    "2. Why do we still need dynamic programming? Why not we train a machine learning to fit a function which could get the `right` answer based on inputs?"
   ]
  },
  {
   "cell_type": "markdown",
   "metadata": {},
   "source": []
  },
  {
   "cell_type": "markdown",
   "metadata": {},
   "source": [
    "3. Can you catch up at least 3 problems which could solved by Dynamic Programming? "
   ]
  },
  {
   "cell_type": "markdown",
   "metadata": {},
   "source": [
    "0-1背包问题、最长公共序列数、最短路径"
   ]
  },
  {
   "cell_type": "markdown",
   "metadata": {},
   "source": [
    "4. Can you catch up at least 3 problems wich could sloved by Edit Distance? "
   ]
  },
  {
   "cell_type": "markdown",
   "metadata": {},
   "source": []
  },
  {
   "cell_type": "markdown",
   "metadata": {},
   "source": [
    "5. Please summarize the three main features of Dynamic Programming, and make a concise explain for each feature. "
   ]
  },
  {
   "cell_type": "markdown",
   "metadata": {},
   "source": [
    "$最优子结构：问题的最优解所包含的子问题的解也是最优的$\n",
    "$重叠子问题：自顶向下对问题进行求解时，每次产生的子问题并不总是新问题，有些子问题会被重复计算多次。动态规划算法对每一个子问题只计算一次，然后$          $将其计算结果保存在一个表格中，当再次需要计算已经计算过的子问题时，只是在表格中简单地查看一下结果，从而获得较高的效率。$\n",
    "$无后效性：  即某阶段状态一旦确定，就不受这个状态以后决策的影响。也就是说，某状态以后的过程不会影响以前的状态，只与当前状态有关$"
   ]
  },
  {
   "cell_type": "markdown",
   "metadata": {},
   "source": [
    "6. What's the disadvantages of Dynamic Programming? (You may need search by yourself in Internet)"
   ]
  },
  {
   "cell_type": "markdown",
   "metadata": {},
   "source": [
    "$不同问题的阶段划分、状态识别等内容常需要不同的方法，无统一方法。没有统一的标准模型$\n",
    "$存在“维数障碍”$"
   ]
  },
  {
   "cell_type": "markdown",
   "metadata": {},
   "source": [
    "## Part 6 Preparation of Project-01"
   ]
  },
  {
   "cell_type": "markdown",
   "metadata": {},
   "source": [
    "1. Using python Flask or Bottle to finish your first simple web app:\n",
    "> https://bottlepy.org/\n",
    "\n",
    "2. Learn what's the SQL, and try some simple SQL operations:\n",
    "> https://www.w3schools.com/sql/sql_intro.asp\n",
    "\n",
    "3. Learn what's the HTML ( *ONLY* need to know the basic things)\n",
    "> https://getbootstrap.com/; https://www.w3schools.com/html/"
   ]
  },
  {
   "cell_type": "markdown",
   "metadata": {},
   "source": [
    "### (Optinal) Finish the k-person-salesman problem:"
   ]
  },
  {
   "cell_type": "code",
   "execution_count": 7,
   "metadata": {
    "collapsed": true
   },
   "outputs": [],
   "source": [
    "import random\n",
    "import matplotlib.pylab as plt"
   ]
  },
  {
   "cell_type": "code",
   "execution_count": 8,
   "metadata": {
    "collapsed": true
   },
   "outputs": [],
   "source": [
    "latitudes = [random.randint(-100, 100) for _ in range(20)]\n",
    "longitude = [random.randint(-100, 100) for _ in range(20)]"
   ]
  },
  {
   "cell_type": "code",
   "execution_count": 9,
   "metadata": {
    "collapsed": false
   },
   "outputs": [
    {
     "data": {
      "text/plain": [
       "<matplotlib.collections.PathCollection at 0x11da1c588>"
      ]
     },
     "execution_count": 9,
     "metadata": {},
     "output_type": "execute_result"
    },
    {
     "data": {
      "image/png": "[encoded data removed]",
      "text/plain": [
       "<Figure size 432x288 with 1 Axes>"
      ]
     },
     "metadata": {
      "needs_background": "light"
     },
     "output_type": "display_data"
    }
   ],
   "source": [
    "plt.scatter(latitudes, longitude)"
   ]
  },
  {
   "cell_type": "markdown",
   "metadata": {},
   "source": [
    "给定一个初始点 𝑃, 已经 𝑘个车辆，如何从该点出发，经这 k 个车辆经过所以的点全部一次，而且所走过的路程最短?\n",
    "\n",
    "例如："
   ]
  },
  {
   "cell_type": "code",
   "execution_count": 14,
   "metadata": {
    "collapsed": true
   },
   "outputs": [],
   "source": [
    "chosen_p = (-50, 10)\n",
    "chosen_p2 = (1, 30)\n",
    "chosen_p3 = (99, 15)"
   ]
  },
  {
   "cell_type": "code",
   "execution_count": 4,
   "metadata": {
    "collapsed": true
   },
   "outputs": [],
   "source": [
    "import matplotlib.pyplot as plt"
   ]
  },
  {
   "cell_type": "code",
   "execution_count": 15,
   "metadata": {
    "collapsed": false,
    "scrolled": true
   },
   "outputs": [
    {
     "data": {
      "text/plain": [
       "<matplotlib.collections.PathCollection at 0x11dbbd470>"
      ]
     },
     "execution_count": 15,
     "metadata": {},
     "output_type": "execute_result"
    },
    {
     "data": {
      "image/png": "[encoded data removed]",
      "text/plain": [
       "<Figure size 432x288 with 1 Axes>"
      ]
     },
     "metadata": {
      "needs_background": "light"
     },
     "output_type": "display_data"
    }
   ],
   "source": [
    "plt.scatter(latitudes, longitude)\n",
    "plt.scatter([chosen_p[0]], [chosen_p[1]], color='r')\n",
    "plt.scatter([chosen_p2[0]], [chosen_p2[1]], color='r')\n",
    "plt.scatter([chosen_p3[0]], [chosen_p3[1]], color='r')"
   ]
  },
  {
   "cell_type": "markdown",
   "metadata": {},
   "source": [
    "shuro"
   ]
  }
 ],
 "metadata": {
  "anaconda-cloud": {},
  "kernelspec": {
   "display_name": "Python [default]",
   "language": "python",
   "name": "python3"
  },
  "language_info": {
   "codemirror_mode": {
    "name": "ipython",
    "version": 3
   },
   "file_extension": ".py",
   "mimetype": "text/x-python",
   "name": "python",
   "nbconvert_exporter": "python",
   "pygments_lexer": "ipython3",
   "version": "3.5.6"
  }
 },
 "nbformat": 4,
 "nbformat_minor": 2
}
